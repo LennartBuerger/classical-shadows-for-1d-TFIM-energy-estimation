{
 "cells": [
  {
   "cell_type": "code",
   "execution_count": 78,
   "metadata": {
    "collapsed": true
   },
   "outputs": [],
   "source": [
    "import numpy as np\n",
    "import torch as pt\n",
    "from matplotlib import pyplot as plt\n",
    "import sys\n",
    "from pathlib import Path\n",
    "import src.constants as constants\n",
    "import sys\n",
    "from display_data.data_acquisition_shadow import derandomized_classical_shadow, randomized_classical_shadow\n",
    "from display_data.prediction_shadow import estimate_exp\n",
    "sys.path.append(Path('../src'))\n",
    "from src.mps import MPS\n",
    "from src.tfim_hamiltonian_open_fermion import TfimHamiltonianOpenFermion\n",
    "from src.mps_quantum_state import MPSQuantumState"
   ]
  },
  {
   "cell_type": "code",
   "execution_count": 79,
   "outputs": [],
   "source": [
    "# this function converts the stored measurement outcomes to the correct shape needed for the shadow prediction\n",
    "def conversion_to_prediction_shadow_dict_shape(measurement_procedure, measurement_index, qubit_num):\n",
    "    to_str_func = np.vectorize(lambda x: np.binary_repr(x).zfill(qubit_num))\n",
    "    strs = to_str_func(measurement_index)\n",
    "    dirac_rep = np.zeros(list(measurement_index.shape) + [qubit_num], dtype=np.int8)\n",
    "    for bit_ix in range(0, qubit_num):\n",
    "        fetch_bit_func = np.vectorize(lambda x: x[bit_ix] == '1')\n",
    "        dirac_rep[...,bit_ix] = fetch_bit_func(strs).astype(\"int8\")\n",
    "    measurement_array = np.where(dirac_rep == 1, -1, dirac_rep)\n",
    "    measurement_array = np.where(dirac_rep == 0, 1, measurement_array)\n",
    "    measurement = np.dstack((measurement_procedure, np.array(measurement_array, dtype=int)))\n",
    "    return measurement"
   ],
   "metadata": {
    "collapsed": false,
    "pycharm": {
     "name": "#%%\n"
    }
   }
  },
  {
   "cell_type": "code",
   "execution_count": 82,
   "outputs": [],
   "source": [
    "ratio_h_j = 1.0\n",
    "qubit_num = 14\n",
    "save_direc_groundstate = Path('data/Diagonal_hamiltonian/groundstate_dict.npy')\n",
    "ground_state_dict = np.load(save_direc_groundstate, allow_pickle='TRUE')\n",
    "ground_state_dict = ground_state_dict.item()\n",
    "ground_state = ground_state_dict[str(1)]['open'][str(qubit_num)][str(ratio_h_j)]\n",
    "mps = MPS.from_state_vector(qubit_num, ground_state)\n",
    "mps.normalise()\n",
    "mps.orth_idx = 0\n",
    "mps.canonicalise(qubit_num - 1)"
   ],
   "metadata": {
    "collapsed": false,
    "pycharm": {
     "name": "#%%\n"
    }
   }
  },
  {
   "cell_type": "code",
   "execution_count": 83,
   "outputs": [
    {
     "name": "stdout",
     "output_type": "stream",
     "text": [
      "-17.471004054732024\n"
     ]
    }
   ],
   "source": [
    "save_direc_eigs = Path('data/Diagonal_hamiltonian/eigenvalues_first_three_dict.npy')\n",
    "energy_dict = np.load(save_direc_eigs, allow_pickle=True)\n",
    "energy_dict = energy_dict.item()\n",
    "energy_brute = energy_dict[str(1)]['open'][str(qubit_num)][str(ratio_h_j)][0]\n",
    "print(energy_brute)"
   ],
   "metadata": {
    "collapsed": false,
    "pycharm": {
     "name": "#%%\n"
    }
   }
  },
  {
   "cell_type": "markdown",
   "source": [
    "## Comparison of modified shadows vs original shadows"
   ],
   "metadata": {
    "collapsed": false,
    "pycharm": {
     "name": "#%% md\n"
    }
   }
  },
  {
   "cell_type": "code",
   "execution_count": 66,
   "outputs": [
    {
     "name": "stdout",
     "output_type": "stream",
     "text": [
      "starting batch 0\n",
      "starting batch 0\n",
      "starting batch 0\n",
      "starting batch 0\n"
     ]
    }
   ],
   "source": [
    "# 100s for one batch\n",
    "#modified shadows\n",
    "qubit_num = 14\n",
    "batches = 1\n",
    "some_ratios = np.array([0.1, 1.0])\n",
    "num_of_measurements = np.array([10, 20, 50, 100, 140])\n",
    "num_of_measurements_per_rot = np.array([10, 20, 50, 100, 140])\n",
    "meas_methods = ['randomized', 'derandomized']\n",
    "rel_error_modified = np.zeros((np.size(num_of_measurements), batches, np.size(meas_methods), np.size(some_ratios)))\n",
    "for s in range(np.size(some_ratios)):\n",
    "    ground_state = ground_state_dict[str(1)]['open'][str(qubit_num)][str(some_ratios[s])]\n",
    "    mps = MPS.from_state_vector(qubit_num, ground_state)\n",
    "    mps.normalise()\n",
    "    mps.orth_idx = 0\n",
    "    mps.canonicalise(qubit_num - 1)\n",
    "    for l in range(0,2):\n",
    "        if meas_methods[l] == 'derandomized':\n",
    "            num_of_measurements = 2 * np.ones(np.size(num_of_measurements))\n",
    "            num_of_measurements_per_rot = (num_of_measurements * num_of_measurements_per_rot) / 2\n",
    "        for b in range(batches):\n",
    "            print('starting batch ' + str(b))\n",
    "            for i in range(np.size(num_of_measurements)):\n",
    "                observables = TfimHamiltonianOpenFermion(qubit_num, ratio_h_j, 1, 'open').observables_for_energy_estimation()\n",
    "                meas_outcomes, meas_procedure, probs = MPSQuantumState(qubit_num, mps).measurement_shadow(int(num_of_measurements[i]), int(num_of_measurements_per_rot[i]), meas_methods[l], observables)\n",
    "                energies = pt.zeros(len(meas_outcomes))\n",
    "                for n in range(len(meas_outcomes)):\n",
    "                    probs_direct = MPSQuantumState(qubit_num, mps).rotate_pauli(meas_procedure[n]).prob(pt.tensor(meas_outcomes[n]))\n",
    "                    measurements = conversion_to_prediction_shadow_dict_shape([meas_procedure[n]]*len(meas_outcomes[n]), np.array(meas_outcomes[n]), qubit_num)\n",
    "                    energies[n] = TfimHamiltonianOpenFermion(qubit_num, some_ratios[s], 1, 'open').energy_shadow_mps_modified(measurements, probs_direct, meas_methods[l])\n",
    "                energy = pt.mean(energies)\n",
    "                energy_brute = energy_dict[str(1)]['open'][str(qubit_num)][str(some_ratios[s])][0]\n",
    "                rel_error_modified[i,b,l,s] = np.abs(energy - energy_brute) / np.abs(energy_brute)"
   ],
   "metadata": {
    "collapsed": false,
    "pycharm": {
     "name": "#%%\n"
    }
   }
  },
  {
   "cell_type": "code",
   "execution_count": 10,
   "outputs": [],
   "source": [
    "#unmodified classical shadows\n",
    "num_of_measurements = np.array([50, 100, 200, 300, 500, 700, 1000, 1500, 2000, 5000, 7000, 10000, 20000])\n",
    "batches = 50\n",
    "errors = np.zeros((batches, np.size(num_of_measurements), np.size(meas_methods), np.size(some_ratios)))\n",
    "for s in range(0, np.size(some_ratios)):\n",
    "    for l in range(0, 2):\n",
    "        energy_shadow = np.zeros(np.size(num_of_measurements))\n",
    "        energy_brute = energy_dict[str(1)]['periodic'][str(qubit_num)][str(some_ratios[s])][0] * np.ones(np.size(num_of_measurements))\n",
    "        save_direc_procedure = Path('data/shadow_measurements/measurement_procedure_ratio_'+\\\n",
    "                              str(some_ratios[s])+'_qubit_num_'+str(qubit_num)+'_method_'+meas_methods[l]+'.npy')\n",
    "        save_direc_index = Path('data/shadow_measurements/measurement_index_ratio_'+\\\n",
    "                              str(some_ratios[s])+'_qubit_num_'+str(qubit_num)+'_method_'+meas_methods[l]+'.npy')\n",
    "        measurement_procedure = np.lib.format.open_memmap(save_direc_procedure, dtype=np.str_, mode='r')\n",
    "        measurement_index = np.lib.format.open_memmap(save_direc_index, dtype=np.int32, mode='r')\n",
    "        for k in range(0, batches):\n",
    "            for j in range(0, np.size(num_of_measurements)):\n",
    "                measurements = conversion_to_prediction_shadow_dict_shape(measurement_procedure[k*num_of_measurements[j]:(k+1)*num_of_measurements[j]],\n",
    "                                                                          measurement_index[k*num_of_measurements[j]:(k+1)*num_of_measurements[j]], qubit_num)\n",
    "                energy_shadow[j] = TfimHamiltonianOpenFermion(qubit_num,some_ratios[s], 1, 'periodic').energy_shadow(None,num_of_measurements[j],meas_methods[l], measurements)\n",
    "            errors[k,:, l, s] = np.abs(energy_shadow - energy_brute) / np.abs(energy_brute)"
   ],
   "metadata": {
    "collapsed": false,
    "pycharm": {
     "name": "#%%\n"
    }
   }
  },
  {
   "cell_type": "code",
   "execution_count": 11,
   "outputs": [
    {
     "data": {
      "text/plain": "<Figure size 1008x360 with 2 Axes>",
      "image/png": "[encoded data removed]"
     },
     "metadata": {
      "needs_background": "light"
     },
     "output_type": "display_data"
    }
   ],
   "source": [
    "num_of_measurements = np.array([50, 100, 200, 300, 500, 700, 1000, 1500, 2000, 5000, 7000, 10000, 20000])\n",
    "fig, axs = plt.subplots(1, 2)\n",
    "fig.set_figheight(5)\n",
    "fig.set_figwidth(14)\n",
    "fig.suptitle('relative error $\\epsilon$ in the prediction of energy against the total number of measurements N, ' + str(qubit_num) + ' qubits')\n",
    "error_mean_orig = np.mean(errors, axis=0)\n",
    "error_std_orig = np.std(errors, axis=0)\n",
    "for s in range(np.size(some_ratios)):\n",
    "    for l in range(0,2):\n",
    "        axs[l].errorbar(num_of_measurements, error_mean_orig[:,l, s], label = 'original shadows, ratio ' + str(some_ratios[s]))\n",
    "        axs[l].fill_between(num_of_measurements, error_mean_orig[:,l, s] - error_std_orig[:,l, s], error_mean_orig[:,l,s] + error_std_orig[:,l,s], alpha = 0.3)\n",
    "\n",
    "num_of_measurements = np.array([10, 20, 50, 100, 140])\n",
    "num_of_measurements_per_rot = np.array([10, 20, 50, 100, 140])\n",
    "rel_error_mean = np.mean(rel_error_modified, axis=1)\n",
    "rel_error_std = np.mean(rel_error_modified, axis=1)\n",
    "for s in range(np.size(some_ratios)):\n",
    "    for l in range(0,2):\n",
    "        axs[l].plot(num_of_measurements*num_of_measurements_per_rot, rel_error_mean[:,l, s], label='modified shadows, ratio ' + str(some_ratios[s]))\n",
    "        axs[l].fill_between(num_of_measurements*num_of_measurements_per_rot, rel_error_mean[:,l, s] - rel_error_std[:,l, s], rel_error_mean[:,l,s] + rel_error_std[:,l,s], alpha=0.3)\n",
    "        axs[l].set(yscale='log', xscale='log', xlabel='N', ylabel='$\\epsilon$')\n",
    "        axs[l].set_title(meas_methods[l])\n",
    "        axs[l].legend()"
   ],
   "metadata": {
    "collapsed": false,
    "pycharm": {
     "name": "#%%\n"
    }
   }
  },
  {
   "cell_type": "code",
   "execution_count": 12,
   "outputs": [
    {
     "name": "stdout",
     "output_type": "stream",
     "text": [
      "starting batch 0\n",
      "starting batch 1\n",
      "starting batch 0\n",
      "starting batch 1\n"
     ]
    }
   ],
   "source": [
    "# now we look at the performance of derandomized shadows alone\n",
    "#modified shadows\n",
    "qubit_num = 14\n",
    "batches = 2\n",
    "some_ratios = np.array([0.1, 1.0])\n",
    "num_of_measurements_per_rot = np.array([10, 20, 50, 100, 200, 500, 1000, 2000, 5000, 10000])\n",
    "num_of_measurements = 2 * np.ones(np.size(num_of_measurements_per_rot))\n",
    "meas_methods = ['derandomized']\n",
    "rel_error_modified = np.zeros((np.size(num_of_measurements), batches, np.size(meas_methods), np.size(some_ratios)))\n",
    "for s in range(np.size(some_ratios)):\n",
    "    ground_state = ground_state_dict[str(1)]['open'][str(qubit_num)][str(some_ratios[s])]\n",
    "    mps = MPS.from_state_vector(qubit_num, ground_state)\n",
    "    mps.normalise()\n",
    "    mps.orth_idx = 0\n",
    "    mps.canonicalise(qubit_num - 1)\n",
    "    for l in range(0,1):\n",
    "        for b in range(batches):\n",
    "            print('starting batch ' + str(b))\n",
    "            for i in range(np.size(num_of_measurements)):\n",
    "                observables = TfimHamiltonianOpenFermion(qubit_num, some_ratios[s], 1, 'open').observables_for_energy_estimation()\n",
    "                meas_outcomes, meas_procedure, probs = MPSQuantumState(qubit_num, mps).measurement_shadow(int(num_of_measurements[i]), int(num_of_measurements_per_rot[i]), meas_methods[l], observables)\n",
    "                energies = pt.zeros(len(meas_outcomes))\n",
    "                for n in range(len(meas_outcomes)):\n",
    "                    probs_direct = MPSQuantumState(qubit_num, mps).rotate_pauli(meas_procedure[n]).prob(pt.tensor(meas_outcomes[n]))\n",
    "                    measurements = conversion_to_prediction_shadow_dict_shape([meas_procedure[n]]*len(meas_outcomes[n]), np.array(meas_outcomes[n]), qubit_num)\n",
    "                    energies[n] = TfimHamiltonianOpenFermion(qubit_num, some_ratios[s], 1, 'open').energy_shadow_mps_modified(measurements, probs_direct, meas_methods[l])\n",
    "                energy = pt.mean(energies)\n",
    "                energy_brute = energy_dict[str(1)]['open'][str(qubit_num)][str(some_ratios[s])][0]\n",
    "                rel_error_modified[i,b,l,s] = np.abs(energy - energy_brute) / np.abs(energy_brute)"
   ],
   "metadata": {
    "collapsed": false,
    "pycharm": {
     "name": "#%%\n"
    }
   }
  },
  {
   "cell_type": "code",
   "execution_count": 13,
   "outputs": [
    {
     "data": {
      "text/plain": "<Figure size 504x360 with 1 Axes>",
      "image/png": "[encoded data removed]"
     },
     "metadata": {
      "needs_background": "light"
     },
     "output_type": "display_data"
    }
   ],
   "source": [
    "rel_error_mean = np.mean(rel_error_modified, axis=1)\n",
    "rel_error_std = np.mean(rel_error_modified, axis=1)\n",
    "fig, axs = plt.subplots(1, 1)\n",
    "fig.set_figheight(5)\n",
    "fig.set_figwidth(7)\n",
    "fig.suptitle('relative error $\\epsilon$ in the prediction of energy against the total number of measurements N')\n",
    "for s in range(np.size(some_ratios)):\n",
    "    for l in range(0,1):\n",
    "        axs.plot(num_of_measurements*num_of_measurements_per_rot, rel_error_mean[:,l, s], label='modified shadows, ratio ' + str(some_ratios[s]))\n",
    "        axs.fill_between(num_of_measurements*num_of_measurements_per_rot, rel_error_mean[:,l, s] - rel_error_std[:,l, s], rel_error_mean[:,l,s] + rel_error_std[:,l,s], alpha=0.3)\n",
    "        axs.set(yscale='log', xscale='log', xlabel='N', ylabel='$\\epsilon$')\n",
    "        axs.set_title(meas_methods[l])\n",
    "        axs.legend()"
   ],
   "metadata": {
    "collapsed": false,
    "pycharm": {
     "name": "#%%\n"
    }
   }
  },
  {
   "cell_type": "markdown",
   "source": [
    "## Gradient Estimation with Classical Shadows"
   ],
   "metadata": {
    "collapsed": false,
    "pycharm": {
     "name": "#%% md\n"
    }
   }
  },
  {
   "cell_type": "code",
   "execution_count": 67,
   "outputs": [],
   "source": [
    "# now we try to estimate the gradient directly by contracting the mps with hamiltonian\n",
    "#generate a random tensor list\n",
    "bond_dim = 50\n",
    "tensor_liste_rand = [pt.rand([1, 2, bond_dim], dtype=pt.cdouble)]\n",
    "for idx in range(qubit_num - 2):\n",
    "    tensor_liste_rand.append(pt.rand([bond_dim, 2, bond_dim], dtype=pt.cdouble))\n",
    "tensor_liste_rand.append(pt.rand([bond_dim, 2, 1], dtype=pt.cdouble))\n",
    "mps = MPS.from_tensor_list(tensor_liste_rand)\n",
    "mps.normalise()\n",
    "mps.orth_idx = 0\n",
    "mps.canonicalise(qubit_num - 1)\n",
    "param_vec = mps.to_param_vec()\n",
    "# we only needed this param vec to determine the size of the tensor\n",
    "random_param_vec = pt.rand(param_vec.shape[0], dtype=pt.cdouble)"
   ],
   "metadata": {
    "collapsed": false,
    "pycharm": {
     "name": "#%%\n"
    }
   }
  },
  {
   "cell_type": "code",
   "execution_count": 68,
   "outputs": [
    {
     "name": "stdout",
     "output_type": "stream",
     "text": [
      "starting batch 0\n",
      "starting batch 0\n"
     ]
    },
    {
     "ename": "KeyboardInterrupt",
     "evalue": "",
     "output_type": "error",
     "traceback": [
      "\u001B[1;31m---------------------------------------------------------------------------\u001B[0m",
      "\u001B[1;31mKeyboardInterrupt\u001B[0m                         Traceback (most recent call last)",
      "\u001B[1;32m<ipython-input-68-4d739335e40f>\u001B[0m in \u001B[0;36m<module>\u001B[1;34m\u001B[0m\n\u001B[0;32m     51\u001B[0m                     \u001B[0menergies\u001B[0m\u001B[1;33m[\u001B[0m\u001B[0mn\u001B[0m\u001B[1;33m]\u001B[0m \u001B[1;33m=\u001B[0m \u001B[0mTfimHamiltonianOpenFermion\u001B[0m\u001B[1;33m(\u001B[0m\u001B[0mqubit_num\u001B[0m\u001B[1;33m,\u001B[0m \u001B[0msome_ratios\u001B[0m\u001B[1;33m[\u001B[0m\u001B[0mh\u001B[0m\u001B[1;33m]\u001B[0m\u001B[1;33m,\u001B[0m \u001B[1;36m1\u001B[0m\u001B[1;33m,\u001B[0m \u001B[1;34m'open'\u001B[0m\u001B[1;33m)\u001B[0m\u001B[1;33m.\u001B[0m\u001B[0menergy_shadow_mps_modified\u001B[0m\u001B[1;33m(\u001B[0m\u001B[0mmeasurements\u001B[0m\u001B[1;33m,\u001B[0m \u001B[0mprobs_direct\u001B[0m\u001B[1;33m,\u001B[0m \u001B[1;34m'derandomized'\u001B[0m\u001B[1;33m)\u001B[0m\u001B[1;33m\u001B[0m\u001B[1;33m\u001B[0m\u001B[0m\n\u001B[0;32m     52\u001B[0m                 \u001B[0menergy_shadow\u001B[0m \u001B[1;33m=\u001B[0m \u001B[0mpt\u001B[0m\u001B[1;33m.\u001B[0m\u001B[0mmean\u001B[0m\u001B[1;33m(\u001B[0m\u001B[0menergies\u001B[0m\u001B[1;33m)\u001B[0m\u001B[1;33m\u001B[0m\u001B[1;33m\u001B[0m\u001B[0m\n\u001B[1;32m---> 53\u001B[1;33m                 \u001B[0menergy_shadow\u001B[0m\u001B[1;33m.\u001B[0m\u001B[0mbackward\u001B[0m\u001B[1;33m(\u001B[0m\u001B[1;33m)\u001B[0m\u001B[1;33m\u001B[0m\u001B[1;33m\u001B[0m\u001B[0m\n\u001B[0m\u001B[0;32m     54\u001B[0m                 \u001B[0merrors\u001B[0m\u001B[1;33m[\u001B[0m\u001B[0mj\u001B[0m\u001B[1;33m,\u001B[0m\u001B[0mb\u001B[0m\u001B[1;33m,\u001B[0m\u001B[0mh\u001B[0m\u001B[1;33m,\u001B[0m\u001B[0ms\u001B[0m\u001B[1;33m]\u001B[0m \u001B[1;33m=\u001B[0m \u001B[0mpt\u001B[0m\u001B[1;33m.\u001B[0m\u001B[0mlinalg\u001B[0m\u001B[1;33m.\u001B[0m\u001B[0mnorm\u001B[0m\u001B[1;33m(\u001B[0m\u001B[1;33m(\u001B[0m\u001B[0mparam_vec_brute\u001B[0m\u001B[1;33m.\u001B[0m\u001B[0mgrad\u001B[0m \u001B[1;33m-\u001B[0m \u001B[0mparam_vec_shadow\u001B[0m\u001B[1;33m.\u001B[0m\u001B[0mgrad\u001B[0m\u001B[1;33m)\u001B[0m \u001B[1;33m/\u001B[0m \u001B[0mpt\u001B[0m\u001B[1;33m.\u001B[0m\u001B[0mlinalg\u001B[0m\u001B[1;33m.\u001B[0m\u001B[0mnorm\u001B[0m\u001B[1;33m(\u001B[0m\u001B[0mparam_vec_shadow\u001B[0m\u001B[1;33m.\u001B[0m\u001B[0mgrad\u001B[0m\u001B[1;33m)\u001B[0m\u001B[1;33m)\u001B[0m\u001B[1;33m\u001B[0m\u001B[1;33m\u001B[0m\u001B[0m\n",
      "\u001B[1;32m~\\Anaconda3\\lib\\site-packages\\torch\\_tensor.py\u001B[0m in \u001B[0;36mbackward\u001B[1;34m(self, gradient, retain_graph, create_graph, inputs)\u001B[0m\n\u001B[0;32m    305\u001B[0m                 \u001B[0mcreate_graph\u001B[0m\u001B[1;33m=\u001B[0m\u001B[0mcreate_graph\u001B[0m\u001B[1;33m,\u001B[0m\u001B[1;33m\u001B[0m\u001B[1;33m\u001B[0m\u001B[0m\n\u001B[0;32m    306\u001B[0m                 inputs=inputs)\n\u001B[1;32m--> 307\u001B[1;33m         \u001B[0mtorch\u001B[0m\u001B[1;33m.\u001B[0m\u001B[0mautograd\u001B[0m\u001B[1;33m.\u001B[0m\u001B[0mbackward\u001B[0m\u001B[1;33m(\u001B[0m\u001B[0mself\u001B[0m\u001B[1;33m,\u001B[0m \u001B[0mgradient\u001B[0m\u001B[1;33m,\u001B[0m \u001B[0mretain_graph\u001B[0m\u001B[1;33m,\u001B[0m \u001B[0mcreate_graph\u001B[0m\u001B[1;33m,\u001B[0m \u001B[0minputs\u001B[0m\u001B[1;33m=\u001B[0m\u001B[0minputs\u001B[0m\u001B[1;33m)\u001B[0m\u001B[1;33m\u001B[0m\u001B[1;33m\u001B[0m\u001B[0m\n\u001B[0m\u001B[0;32m    308\u001B[0m \u001B[1;33m\u001B[0m\u001B[0m\n\u001B[0;32m    309\u001B[0m     \u001B[1;32mdef\u001B[0m \u001B[0mregister_hook\u001B[0m\u001B[1;33m(\u001B[0m\u001B[0mself\u001B[0m\u001B[1;33m,\u001B[0m \u001B[0mhook\u001B[0m\u001B[1;33m)\u001B[0m\u001B[1;33m:\u001B[0m\u001B[1;33m\u001B[0m\u001B[1;33m\u001B[0m\u001B[0m\n",
      "\u001B[1;32m~\\Anaconda3\\lib\\site-packages\\torch\\autograd\\__init__.py\u001B[0m in \u001B[0;36mbackward\u001B[1;34m(tensors, grad_tensors, retain_graph, create_graph, grad_variables, inputs)\u001B[0m\n\u001B[0;32m    154\u001B[0m     Variable._execution_engine.run_backward(\n\u001B[0;32m    155\u001B[0m         \u001B[0mtensors\u001B[0m\u001B[1;33m,\u001B[0m \u001B[0mgrad_tensors_\u001B[0m\u001B[1;33m,\u001B[0m \u001B[0mretain_graph\u001B[0m\u001B[1;33m,\u001B[0m \u001B[0mcreate_graph\u001B[0m\u001B[1;33m,\u001B[0m \u001B[0minputs\u001B[0m\u001B[1;33m,\u001B[0m\u001B[1;33m\u001B[0m\u001B[1;33m\u001B[0m\u001B[0m\n\u001B[1;32m--> 156\u001B[1;33m         allow_unreachable=True, accumulate_grad=True)  # allow_unreachable flag\n\u001B[0m\u001B[0;32m    157\u001B[0m \u001B[1;33m\u001B[0m\u001B[0m\n\u001B[0;32m    158\u001B[0m \u001B[1;33m\u001B[0m\u001B[0m\n",
      "\u001B[1;31mKeyboardInterrupt\u001B[0m: "
     ]
    }
   ],
   "source": [
    "# 6min per batch\n",
    "# now we estimate the gradient by using the derandomized classical shadows\n",
    "num_meas_bases = 2\n",
    "num_of_measurements_per_rot = np.array([10, 20, 50, 100, 200, 500, 1000, 2000, 5000, 1e4, 2e4, 5e4])\n",
    "batches = 1\n",
    "some_ratios = np.array([0.1, 1.0])\n",
    "state_categories = np.array(['random']) # could use 'ground' as well but gradient vanishes there\n",
    "errors = np.zeros((np.size(num_of_measurements_per_rot), batches, np.size(some_ratios), np.size(state_categories)))\n",
    "\n",
    "for s in range(np.size(state_categories)):\n",
    "    for h in range(np.size(some_ratios)):\n",
    "        if state_categories[s] == 'random':\n",
    "            param_vec_brute = random_param_vec.clone().detach()\n",
    "            param_vec_brute.requires_grad_(True)\n",
    "            mps_brute = MPS.from_tensor_list(tensor_liste_rand)\n",
    "            mps_brute.from_param_vec(param_vec=param_vec_brute)\n",
    "        if state_categories[s] == 'ground':\n",
    "            param_vec_brute = ground_state_dict[str(1)]['open'][str(qubit_num)][str(some_ratios[h])].clone().detach()\n",
    "            param_vec_brute.requires_grad_(True)\n",
    "            mps_brute = MPS.from_state_vector(qubit_num, param_vec_brute)\n",
    "\n",
    "        mps_brute.normalise()\n",
    "        mps_brute.orth_idx = 0\n",
    "        mps_brute.canonicalise(qubit_num - 1)\n",
    "        psi = mps_brute.to_state_vector()\n",
    "        hamiltonian = pt.from_numpy(TfimHamiltonianOpenFermion(qubit_num, some_ratios[h], 1, 'open').to_matrix().todense())\n",
    "        energy_bf = psi.conj() @ hamiltonian @ psi / (psi.conj() @ psi)\n",
    "        energy_bf.backward()\n",
    "\n",
    "        for b in range(0, batches):\n",
    "            print('starting batch ' + str(b))\n",
    "            for j in range(np.size(num_of_measurements_per_rot)):\n",
    "                if state_categories[s] == 'random':\n",
    "                    param_vec_shadow = random_param_vec.clone().detach()\n",
    "                    param_vec_shadow.requires_grad_(True)\n",
    "                    mps = MPS.from_tensor_list(tensor_liste_rand)\n",
    "                    mps.from_param_vec(param_vec=param_vec_shadow)\n",
    "                if state_categories[s] == 'ground':\n",
    "                    param_vec_shadow = ground_state_dict[str(1)]['open'][str(qubit_num)][str(some_ratios[h])].clone().detach()\n",
    "                    param_vec_shadow.requires_grad_(True)\n",
    "                    mps = MPS.from_state_vector(qubit_num, param_vec_shadow)\n",
    "\n",
    "                mps.normalise()\n",
    "                mps.orth_idx = 0\n",
    "                mps.canonicalise(qubit_num - 1)\n",
    "                observables = TfimHamiltonianOpenFermion(qubit_num, some_ratios[h], 1, 'open').observables_for_energy_estimation()\n",
    "                meas_outcomes, meas_procedure, probs = MPSQuantumState(qubit_num, mps).measurement_shadow(int(num_meas_bases), int(num_of_measurements_per_rot[j]), 'derandomized', observables)\n",
    "                energies = pt.zeros(len(meas_outcomes))\n",
    "                for n in range(len(meas_outcomes)):\n",
    "                    probs_direct = MPSQuantumState(qubit_num, mps).rotate_pauli(meas_procedure[n]).prob(pt.tensor(meas_outcomes[n]))\n",
    "                    measurements = conversion_to_prediction_shadow_dict_shape([meas_procedure[n]]*len(meas_outcomes[n]), np.array(meas_outcomes[n]), qubit_num)\n",
    "                    energies[n] = TfimHamiltonianOpenFermion(qubit_num, some_ratios[h], 1, 'open').energy_shadow_mps_modified(measurements, probs_direct, 'derandomized')\n",
    "                energy_shadow = pt.mean(energies)\n",
    "                energy_shadow.backward()\n",
    "                errors[j,b,h,s] = pt.linalg.norm((param_vec_brute.grad - param_vec_shadow.grad) / pt.linalg.norm(param_vec_shadow.grad))"
   ],
   "metadata": {
    "collapsed": false,
    "pycharm": {
     "name": "#%%\n"
    }
   }
  },
  {
   "cell_type": "code",
   "execution_count": 60,
   "outputs": [
    {
     "data": {
      "text/plain": "<matplotlib.legend.Legend at 0x263207322c8>"
     },
     "execution_count": 60,
     "metadata": {},
     "output_type": "execute_result"
    },
    {
     "data": {
      "text/plain": "<Figure size 432x288 with 1 Axes>",
      "image/png": "[encoded data removed]"
     },
     "metadata": {
      "needs_background": "light"
     },
     "output_type": "display_data"
    }
   ],
   "source": [
    "rel_error_mean = np.mean(errors, axis=1)\n",
    "rel_error_std = np.mean(errors, axis=1)\n",
    "for s in range(np.size(state_categories)):\n",
    "    for h in range(np.size(some_ratios)):\n",
    "        plt.plot(num_of_measurements_per_rot * num_meas_bases, rel_error_mean[:,h,s], label = state_categories[s] + ' state, ratio ' + str(some_ratios[h]))\n",
    "        plt.fill_between(num_of_measurements_per_rot * num_meas_bases, rel_error_mean[:,h,s] - rel_error_std[:,h,s], rel_error_mean[:,h,s] + rel_error_std[:,h,s], alpha=0.3)\n",
    "plt.title('relative error $\\epsilon$ in the gradient prediction against number of measurements N, ' + str(qubit_num) + ' qubits')\n",
    "plt.xlabel('N')\n",
    "plt.ylabel('$\\epsilon$')\n",
    "plt.yscale('log')\n",
    "plt.xscale('log')\n",
    "plt.legend()"
   ],
   "metadata": {
    "collapsed": false,
    "pycharm": {
     "name": "#%%\n"
    }
   }
  },
  {
   "cell_type": "markdown",
   "source": [
    "## Gradient Descent with Classical Shadows, comparison to other methods"
   ],
   "metadata": {
    "collapsed": false,
    "pycharm": {
     "name": "#%% md\n"
    }
   }
  },
  {
   "cell_type": "code",
   "execution_count": 75,
   "outputs": [],
   "source": [
    "# we do gradient descent with the exact hamiltonian contraction method and see whether we converge to the ground state\n",
    "#generate a random tensor list\n",
    "bond_dim = 50\n",
    "tensor_liste_rand = [pt.rand([1, 2, bond_dim], dtype=pt.cdouble)]\n",
    "for idx in range(qubit_num - 2):\n",
    "    tensor_liste_rand.append(pt.rand([bond_dim, 2, bond_dim], dtype=pt.cdouble))\n",
    "tensor_liste_rand.append(pt.rand([bond_dim, 2, 1], dtype=pt.cdouble))\n",
    "mps = MPS.from_tensor_list(tensor_liste_rand)\n",
    "mps.normalise()\n",
    "mps.orth_idx = 0\n",
    "mps.canonicalise(qubit_num - 1)\n",
    "param_vec = mps.to_param_vec()\n",
    "# we only needed this param vec to determine the size of the tensor\n",
    "random_param_vec = pt.rand(param_vec.shape[0], dtype=pt.cdouble)"
   ],
   "metadata": {
    "collapsed": false,
    "pycharm": {
     "name": "#%%\n"
    }
   }
  },
  {
   "cell_type": "code",
   "execution_count": 76,
   "outputs": [
    {
     "name": "stdout",
     "output_type": "stream",
     "text": [
      "progress: 1 / 100\n",
      "progress: 2 / 100\n",
      "progress: 3 / 100\n",
      "progress: 4 / 100\n",
      "progress: 5 / 100\n",
      "progress: 6 / 100\n",
      "progress: 7 / 100\n",
      "progress: 8 / 100\n",
      "progress: 9 / 100\n",
      "progress: 10 / 100\n",
      "progress: 11 / 100\n",
      "progress: 12 / 100\n",
      "progress: 13 / 100\n",
      "progress: 14 / 100\n",
      "progress: 15 / 100\n",
      "progress: 16 / 100\n",
      "progress: 17 / 100\n",
      "progress: 18 / 100\n",
      "progress: 19 / 100\n",
      "progress: 20 / 100\n",
      "progress: 21 / 100\n",
      "progress: 22 / 100\n",
      "progress: 23 / 100\n",
      "progress: 24 / 100\n",
      "progress: 25 / 100\n",
      "progress: 26 / 100\n",
      "progress: 27 / 100\n",
      "progress: 28 / 100\n",
      "progress: 29 / 100\n",
      "progress: 30 / 100\n",
      "progress: 31 / 100\n",
      "progress: 32 / 100\n",
      "progress: 33 / 100\n",
      "progress: 34 / 100\n",
      "progress: 35 / 100\n",
      "progress: 36 / 100\n",
      "progress: 37 / 100\n",
      "progress: 38 / 100\n",
      "progress: 39 / 100\n",
      "progress: 40 / 100\n",
      "progress: 41 / 100\n",
      "progress: 42 / 100\n",
      "progress: 43 / 100\n",
      "progress: 44 / 100\n",
      "progress: 45 / 100\n",
      "progress: 46 / 100\n",
      "progress: 47 / 100\n",
      "progress: 48 / 100\n",
      "progress: 49 / 100\n",
      "progress: 50 / 100\n",
      "progress: 51 / 100\n",
      "progress: 52 / 100\n",
      "progress: 53 / 100\n",
      "progress: 54 / 100\n",
      "progress: 55 / 100\n",
      "progress: 56 / 100\n",
      "progress: 57 / 100\n",
      "progress: 58 / 100\n",
      "progress: 59 / 100\n",
      "progress: 60 / 100\n",
      "progress: 61 / 100\n",
      "progress: 62 / 100\n",
      "progress: 63 / 100\n"
     ]
    },
    {
     "ename": "KeyboardInterrupt",
     "evalue": "",
     "output_type": "error",
     "traceback": [
      "\u001B[1;31m---------------------------------------------------------------------------\u001B[0m",
      "\u001B[1;31mKeyboardInterrupt\u001B[0m                         Traceback (most recent call last)",
      "\u001B[1;32m<ipython-input-76-71fd3bf8b708>\u001B[0m in \u001B[0;36m<module>\u001B[1;34m\u001B[0m\n\u001B[0;32m     12\u001B[0m     \u001B[0mpsi\u001B[0m \u001B[1;33m=\u001B[0m \u001B[0mmps\u001B[0m\u001B[1;33m.\u001B[0m\u001B[0mto_state_vector\u001B[0m\u001B[1;33m(\u001B[0m\u001B[1;33m)\u001B[0m\u001B[1;33m\u001B[0m\u001B[1;33m\u001B[0m\u001B[0m\n\u001B[0;32m     13\u001B[0m     \u001B[0mhamiltonian\u001B[0m \u001B[1;33m=\u001B[0m \u001B[0mpt\u001B[0m\u001B[1;33m.\u001B[0m\u001B[0mfrom_numpy\u001B[0m\u001B[1;33m(\u001B[0m\u001B[0mTfimHamiltonianOpenFermion\u001B[0m\u001B[1;33m(\u001B[0m\u001B[0mqubit_num\u001B[0m\u001B[1;33m,\u001B[0m \u001B[0mratio_h_j\u001B[0m\u001B[1;33m,\u001B[0m \u001B[1;36m1\u001B[0m\u001B[1;33m,\u001B[0m \u001B[1;34m'open'\u001B[0m\u001B[1;33m)\u001B[0m\u001B[1;33m.\u001B[0m\u001B[0mto_matrix\u001B[0m\u001B[1;33m(\u001B[0m\u001B[1;33m)\u001B[0m\u001B[1;33m.\u001B[0m\u001B[0mtodense\u001B[0m\u001B[1;33m(\u001B[0m\u001B[1;33m)\u001B[0m\u001B[1;33m)\u001B[0m\u001B[1;33m\u001B[0m\u001B[1;33m\u001B[0m\u001B[0m\n\u001B[1;32m---> 14\u001B[1;33m     \u001B[0menergy\u001B[0m \u001B[1;33m=\u001B[0m \u001B[0mpsi\u001B[0m\u001B[1;33m.\u001B[0m\u001B[0mconj\u001B[0m\u001B[1;33m(\u001B[0m\u001B[1;33m)\u001B[0m \u001B[1;33m@\u001B[0m \u001B[0mhamiltonian\u001B[0m \u001B[1;33m@\u001B[0m \u001B[0mpsi\u001B[0m \u001B[1;33m/\u001B[0m \u001B[1;33m(\u001B[0m\u001B[0mpsi\u001B[0m\u001B[1;33m.\u001B[0m\u001B[0mconj\u001B[0m\u001B[1;33m(\u001B[0m\u001B[1;33m)\u001B[0m \u001B[1;33m@\u001B[0m \u001B[0mpsi\u001B[0m\u001B[1;33m)\u001B[0m\u001B[1;33m\u001B[0m\u001B[1;33m\u001B[0m\u001B[0m\n\u001B[0m\u001B[0;32m     15\u001B[0m     \u001B[0menergy\u001B[0m\u001B[1;33m.\u001B[0m\u001B[0mbackward\u001B[0m\u001B[1;33m(\u001B[0m\u001B[1;33m)\u001B[0m\u001B[1;33m\u001B[0m\u001B[1;33m\u001B[0m\u001B[0m\n\u001B[0;32m     16\u001B[0m     \u001B[0maccuracy_brute\u001B[0m\u001B[1;33m[\u001B[0m\u001B[0mi\u001B[0m\u001B[1;33m]\u001B[0m \u001B[1;33m=\u001B[0m \u001B[0mnp\u001B[0m\u001B[1;33m.\u001B[0m\u001B[0mabs\u001B[0m\u001B[1;33m(\u001B[0m\u001B[0menergy\u001B[0m\u001B[1;33m.\u001B[0m\u001B[0mdetach\u001B[0m\u001B[1;33m(\u001B[0m\u001B[1;33m)\u001B[0m \u001B[1;33m-\u001B[0m \u001B[0menergy_brute\u001B[0m\u001B[1;33m)\u001B[0m \u001B[1;33m/\u001B[0m \u001B[0mnp\u001B[0m\u001B[1;33m.\u001B[0m\u001B[0mabs\u001B[0m\u001B[1;33m(\u001B[0m\u001B[0menergy_brute\u001B[0m\u001B[1;33m)\u001B[0m\u001B[1;33m\u001B[0m\u001B[1;33m\u001B[0m\u001B[0m\n",
      "\u001B[1;31mKeyboardInterrupt\u001B[0m: "
     ]
    }
   ],
   "source": [
    "# doing gradient descent using brute force\n",
    "step_num = 100\n",
    "lr = 0.01\n",
    "random_param_vec_brute = random_param_vec.clone().detach()\n",
    "random_param_vec_brute.requires_grad_(True)\n",
    "opt = pt.optim.Adam([random_param_vec_brute], lr=lr)\n",
    "\n",
    "accuracy_brute = np.zeros(step_num)\n",
    "for i in range(0, step_num):\n",
    "    opt.zero_grad()\n",
    "    mps.from_param_vec(param_vec = random_param_vec_brute)\n",
    "    psi = mps.to_state_vector()\n",
    "    hamiltonian = pt.from_numpy(TfimHamiltonianOpenFermion(qubit_num, ratio_h_j, 1, 'open').to_matrix().todense())\n",
    "    energy = psi.conj() @ hamiltonian @ psi / (psi.conj() @ psi)\n",
    "    energy.backward()\n",
    "    accuracy_brute[i] = np.abs(energy.detach() - energy_brute) / np.abs(energy_brute)\n",
    "    opt.step()\n",
    "    print('progress: ' + str(i+1) + ' / ' + str(step_num))"
   ],
   "metadata": {
    "collapsed": false,
    "pycharm": {
     "name": "#%%\n"
    }
   }
  },
  {
   "cell_type": "code",
   "execution_count": 77,
   "outputs": [
    {
     "data": {
      "text/plain": "<Figure size 432x288 with 1 Axes>",
      "image/png": "[encoded data removed]"
     },
     "metadata": {
      "needs_background": "light"
     },
     "output_type": "display_data"
    }
   ],
   "source": [
    "plt.plot(np.arange(0, step_num), accuracy_brute)\n",
    "plt.yscale('log')"
   ],
   "metadata": {
    "collapsed": false,
    "pycharm": {
     "name": "#%%\n"
    }
   }
  },
  {
   "cell_type": "code",
   "execution_count": 84,
   "outputs": [],
   "source": [
    "# now we try to estimate the gradient with classical shadows\n",
    "#generate a random tensor list\n",
    "bond_dim = 50\n",
    "tensor_liste_rand = [pt.rand([1, 2, bond_dim], dtype=pt.cdouble)]\n",
    "for idx in range(qubit_num - 2):\n",
    "    tensor_liste_rand.append(pt.rand([bond_dim, 2, bond_dim], dtype=pt.cdouble))\n",
    "tensor_liste_rand.append(pt.rand([bond_dim, 2, 1], dtype=pt.cdouble))\n",
    "mps = MPS.from_tensor_list(tensor_liste_rand)\n",
    "mps.normalise()\n",
    "mps.orth_idx = 0\n",
    "mps.canonicalise(qubit_num - 1)\n",
    "param_vec = mps.to_param_vec()\n",
    "# we only needed this param vec to determine the size of the tensor\n",
    "random_param_vec = pt.rand(param_vec.shape[0], dtype=pt.cdouble)"
   ],
   "metadata": {
    "collapsed": false,
    "pycharm": {
     "name": "#%%\n"
    }
   }
  },
  {
   "cell_type": "code",
   "execution_count": null,
   "outputs": [
    {
     "name": "stdout",
     "output_type": "stream",
     "text": [
      "starting meas_num 500\n",
      "progress: 1 / 150\n",
      "loss = 1.8179197311401367\n",
      "progress: 2 / 150\n",
      "loss = 1.8148512840270996\n",
      "progress: 3 / 150\n",
      "loss = 1.8092185258865356\n",
      "progress: 4 / 150\n",
      "loss = 1.769918441772461\n",
      "progress: 5 / 150\n",
      "loss = 1.7906006574630737\n",
      "progress: 6 / 150\n",
      "loss = 1.784463882446289\n",
      "progress: 7 / 150\n",
      "loss = 1.7639082670211792\n",
      "progress: 8 / 150\n",
      "loss = 1.7459132671356201\n",
      "progress: 9 / 150\n",
      "loss = 1.7522239685058594\n",
      "progress: 10 / 150\n",
      "loss = 1.7368332147598267\n",
      "progress: 11 / 150\n",
      "loss = 1.7127209901809692\n",
      "progress: 12 / 150\n",
      "loss = 1.7084425687789917\n",
      "progress: 13 / 150\n",
      "loss = 1.7118303775787354\n",
      "progress: 14 / 150\n",
      "loss = 1.6876283884048462\n",
      "progress: 15 / 150\n",
      "loss = 1.6632100343704224\n",
      "progress: 16 / 150\n",
      "loss = 1.6485003232955933\n",
      "progress: 17 / 150\n",
      "loss = 1.6432591676712036\n",
      "progress: 18 / 150\n",
      "loss = 1.605363368988037\n",
      "progress: 19 / 150\n",
      "loss = 1.5968207120895386\n",
      "progress: 20 / 150\n",
      "loss = 1.5664012432098389\n",
      "progress: 21 / 150\n",
      "loss = 1.55411958694458\n",
      "progress: 22 / 150\n",
      "loss = 1.5488923788070679\n",
      "progress: 23 / 150\n",
      "loss = 1.5334208011627197\n",
      "progress: 24 / 150\n",
      "loss = 1.5118218660354614\n",
      "progress: 25 / 150\n",
      "loss = 1.4941648244857788\n",
      "progress: 26 / 150\n",
      "loss = 1.4763481616973877\n",
      "progress: 27 / 150\n",
      "loss = 1.464855432510376\n",
      "progress: 28 / 150\n",
      "loss = 1.4455515146255493\n",
      "progress: 29 / 150\n",
      "loss = 1.4320179224014282\n",
      "progress: 30 / 150\n",
      "loss = 1.4230812788009644\n",
      "progress: 31 / 150\n",
      "loss = 1.4061697721481323\n",
      "progress: 32 / 150\n",
      "loss = 1.3907864093780518\n",
      "progress: 33 / 150\n",
      "loss = 1.3689991235733032\n",
      "progress: 34 / 150\n",
      "loss = 1.3599704504013062\n",
      "progress: 35 / 150\n",
      "loss = 1.3368676900863647\n",
      "progress: 36 / 150\n",
      "loss = 1.3220871686935425\n",
      "progress: 37 / 150\n",
      "loss = 1.29869544506073\n",
      "progress: 38 / 150\n",
      "loss = 1.2808966636657715\n",
      "progress: 39 / 150\n",
      "loss = 1.2556730508804321\n",
      "progress: 40 / 150\n",
      "loss = 1.241039752960205\n",
      "progress: 41 / 150\n",
      "loss = 1.2063753604888916\n",
      "progress: 42 / 150\n",
      "loss = 1.179743766784668\n",
      "progress: 43 / 150\n",
      "loss = 1.1633027791976929\n",
      "progress: 44 / 150\n",
      "loss = 1.1493427753448486\n",
      "progress: 45 / 150\n",
      "loss = 1.1001325845718384\n",
      "progress: 46 / 150\n",
      "loss = 1.0821831226348877\n",
      "progress: 47 / 150\n",
      "loss = 1.0436985492706299\n",
      "progress: 48 / 150\n",
      "loss = 0.9973556399345398\n",
      "progress: 49 / 150\n",
      "loss = 0.9815173745155334\n",
      "progress: 50 / 150\n",
      "loss = 0.9435834884643555\n",
      "progress: 51 / 150\n",
      "loss = 0.9115442633628845\n",
      "progress: 52 / 150\n",
      "loss = 0.8677331209182739\n",
      "progress: 53 / 150\n",
      "loss = 0.8350356221199036\n",
      "progress: 54 / 150\n",
      "loss = 0.8206135034561157\n",
      "progress: 55 / 150\n",
      "loss = 0.7966771721839905\n",
      "progress: 56 / 150\n",
      "loss = 0.7784936428070068\n",
      "progress: 57 / 150\n",
      "loss = 0.7529510259628296\n",
      "progress: 58 / 150\n",
      "loss = 0.7268185019493103\n",
      "progress: 59 / 150\n",
      "loss = 0.7102344036102295\n",
      "progress: 60 / 150\n",
      "loss = 0.6595518589019775\n",
      "progress: 61 / 150\n",
      "loss = 0.6444688439369202\n",
      "progress: 62 / 150\n",
      "loss = 0.6402715444564819\n",
      "progress: 63 / 150\n",
      "loss = 0.6006617546081543\n",
      "progress: 64 / 150\n",
      "loss = 0.5993812680244446\n",
      "progress: 65 / 150\n",
      "loss = 0.5489147305488586\n",
      "progress: 66 / 150\n",
      "loss = 0.5517513155937195\n",
      "progress: 67 / 150\n",
      "loss = 0.5143770575523376\n",
      "progress: 68 / 150\n",
      "loss = 0.5062527060508728\n",
      "progress: 69 / 150\n",
      "loss = 0.5024592280387878\n",
      "progress: 70 / 150\n",
      "loss = 0.4717232584953308\n",
      "progress: 71 / 150\n",
      "loss = 0.4541226625442505\n",
      "progress: 72 / 150\n",
      "loss = 0.43995440006256104\n",
      "progress: 73 / 150\n",
      "loss = 0.45622947812080383\n",
      "progress: 74 / 150\n",
      "loss = 0.40414872765541077\n",
      "progress: 75 / 150\n",
      "loss = 0.38020649552345276\n",
      "progress: 76 / 150\n",
      "loss = 0.3782793879508972\n",
      "progress: 77 / 150\n",
      "loss = 0.3630366623401642\n",
      "progress: 78 / 150\n",
      "loss = 0.3577450215816498\n",
      "progress: 79 / 150\n",
      "loss = 0.3342311382293701\n",
      "progress: 80 / 150\n",
      "loss = 0.31560218334198\n",
      "progress: 81 / 150\n",
      "loss = 0.2884182035923004\n",
      "progress: 82 / 150\n",
      "loss = 0.2912907302379608\n",
      "progress: 83 / 150\n",
      "loss = 0.26860594749450684\n",
      "progress: 84 / 150\n",
      "loss = 0.27361345291137695\n",
      "progress: 85 / 150\n",
      "loss = 0.2560266852378845\n",
      "progress: 86 / 150\n",
      "loss = 0.24702903628349304\n",
      "progress: 87 / 150\n",
      "loss = 0.23497730493545532\n",
      "progress: 88 / 150\n",
      "loss = 0.22957561910152435\n",
      "progress: 89 / 150\n",
      "loss = 0.2188766896724701\n",
      "progress: 90 / 150\n",
      "loss = 0.20799177885055542\n",
      "progress: 91 / 150\n",
      "loss = 0.2111511081457138\n",
      "progress: 92 / 150\n",
      "loss = 0.20783108472824097\n",
      "progress: 93 / 150\n",
      "loss = 0.20841334760189056\n",
      "progress: 94 / 150\n",
      "loss = 0.1910562664270401\n",
      "progress: 95 / 150\n",
      "loss = 0.1937863975763321\n",
      "progress: 96 / 150\n",
      "loss = 0.18322862684726715\n",
      "progress: 97 / 150\n",
      "loss = 0.17932561039924622\n",
      "progress: 98 / 150\n",
      "loss = 0.183063343167305\n",
      "progress: 99 / 150\n",
      "loss = 0.17580316960811615\n",
      "progress: 100 / 150\n",
      "loss = 0.17452792823314667\n",
      "progress: 101 / 150\n",
      "loss = 0.17180810868740082\n",
      "progress: 102 / 150\n",
      "loss = 0.16847847402095795\n",
      "progress: 103 / 150\n",
      "loss = 0.17003346979618073\n",
      "progress: 104 / 150\n",
      "loss = 0.1667211800813675\n",
      "progress: 105 / 150\n",
      "loss = 0.1656941920518875\n",
      "progress: 106 / 150\n",
      "loss = 0.16509991884231567\n",
      "progress: 107 / 150\n",
      "loss = 0.16292230784893036\n",
      "progress: 108 / 150\n",
      "loss = 0.16279229521751404\n",
      "progress: 109 / 150\n",
      "loss = 0.15132461488246918\n",
      "progress: 110 / 150\n",
      "loss = 0.15356986224651337\n"
     ]
    }
   ],
   "source": [
    "# doing gradient descent using shadows\n",
    "step_num = 150\n",
    "lr = 0.01\n",
    "num_of_measurements = 2\n",
    "num_of_measurements_per_rot = np.array([500, 1000, 5000])\n",
    "meas_method = 'derandomized'\n",
    "num_unique_ind_shadow = np.zeros((2, np.size(num_of_measurements_per_rot), step_num))\n",
    "accuracy = np.zeros((np.size(num_of_measurements_per_rot), step_num))\n",
    "for num in range(np.size(num_of_measurements_per_rot)):\n",
    "    random_param_vec_shadow = random_param_vec.clone().detach()\n",
    "    random_param_vec_shadow.requires_grad_(True)\n",
    "    opt = pt.optim.Adam([random_param_vec_shadow], lr=lr)\n",
    "    print('starting meas_num ' + str(num_of_measurements_per_rot[num]))\n",
    "    for i in range(step_num):\n",
    "        opt.zero_grad()\n",
    "        mps.from_param_vec(param_vec=random_param_vec_shadow)\n",
    "        mps.normalise()\n",
    "        mps.orth_idx = 0\n",
    "        mps.canonicalise(qubit_num - 1)\n",
    "        with pt.no_grad():\n",
    "            observables = TfimHamiltonianOpenFermion(qubit_num, ratio_h_j, 1, 'open').observables_for_energy_estimation()\n",
    "            meas_outcomes, meas_procedure, probs = MPSQuantumState(qubit_num, mps).measurement_shadow(num_of_measurements, num_of_measurements_per_rot[num], meas_method, observables)\n",
    "            num_unique_ind_shadow[0, num, i] = len(meas_outcomes[0])\n",
    "            num_unique_ind_shadow[1, num, i] = len(meas_outcomes[1])\n",
    "        energies = pt.zeros(len(meas_outcomes))\n",
    "        for n in range(len(meas_outcomes)):\n",
    "            probs_direct = MPSQuantumState(qubit_num, mps).rotate_pauli(meas_procedure[n]).prob(pt.tensor(meas_outcomes[n]))\n",
    "            measurements = conversion_to_prediction_shadow_dict_shape([meas_procedure[n]]*len(meas_outcomes[n]), np.array(meas_outcomes[n]), qubit_num)\n",
    "            energies[n] = TfimHamiltonianOpenFermion(qubit_num, ratio_h_j, 1, 'open').energy_shadow_mps_modified(measurements, probs_direct, meas_method)\n",
    "        energy_shadow = pt.mean(energies)\n",
    "        energy_shadow.backward()\n",
    "        accuracy[num, i] = np.abs(energy_shadow.detach() - energy_brute) / np.abs(energy_brute)\n",
    "        opt.step()\n",
    "        print('progress: ' + str(i+1) + ' / ' + str(step_num))\n",
    "        print(f'loss = {accuracy[num, i]}')"
   ],
   "metadata": {
    "collapsed": false,
    "pycharm": {
     "name": "#%%\n",
     "is_executing": true
    }
   }
  },
  {
   "cell_type": "code",
   "execution_count": null,
   "outputs": [],
   "source": [
    "plt.figure(figsize=(7,5))\n",
    "for num in range(np.size(num_of_measurements_per_rot)):\n",
    "    plt.plot(np.arange(0, step_num), accuracy[num, :], label='shadow, samples: ' + str(num_of_measurements_per_rot[num]))\n",
    "plt.plot(np.arange(0, step_num), accuracy_brute, label='exact')\n",
    "plt.title('relative error $\\epsilon$ in the prediction of the ground state against number of iterations' + str(qubit_num) + ' qubits, ratio h/J = ' + str(ratio_h_j) )\n",
    "plt.yscale('log')\n",
    "plt.xlabel('iterations')\n",
    "plt.ylabel('$\\epsilon$')\n",
    "plt.legend()"
   ],
   "metadata": {
    "collapsed": false,
    "pycharm": {
     "name": "#%%\n",
     "is_executing": true
    }
   }
  },
  {
   "cell_type": "markdown",
   "source": [
    "Third approach to obtain the gradient:\n",
    "1.) Measure in the computational basis and obtain indices\n",
    "2.) obtain the exact amplitudes of these indices\n",
    "3.) fill these amplitudes/indices into a quantum state\n",
    "4.) renormalize the quantum state\n",
    "5.) determine the energy via contraction with Hamiltonian\n",
    "6.) backpropagation"
   ],
   "metadata": {
    "collapsed": false,
    "pycharm": {
     "name": "#%% md\n"
    }
   }
  },
  {
   "cell_type": "code",
   "execution_count": 26,
   "outputs": [],
   "source": [
    "#generate a random tensor list\n",
    "bond_dim = 50\n",
    "tensor_liste_rand = [pt.rand([1, 2, bond_dim], dtype=pt.cdouble)]\n",
    "for idx in range(qubit_num - 2):\n",
    "    tensor_liste_rand.append(pt.rand([bond_dim, 2, bond_dim], dtype=pt.cdouble))\n",
    "tensor_liste_rand.append(pt.rand([bond_dim, 2, 1], dtype=pt.cdouble))\n",
    "mps = MPS.from_tensor_list(tensor_liste_rand).normalise()\n",
    "mps.orth_idx = 0\n",
    "mps.canonicalise(qubit_num - 1)\n",
    "param_vec = mps.to_param_vec()\n",
    "# we only needed this param vec to determine the size of the tensor\n",
    "random_param_vec = pt.rand(param_vec.shape[0], dtype=pt.cdouble)"
   ],
   "metadata": {
    "collapsed": false,
    "pycharm": {
     "name": "#%%\n"
    }
   }
  },
  {
   "cell_type": "code",
   "execution_count": 27,
   "outputs": [
    {
     "name": "stdout",
     "output_type": "stream",
     "text": [
      "progress: 1 / 300\n",
      "progress: 2 / 300\n",
      "progress: 3 / 300\n",
      "progress: 4 / 300\n",
      "progress: 5 / 300\n",
      "progress: 6 / 300\n",
      "progress: 7 / 300\n",
      "progress: 8 / 300\n",
      "progress: 9 / 300\n",
      "progress: 10 / 300\n",
      "progress: 11 / 300\n",
      "progress: 12 / 300\n",
      "progress: 13 / 300\n",
      "progress: 14 / 300\n",
      "progress: 15 / 300\n",
      "progress: 16 / 300\n",
      "progress: 17 / 300\n",
      "progress: 18 / 300\n",
      "progress: 19 / 300\n",
      "progress: 20 / 300\n",
      "progress: 21 / 300\n",
      "progress: 22 / 300\n",
      "progress: 23 / 300\n",
      "progress: 24 / 300\n",
      "progress: 25 / 300\n",
      "progress: 26 / 300\n",
      "progress: 27 / 300\n",
      "progress: 28 / 300\n",
      "progress: 29 / 300\n",
      "progress: 30 / 300\n",
      "progress: 31 / 300\n",
      "progress: 32 / 300\n",
      "progress: 33 / 300\n",
      "progress: 34 / 300\n",
      "progress: 35 / 300\n",
      "progress: 36 / 300\n",
      "progress: 37 / 300\n",
      "progress: 38 / 300\n",
      "progress: 39 / 300\n",
      "progress: 40 / 300\n",
      "progress: 41 / 300\n",
      "progress: 42 / 300\n",
      "progress: 43 / 300\n",
      "progress: 44 / 300\n",
      "progress: 45 / 300\n",
      "progress: 46 / 300\n",
      "progress: 47 / 300\n",
      "progress: 48 / 300\n",
      "progress: 49 / 300\n",
      "progress: 50 / 300\n",
      "progress: 51 / 300\n",
      "progress: 52 / 300\n",
      "progress: 53 / 300\n",
      "progress: 54 / 300\n",
      "progress: 55 / 300\n",
      "progress: 56 / 300\n",
      "progress: 57 / 300\n",
      "progress: 58 / 300\n",
      "progress: 59 / 300\n",
      "progress: 60 / 300\n",
      "progress: 61 / 300\n",
      "progress: 62 / 300\n",
      "progress: 63 / 300\n",
      "progress: 64 / 300\n",
      "progress: 65 / 300\n",
      "progress: 66 / 300\n",
      "progress: 67 / 300\n",
      "progress: 68 / 300\n",
      "progress: 69 / 300\n",
      "progress: 70 / 300\n",
      "progress: 71 / 300\n",
      "progress: 72 / 300\n",
      "progress: 73 / 300\n",
      "progress: 74 / 300\n",
      "progress: 75 / 300\n",
      "progress: 76 / 300\n",
      "progress: 77 / 300\n",
      "progress: 78 / 300\n",
      "progress: 79 / 300\n",
      "progress: 80 / 300\n",
      "progress: 81 / 300\n",
      "progress: 82 / 300\n",
      "progress: 83 / 300\n",
      "progress: 84 / 300\n",
      "progress: 85 / 300\n",
      "progress: 86 / 300\n",
      "progress: 87 / 300\n",
      "progress: 88 / 300\n",
      "progress: 89 / 300\n",
      "progress: 90 / 300\n",
      "progress: 91 / 300\n",
      "progress: 92 / 300\n",
      "progress: 93 / 300\n",
      "progress: 94 / 300\n",
      "progress: 95 / 300\n",
      "progress: 96 / 300\n",
      "progress: 97 / 300\n",
      "progress: 98 / 300\n",
      "progress: 99 / 300\n",
      "progress: 100 / 300\n",
      "progress: 101 / 300\n",
      "progress: 102 / 300\n",
      "progress: 103 / 300\n",
      "progress: 104 / 300\n",
      "progress: 105 / 300\n",
      "progress: 106 / 300\n",
      "progress: 107 / 300\n",
      "progress: 108 / 300\n",
      "progress: 109 / 300\n",
      "progress: 110 / 300\n",
      "progress: 111 / 300\n",
      "progress: 112 / 300\n",
      "progress: 113 / 300\n",
      "progress: 114 / 300\n",
      "progress: 115 / 300\n",
      "progress: 116 / 300\n",
      "progress: 117 / 300\n",
      "progress: 118 / 300\n",
      "progress: 119 / 300\n",
      "progress: 120 / 300\n",
      "progress: 121 / 300\n",
      "progress: 122 / 300\n",
      "progress: 123 / 300\n",
      "progress: 124 / 300\n",
      "progress: 125 / 300\n",
      "progress: 126 / 300\n",
      "progress: 127 / 300\n",
      "progress: 128 / 300\n",
      "progress: 129 / 300\n",
      "progress: 130 / 300\n",
      "progress: 131 / 300\n",
      "progress: 132 / 300\n",
      "progress: 133 / 300\n",
      "progress: 134 / 300\n",
      "progress: 135 / 300\n",
      "progress: 136 / 300\n",
      "progress: 137 / 300\n",
      "progress: 138 / 300\n",
      "progress: 139 / 300\n",
      "progress: 140 / 300\n",
      "progress: 141 / 300\n",
      "progress: 142 / 300\n",
      "progress: 143 / 300\n",
      "progress: 144 / 300\n",
      "progress: 145 / 300\n",
      "progress: 146 / 300\n",
      "progress: 147 / 300\n",
      "progress: 148 / 300\n",
      "progress: 149 / 300\n",
      "progress: 150 / 300\n",
      "progress: 151 / 300\n",
      "progress: 152 / 300\n",
      "progress: 153 / 300\n",
      "progress: 154 / 300\n",
      "progress: 155 / 300\n",
      "progress: 156 / 300\n",
      "progress: 157 / 300\n",
      "progress: 158 / 300\n",
      "progress: 159 / 300\n",
      "progress: 160 / 300\n",
      "progress: 161 / 300\n",
      "progress: 162 / 300\n",
      "progress: 163 / 300\n",
      "progress: 164 / 300\n",
      "progress: 165 / 300\n",
      "progress: 166 / 300\n",
      "progress: 167 / 300\n",
      "progress: 168 / 300\n",
      "progress: 169 / 300\n",
      "progress: 170 / 300\n",
      "progress: 171 / 300\n",
      "progress: 172 / 300\n",
      "progress: 173 / 300\n",
      "progress: 174 / 300\n",
      "progress: 175 / 300\n",
      "progress: 176 / 300\n",
      "progress: 177 / 300\n",
      "progress: 178 / 300\n",
      "progress: 179 / 300\n",
      "progress: 180 / 300\n",
      "progress: 181 / 300\n",
      "progress: 182 / 300\n",
      "progress: 183 / 300\n",
      "progress: 184 / 300\n",
      "progress: 185 / 300\n",
      "progress: 186 / 300\n",
      "progress: 187 / 300\n",
      "progress: 188 / 300\n",
      "progress: 189 / 300\n",
      "progress: 190 / 300\n",
      "progress: 191 / 300\n",
      "progress: 192 / 300\n",
      "progress: 193 / 300\n",
      "progress: 194 / 300\n",
      "progress: 195 / 300\n",
      "progress: 196 / 300\n",
      "progress: 197 / 300\n",
      "progress: 198 / 300\n",
      "progress: 199 / 300\n",
      "progress: 200 / 300\n",
      "progress: 201 / 300\n",
      "progress: 202 / 300\n",
      "progress: 203 / 300\n",
      "progress: 204 / 300\n",
      "progress: 205 / 300\n",
      "progress: 206 / 300\n",
      "progress: 207 / 300\n",
      "progress: 208 / 300\n",
      "progress: 209 / 300\n",
      "progress: 210 / 300\n",
      "progress: 211 / 300\n",
      "progress: 212 / 300\n",
      "progress: 213 / 300\n",
      "progress: 214 / 300\n",
      "progress: 215 / 300\n",
      "progress: 216 / 300\n",
      "progress: 217 / 300\n",
      "progress: 218 / 300\n",
      "progress: 219 / 300\n",
      "progress: 220 / 300\n",
      "progress: 221 / 300\n",
      "progress: 222 / 300\n",
      "progress: 223 / 300\n",
      "progress: 224 / 300\n",
      "progress: 225 / 300\n",
      "progress: 226 / 300\n",
      "progress: 227 / 300\n",
      "progress: 228 / 300\n",
      "progress: 229 / 300\n",
      "progress: 230 / 300\n",
      "progress: 231 / 300\n",
      "progress: 232 / 300\n",
      "progress: 233 / 300\n",
      "progress: 234 / 300\n",
      "progress: 235 / 300\n",
      "progress: 236 / 300\n",
      "progress: 237 / 300\n",
      "progress: 238 / 300\n",
      "progress: 239 / 300\n",
      "progress: 240 / 300\n",
      "progress: 241 / 300\n",
      "progress: 242 / 300\n",
      "progress: 243 / 300\n",
      "progress: 244 / 300\n",
      "progress: 245 / 300\n",
      "progress: 246 / 300\n",
      "progress: 247 / 300\n",
      "progress: 248 / 300\n",
      "progress: 249 / 300\n",
      "progress: 250 / 300\n",
      "progress: 251 / 300\n",
      "progress: 252 / 300\n",
      "progress: 253 / 300\n",
      "progress: 254 / 300\n",
      "progress: 255 / 300\n",
      "progress: 256 / 300\n",
      "progress: 257 / 300\n",
      "progress: 258 / 300\n",
      "progress: 259 / 300\n",
      "progress: 260 / 300\n",
      "progress: 261 / 300\n",
      "progress: 262 / 300\n",
      "progress: 263 / 300\n",
      "progress: 264 / 300\n",
      "progress: 265 / 300\n",
      "progress: 266 / 300\n",
      "progress: 267 / 300\n",
      "progress: 268 / 300\n",
      "progress: 269 / 300\n",
      "progress: 270 / 300\n",
      "progress: 271 / 300\n",
      "progress: 272 / 300\n",
      "progress: 273 / 300\n",
      "progress: 274 / 300\n",
      "progress: 275 / 300\n",
      "progress: 276 / 300\n",
      "progress: 277 / 300\n",
      "progress: 278 / 300\n",
      "progress: 279 / 300\n",
      "progress: 280 / 300\n",
      "progress: 281 / 300\n",
      "progress: 282 / 300\n",
      "progress: 283 / 300\n",
      "progress: 284 / 300\n",
      "progress: 285 / 300\n",
      "progress: 286 / 300\n",
      "progress: 287 / 300\n",
      "progress: 288 / 300\n",
      "progress: 289 / 300\n",
      "progress: 290 / 300\n",
      "progress: 291 / 300\n",
      "progress: 292 / 300\n",
      "progress: 293 / 300\n",
      "progress: 294 / 300\n",
      "progress: 295 / 300\n",
      "progress: 296 / 300\n",
      "progress: 297 / 300\n",
      "progress: 298 / 300\n",
      "progress: 299 / 300\n",
      "progress: 300 / 300\n"
     ]
    }
   ],
   "source": [
    "#sampling brute\n",
    "step_num = 300\n",
    "lr = 0.01\n",
    "num_meas = np.array([1000])\n",
    "num_unique_ind_brute = np.zeros((np.size(num_meas),step_num))\n",
    "\n",
    "accuracy_brute_sample = np.zeros((np.size(num_meas), step_num))\n",
    "for num in range(np.size(num_meas)):\n",
    "    random_param_vec_brute_sample = random_param_vec.clone().detach()\n",
    "    random_param_vec_brute_sample.requires_grad_(True)\n",
    "    opt = pt.optim.Adam([random_param_vec_brute_sample], lr=lr)\n",
    "    for i in range(step_num):\n",
    "        if i>=150:\n",
    "            num_meas[num] = 2000\n",
    "        opt.zero_grad()\n",
    "        mps.from_param_vec(param_vec = random_param_vec_brute_sample)\n",
    "        mps.normalise()\n",
    "        mps.orth_idx = 0\n",
    "        mps.canonicalise(qubit_num - 1)\n",
    "        with pt.no_grad():\n",
    "            indices, probs = MPSQuantumState(qubit_num, mps).measure(num_meas[num])\n",
    "            num_unique_ind_brute[num, i] = len(indices)\n",
    "        ampl_direct = MPSQuantumState(qubit_num, mps).amplitude(pt.tensor(indices))\n",
    "        psi = pt.zeros(2**qubit_num, dtype=pt.cdouble)\n",
    "        psi[indices] = ampl_direct\n",
    "        psi = psi / pt.linalg.norm(psi)\n",
    "        hamiltonian = pt.from_numpy(TfimHamiltonianOpenFermion(qubit_num, ratio_h_j, 1, 'open').to_matrix().todense())\n",
    "        energy = psi.conj() @ hamiltonian @ psi\n",
    "        energy.backward()\n",
    "        accuracy_brute_sample[num, i] = np.abs(energy.detach() - energy_brute) / np.abs(energy_brute)\n",
    "        opt.step()\n",
    "        print('progress: ' + str(i+1) + ' / ' + str(step_num))"
   ],
   "metadata": {
    "collapsed": false,
    "pycharm": {
     "name": "#%%\n"
    }
   }
  },
  {
   "cell_type": "code",
   "execution_count": 28,
   "outputs": [
    {
     "data": {
      "text/plain": "<matplotlib.legend.Legend at 0x259bb228b08>"
     },
     "execution_count": 28,
     "metadata": {},
     "output_type": "execute_result"
    },
    {
     "data": {
      "text/plain": "<Figure size 504x360 with 1 Axes>",
      "image/png": "[encoded data removed]"
     },
     "metadata": {
      "needs_background": "light"
     },
     "output_type": "display_data"
    }
   ],
   "source": [
    "plt.figure(figsize=(7,5))\n",
    "for num in range(np.size(num_meas)):\n",
    "    plt.plot(np.arange(0, step_num), accuracy_brute_sample[num, :], label='brute, samples: ' + str(num_meas[num]))\n",
    "    plt.plot(np.arange(0, step_num), accuracy[num, :], label='shadow, samples: ' + str(num_meas[num]))\n",
    "plt.plot(np.arange(0, step_num), accuracy_brute, label='exact')\n",
    "plt.title('relative error $\\epsilon$ in the prediction of the ground state against number of iterations' + str(qubit_num) + ' qubits')\n",
    "plt.yscale('log')\n",
    "plt.xlabel('iterations')\n",
    "plt.ylabel('$\\epsilon$')\n",
    "plt.legend()"
   ],
   "metadata": {
    "collapsed": false,
    "pycharm": {
     "name": "#%%\n"
    }
   }
  },
  {
   "cell_type": "code",
   "execution_count": 160,
   "outputs": [
    {
     "data": {
      "text/plain": "<matplotlib.legend.Legend at 0x20f9d10d3c8>"
     },
     "execution_count": 160,
     "metadata": {},
     "output_type": "execute_result"
    },
    {
     "data": {
      "text/plain": "<Figure size 504x360 with 1 Axes>",
      "image/png": "[encoded data removed]"
     },
     "metadata": {
      "needs_background": "light"
     },
     "output_type": "display_data"
    }
   ],
   "source": [
    "plt.figure(figsize=(7,5))\n",
    "for num in range(np.size(num_meas)):\n",
    "    plt.plot(np.arange(0, step_num), num_unique_ind_brute[num, :], label='brute, samples: ' + str(num_meas[num]))\n",
    "    #plt.plot(np.arange(0, step_num), num_unique_ind_shadow[0, num, :], label='shadow X, samples: ' + str(num_meas[num]))\n",
    "    #plt.plot(np.arange(0, step_num), num_unique_ind_shadow[1, num, :], label='shadow Z, samples: ' + str(num_meas[num]))\n",
    "plt.xlabel('iterations')\n",
    "plt.ylabel('number of unique indices')\n",
    "plt.title('number of unique indices against number of iterations, ' + str(qubit_num) + ' qubits')\n",
    "#plt.yscale('log')\n",
    "\n",
    "plt.legend()"
   ],
   "metadata": {
    "collapsed": false,
    "pycharm": {
     "name": "#%%\n"
    }
   }
  },
  {
   "cell_type": "code",
   "execution_count": null,
   "outputs": [],
   "source": [
    "samples = pt.tensor([7, 2**4, 15, 3])\n",
    "coupling_mask = pt.tensor([31, 1])\n",
    "samples = pt.unsqueeze(samples, 1)\n",
    "samples = samples.expand(-1, coupling_mask.size()[0])\n",
    "coupling_mask = pt.unsqueeze(coupling_mask, 0)\n",
    "coupling_mask = coupling_mask.expand(samples.size()[0], -1)\n",
    "basis_idx_new = pt.bitwise_xor(samples, coupling_mask)\n",
    "phase_mask = coupling_mask\n",
    "num_ones_y_z = pt.bitwise_and(samples, phase_mask)\n",
    "mask = 2**pt.arange(2**5)\n",
    "num_ones_y_z = pt.sum(num_ones_y_z.unsqueeze(-1).bitwise_and(mask).ne(0).byte(), dim=2)\n",
    "num_y = pt.tensor([0, 1])\n",
    "num_y = num_y.unsqueeze(0).expand(samples.size()[0], -1)\n",
    "phases = 1j**num_y * (-1)**num_ones_y_z\n",
    "print(phases)\n",
    "print(basis_idx_new)\n"
   ],
   "metadata": {
    "collapsed": false,
    "pycharm": {
     "name": "#%%\n"
    }
   }
  },
  {
   "cell_type": "code",
   "execution_count": 52,
   "outputs": [],
   "source": [
    "def local_energy(samples, coupling_mask, phase_mask, num_y, coeff):\n",
    "    basis_idx_new = pt.bitwise_xor(samples.unsqueeze(1).expand(-1, coupling_mask.size()[0]), coupling_mask.unsqueeze(0).expand(samples.size()[0], -1))\n",
    "    num_ones_y_z = pt.bitwise_and(samples.unsqueeze(1).expand(-1, phase_mask.size()[0]), phase_mask.unsqueeze(0).expand(samples.size()[0], -1))\n",
    "    mask = 2**pt.arange(2**5)\n",
    "    num_ones_y_z = pt.sum(num_ones_y_z.unsqueeze(-1).bitwise_and(mask).ne(0).byte(), dim=2)\n",
    "    phases = 1j**num_y.unsqueeze(0).expand(samples.size()[0], -1) * (-1)**num_ones_y_z\n",
    "    ampl_old = MPSQuantumState(qubit_num, mps).amplitude(samples)\n",
    "    ampl_new = MPSQuantumState(qubit_num, mps).amplitude(basis_idx_new.reshape(pt.prod(pt.tensor(basis_idx_new.size()))))\n",
    "    ampl_new = ampl_new.reshape((pt.tensor(basis_idx_new.size())[0],pt.tensor(basis_idx_new.size())[1]))\n",
    "    exp_vals = ampl_new * phases\n",
    "    e_loc = pt.einsum('ab,b->a', exp_vals, coeff)\n",
    "    e_loc = e_loc / ampl_old\n",
    "    return e_loc"
   ],
   "metadata": {
    "collapsed": false,
    "pycharm": {
     "name": "#%%\n"
    }
   }
  },
  {
   "cell_type": "code",
   "execution_count": 53,
   "outputs": [],
   "source": [
    "# precomputations for TFIM\n",
    "observables = TfimHamiltonianOpenFermion(qubit_num, 0.1, 1, 'open').observables_for_energy_estimation()\n",
    "coupling_mask = pt.zeros(len(observables), dtype=pt.int)\n",
    "phase_mask = pt.zeros(len(observables), dtype=pt.int)\n",
    "num_y = pt.zeros(len(observables), dtype=pt.int)\n",
    "coeff = pt.zeros(len(observables), dtype=pt.cdouble)\n",
    "for i in range(len(observables)):\n",
    "    for observable_1_loc in observables[i]:\n",
    "        if observable_1_loc[0] == 'X' or observable_1_loc[0] == 'Y':\n",
    "            coupling_mask[i] = coupling_mask[i] + 2**(qubit_num - 1 - observable_1_loc[1])\n",
    "        if observable_1_loc[0] == 'Y' or observable_1_loc[0] == 'Z':\n",
    "            phase_mask[i] = phase_mask[i] + 2**(qubit_num - 1 - observable_1_loc[1])\n",
    "        if observable_1_loc[0] == 'Y':\n",
    "            num_y[i] = num_y[i] + 1\n",
    "        if observable_1_loc[0] == 'X':\n",
    "            coeff[i] = ratio_h_j\n",
    "        if observable_1_loc[0] == 'Z':\n",
    "            coeff[i] = 1"
   ],
   "metadata": {
    "collapsed": false,
    "pycharm": {
     "name": "#%%\n"
    }
   }
  },
  {
   "cell_type": "code",
   "execution_count": 59,
   "outputs": [
    {
     "name": "stdout",
     "output_type": "stream",
     "text": [
      "tensor([1.])\n",
      "tensor([1.0000, 1.0000])\n",
      "tensor([1.0000, 1.0000, 1.0000])\n",
      "tensor([1.0000, 1.0000, 1.0000, 1.0000, 1.0000, 1.0000])\n",
      "tensor([1.0000, 1.0000, 1.0000, 1.0000, 1.0000, 1.0000, 1.0000, 1.0000, 1.0000])\n",
      "tensor([1.0000, 1.0000, 1.0000, 1.0000, 1.0000, 1.0000, 1.0000, 1.0000, 1.0000])\n",
      "tensor(0.5808+0.0232j, dtype=torch.complex128, grad_fn=<SubBackward0>)\n"
     ]
    }
   ],
   "source": [
    "mps.orth_idx = 0\n",
    "mps.canonicalise(qubit_num - 1)\n",
    "mps.normalise()\n",
    "samples, probs = MPSQuantumState(qubit_num, mps).measure(10)\n",
    "e_loc = local_energy(pt.tensor(samples), coupling_mask, phase_mask, num_y, coeff)\n",
    "probab = MPSQuantumState(qubit_num, mps).prob(pt.tensor(samples))\n",
    "energy_mean = pt.sum(e_loc * probab) / pt.sum(probab)\n",
    "print(energy_mean - energy_bf)"
   ],
   "metadata": {
    "collapsed": false,
    "pycharm": {
     "name": "#%%\n"
    }
   }
  },
  {
   "cell_type": "code",
   "execution_count": null,
   "outputs": [],
   "source": [],
   "metadata": {
    "collapsed": false,
    "pycharm": {
     "name": "#%%\n"
    }
   }
  }
 ],
 "metadata": {
  "kernelspec": {
   "display_name": "Python 3",
   "language": "python",
   "name": "python3"
  },
  "language_info": {
   "codemirror_mode": {
    "name": "ipython",
    "version": 2
   },
   "file_extension": ".py",
   "mimetype": "text/x-python",
   "name": "python",
   "nbconvert_exporter": "python",
   "pygments_lexer": "ipython2",
   "version": "2.7.6"
  }
 },
 "nbformat": 4,
 "nbformat_minor": 0
}