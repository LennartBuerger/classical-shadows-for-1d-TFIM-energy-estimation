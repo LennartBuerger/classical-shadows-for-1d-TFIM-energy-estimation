{
 "cells": [
  {
   "cell_type": "code",
   "execution_count": 1,
   "metadata": {
    "collapsed": true
   },
   "outputs": [],
   "source": [
    "import numpy as np\n",
    "import torch as pt\n",
    "from matplotlib import pyplot as plt\n",
    "import sys\n",
    "from pathlib import Path\n",
    "sys.path.append(Path('../deterministic'))\n",
    "from deterministic.mps import MPS\n",
    "import src.constants as constants\n",
    "import sys\n",
    "from display_data.data_acquisition_shadow import derandomized_classical_shadow, randomized_classical_shadow\n",
    "from display_data.prediction_shadow import estimate_exp\n",
    "sys.path.append(Path('../src'))\n",
    "from src.tfim_hamiltonian_open_fermion import TfimHamiltonianOpenFermion\n",
    "from src.mps_quantum_state import MPSQuantumState"
   ]
  },
  {
   "cell_type": "code",
   "execution_count": 4,
   "outputs": [],
   "source": [
    "#generate a random tensor list\n",
    "qubit_num = 10\n",
    "bond_dim = 50\n",
    "tensor_liste = [pt.randn([1, 2, bond_dim], dtype=pt.cdouble)]\n",
    "for idx in range(qubit_num - 2):\n",
    "    tensor_liste.append(pt.rand([bond_dim, 2, bond_dim], dtype=pt.cdouble))\n",
    "tensor_liste.append(pt.rand([bond_dim, 2, 1], dtype=pt.cdouble))"
   ],
   "metadata": {
    "collapsed": false,
    "pycharm": {
     "name": "#%%\n"
    }
   }
  },
  {
   "cell_type": "code",
   "execution_count": 5,
   "outputs": [],
   "source": [
    "# this function converts the stored measurement outcomes to the correct shape needed for the shadow prediction\n",
    "def conversion_to_prediction_shadow_dict_shape(measurement_procedure, measurement_index, qubit_num):\n",
    "    to_str_func = np.vectorize(lambda x: np.binary_repr(x).zfill(qubit_num))\n",
    "    strs = to_str_func(measurement_index)\n",
    "    dirac_rep = np.zeros(list(measurement_index.shape) + [qubit_num], dtype=np.int8)\n",
    "    for bit_ix in range(0, qubit_num):\n",
    "        fetch_bit_func = np.vectorize(lambda x: x[bit_ix] == '1')\n",
    "        dirac_rep[...,bit_ix] = fetch_bit_func(strs).astype(\"int8\")\n",
    "    measurement_array = np.where(dirac_rep == 1, -1, dirac_rep)\n",
    "    measurement_array = np.where(dirac_rep == 0, 1, measurement_array)\n",
    "    measurement = np.dstack((measurement_procedure, np.array(measurement_array, dtype=int)))\n",
    "    return measurement"
   ],
   "metadata": {
    "collapsed": false,
    "pycharm": {
     "name": "#%%\n"
    }
   }
  },
  {
   "cell_type": "code",
   "execution_count": 6,
   "outputs": [
    {
     "data": {
      "text/plain": "tensor([[0, 1, 0, 1, 0, 0, 0, 0, 0, 0],\n        [0, 0, 1, 0, 1, 0, 0, 0, 0, 0]], dtype=torch.int32)"
     },
     "execution_count": 6,
     "metadata": {},
     "output_type": "execute_result"
    }
   ],
   "source": [
    "idx = [10, 20]\n",
    "mps.idx_to_visible(idx)"
   ],
   "metadata": {
    "collapsed": false,
    "pycharm": {
     "name": "#%%\n"
    }
   }
  },
  {
   "cell_type": "code",
   "execution_count": 3,
   "outputs": [],
   "source": [
    "ratio_h_j = 0.1\n",
    "qubit_num = 10\n",
    "save_direc_groundstate = Path('data/Diagonal_hamiltonian/groundstate_dict.npy')\n",
    "ground_state_dict = np.load(save_direc_groundstate, allow_pickle='TRUE')\n",
    "ground_state_dict = ground_state_dict.item()\n",
    "ground_state = ground_state_dict[str(1)]['open'][str(qubit_num)][str(ratio_h_j)]\n",
    "mps = MPS.from_state_vector(qubit_num, ground_state)\n",
    "tensor_liste = mps.tensors"
   ],
   "metadata": {
    "collapsed": false,
    "pycharm": {
     "name": "#%%\n"
    }
   }
  },
  {
   "cell_type": "code",
   "execution_count": 4,
   "outputs": [
    {
     "name": "stdout",
     "output_type": "stream",
     "text": [
      "-9.030021937875183\n"
     ]
    }
   ],
   "source": [
    "save_direc_eigs = Path('data/Diagonal_hamiltonian/eigenvalues_first_three_dict.npy')\n",
    "energy_dict = np.load(save_direc_eigs, allow_pickle=True)\n",
    "energy_dict = energy_dict.item()\n",
    "energy_brute = energy_dict[str(1)]['open'][str(qubit_num)][str(ratio_h_j)][0]\n",
    "print(energy_brute)"
   ],
   "metadata": {
    "collapsed": false,
    "pycharm": {
     "name": "#%%\n"
    }
   }
  },
  {
   "cell_type": "code",
   "execution_count": 17,
   "outputs": [],
   "source": [
    "# now we have a method to keep only the unique indices, now we convert the measurements to the necessary shape for shadow prediction\n",
    "batches = 12\n",
    "num_of_measurements = np.array([10, 20, 50, 100, 200, 500, 1000])\n",
    "num_of_measurements_per_rot = 30\n",
    "energies_different_meas_num = np.zeros((np.size(num_of_measurements), batches))\n",
    "for b in range(batches):\n",
    "    for i in range(np.size(num_of_measurements)):\n",
    "        meas_outcomes, meas_procedure, probs = MPSQuantumState(qubit_num, tensor_liste).measurement_shadow(num_of_measurements[i], num_of_measurements_per_rot)\n",
    "        energies = pt.zeros(len(meas_outcomes))\n",
    "        for n in range(len(meas_outcomes)):\n",
    "            # first get the unique elements of this torch tensor\n",
    "            unique_meas_outcomes, index_perm = np.unique(meas_outcomes[n].numpy(), return_index=True)\n",
    "            # probs_sorted = probs[n][index_perm] # if we just want to compute the energy we can easily use these probabilities we get for free when sampling\n",
    "            # when we want to determine the gradient via autodiff though, the connection to the underlying tensors has to be more direct\n",
    "            # thus we compute the probabilities again, from the tensors directly\n",
    "            probs_direct = MPSQuantumState(qubit_num, tensor_liste).rotate_pauli(meas_procedure[n]).prob(pt.tensor(unique_meas_outcomes))\n",
    "            measurements = conversion_to_prediction_shadow_dict_shape([meas_procedure[n]]*len(unique_meas_outcomes), unique_meas_outcomes, qubit_num)\n",
    "            energies[n] = TfimHamiltonianOpenFermion(qubit_num, ratio_h_j, 1, 'open').energy_shadow_mps_modified(measurements, probs_direct) #run this for both probs\n",
    "        energy = pt.mean(energies)\n",
    "        energies_different_meas_num[i,b] = energy"
   ],
   "metadata": {
    "collapsed": false,
    "pycharm": {
     "name": "#%%\n"
    }
   }
  },
  {
   "cell_type": "code",
   "execution_count": 20,
   "outputs": [
    {
     "data": {
      "text/plain": "<Figure size 432x288 with 1 Axes>",
      "image/png": "[encoded data removed]"
     },
     "metadata": {
      "needs_background": "light"
     },
     "output_type": "display_data"
    }
   ],
   "source": [
    "rel_error = np.abs((energies_different_meas_num - energy_brute) / energy_brute)\n",
    "rel_error_mean = np.mean(rel_error, axis=1)\n",
    "rel_error_std = np.mean(rel_error, axis=1)\n",
    "plt.plot(num_of_measurements, rel_error_mean)\n",
    "plt.fill_between(num_of_measurements, rel_error_mean - rel_error_std, rel_error_mean + rel_error_std, alpha=0.3)\n",
    "plt.yscale('log')\n",
    "plt.xscale('log')"
   ],
   "metadata": {
    "collapsed": false,
    "pycharm": {
     "name": "#%%\n"
    }
   }
  },
  {
   "cell_type": "code",
   "execution_count": 5,
   "outputs": [],
   "source": [
    "# now we try to estimate the gradient directly by contracting the mps with hamiltonian\n",
    "#generate a random tensor list\n",
    "qubit_num = 10\n",
    "ratio_h_j = 0.1\n",
    "bond_dim = 50\n",
    "tensor_liste_rand = [pt.rand([1, 2, bond_dim], dtype=pt.cdouble)]\n",
    "for idx in range(qubit_num - 2):\n",
    "    tensor_liste_rand.append(pt.rand([bond_dim, 2, bond_dim], dtype=pt.cdouble))\n",
    "tensor_liste_rand.append(pt.rand([bond_dim, 2, 1], dtype=pt.cdouble))\n",
    "mps = MPS.from_tensor_list(tensor_liste_rand).normalise()\n",
    "param_vec = mps.to_param_vec()\n",
    "# we only needed this param vec to determine the size of the tensor\n",
    "random_param_vec = pt.rand(param_vec.size()[0], dtype=pt.cdouble)"
   ],
   "metadata": {
    "collapsed": false,
    "pycharm": {
     "name": "#%%\n"
    }
   }
  },
  {
   "cell_type": "code",
   "execution_count": 3,
   "outputs": [],
   "source": [
    "# we estimate the energy exactly by contraction with the hamiltonian\n",
    "random_param_vec_brute = random_param_vec.detach()\n",
    "random_param_vec_brute.requires_grad_(True)\n",
    "mps.from_param_vec(param_vec = random_param_vec_brute)\n",
    "psi = mps.to_state_vector()\n",
    "hamiltonian = pt.tensor(TfimHamiltonianOpenFermion(qubit_num, ratio_h_j, 1, 'open').to_matrix().todense())\n",
    "energy = psi.conj() @ hamiltonian @ psi / (psi.conj() @ psi)"
   ],
   "metadata": {
    "collapsed": false,
    "pycharm": {
     "name": "#%%\n"
    }
   }
  },
  {
   "cell_type": "code",
   "execution_count": 8,
   "outputs": [],
   "source": [
    "# now we estimate the gradient by using the classical shadows\n",
    "random_param_vec_shadow = random_param_vec.detach()\n",
    "random_param_vec_shadow.requires_grad_(True)\n",
    "mps = MPS.from_tensor_list(tensor_liste_rand)\n",
    "mps.from_param_vec(param_vec=random_param_vec_shadow)\n",
    "tensor_liste = mps.tensors\n",
    "num_of_measurements = 100\n",
    "num_of_measurements_per_rot = 20\n",
    "meas_outcomes, meas_procedure, probs = MPSQuantumState(qubit_num, tensor_liste).measurement_shadow(num_of_measurements, num_of_measurements_per_rot)\n",
    "energies = pt.zeros(len(meas_outcomes))\n",
    "for n in range(len(meas_outcomes)):\n",
    "    # first get the unique elements of this torch tensor\n",
    "    unique_meas_outcomes, index_perm = np.unique(meas_outcomes[n].numpy(), return_index=True)\n",
    "    # probs_sorted = probs[n][index_perm] # if we just want to compute the energy we can easily use these probabilities we get for free when sampling\n",
    "    # when we want to determine the gradient via autodiff though, the connection to the underlying tensors has to be more direct\n",
    "    # thus we compute the probabilities again, from the tensors directly\n",
    "    probs_direct = MPSQuantumState(qubit_num, tensor_liste).rotate_pauli(meas_procedure[n]).prob(pt.tensor(unique_meas_outcomes))\n",
    "    measurements = conversion_to_prediction_shadow_dict_shape([meas_procedure[n]]*len(unique_meas_outcomes), unique_meas_outcomes, qubit_num)\n",
    "    energies[n] = TfimHamiltonianOpenFermion(qubit_num, ratio_h_j, 1, 'open').energy_shadow_mps_modified(measurements, probs_direct)\n",
    "energy_shadow = pt.mean(energies)"
   ],
   "metadata": {
    "collapsed": false,
    "pycharm": {
     "name": "#%%\n"
    }
   }
  },
  {
   "cell_type": "code",
   "execution_count": 9,
   "outputs": [
    {
     "name": "stdout",
     "output_type": "stream",
     "text": [
      "tensor(11.0674, grad_fn=<MeanBackward0>)\n",
      "tensor(9.9869+3.4869e-17j, dtype=torch.complex128, grad_fn=<DivBackward0>)\n",
      "tensor([ 9.2000e-04+0.0002j,  6.6045e-04+0.0007j,  1.3397e-05-0.0005j,\n",
      "         ..., -3.7647e-03-0.0005j,  4.4741e-03+0.0014j,\n",
      "        -4.3349e-03-0.0011j], dtype=torch.complex128)\n",
      "tensor([-0.0031+0.2147j, -0.0020+0.2369j, -0.0201+0.2078j,  ...,\n",
      "         0.2120+0.1903j,  0.2356+0.1994j,  0.2039+0.1586j],\n",
      "       dtype=torch.complex128)\n",
      "tensor(93.5050, dtype=torch.float64)\n",
      "tensor(0.0549, dtype=torch.float64)\n"
     ]
    }
   ],
   "source": [
    "energy.backward()\n",
    "energy_shadow.backward()\n",
    "print(energy_shadow)\n",
    "print(energy)\n",
    "print(random_param_vec_brute.grad)\n",
    "print(random_param_vec_shadow.grad)\n",
    "print(pt.linalg.norm((random_param_vec_brute.grad - random_param_vec_shadow.grad)/pt.linalg.norm(random_param_vec_brute.grad)))\n",
    "print(pt.linalg.norm(random_param_vec_brute.grad))"
   ],
   "metadata": {
    "collapsed": false,
    "pycharm": {
     "name": "#%%\n"
    }
   }
  },
  {
   "cell_type": "code",
   "execution_count": 10,
   "outputs": [],
   "source": [
    "# we do gradient descent with the exact hamiltonian contraction method and see whether we converge to the ground state"
   ],
   "metadata": {
    "collapsed": false,
    "pycharm": {
     "name": "#%%\n"
    }
   }
  },
  {
   "cell_type": "code",
   "execution_count": 66,
   "outputs": [],
   "source": [
    "# doing gradient descent using pytorch optimizer\n",
    "step_num = 500\n",
    "lr = 0.01\n",
    "random_param_vec_brute = random_param_vec.detach()\n",
    "random_param_vec_brute.requires_grad_(True)\n",
    "opt = torch.optim.Adam([random_param_vec_brute], lr=lr)\n",
    "\n",
    "accuracy = np.zeros(step_num)\n",
    "for i in range(0, step_num):\n",
    "    opt.zero_grad()\n",
    "    mps.from_param_vec(param_vec = random_param_vec_brute)\n",
    "    psi = mps.to_state_vector()\n",
    "    hamiltonian = pt.from_numpy(TfimHamiltonianOpenFermion(qubit_num, ratio_h_j, 1, 'open').to_matrix().todense())\n",
    "    energy = psi.conj() @ hamiltonian @ psi / (psi.conj() @ psi)\n",
    "    energy.backward()\n",
    "    accuracy[i] = np.abs(energy.detach() - energy_brute) / np.abs(energy_brute)\n",
    "    opt.step()"
   ],
   "metadata": {
    "collapsed": false,
    "pycharm": {
     "name": "#%%\n"
    }
   }
  },
  {
   "cell_type": "code",
   "execution_count": 68,
   "outputs": [
    {
     "data": {
      "text/plain": "<Figure size 432x288 with 1 Axes>",
      "image/png": "[encoded data removed]"
     },
     "metadata": {
      "needs_background": "light"
     },
     "output_type": "display_data"
    }
   ],
   "source": [
    "plt.plot(np.arange(0, step_num), accuracy)\n",
    "plt.yscale('log')"
   ],
   "metadata": {
    "collapsed": false,
    "pycharm": {
     "name": "#%%\n"
    }
   }
  },
  {
   "cell_type": "code",
   "execution_count": null,
   "outputs": [
    {
     "name": "stdout",
     "output_type": "stream",
     "text": [
      "progress: 0 / 50\n",
      "progress: 1 / 50\n"
     ]
    }
   ],
   "source": [
    "# doing gradient descent using pytorch optimizer\n",
    "step_num = 50\n",
    "lr = 0.01\n",
    "random_param_vec_shadow = random_param_vec.detach()\n",
    "random_param_vec_shadow.requires_grad_(True)\n",
    "opt = torch.optim.Adam([random_param_vec_shadow], lr=lr)\n",
    "num_of_measurements = 50\n",
    "num_of_measurements_per_rot = 30\n",
    "\n",
    "accuracy = np.zeros(step_num)\n",
    "for i in range(step_num):\n",
    "    opt.zero_grad()\n",
    "    mps.from_param_vec(param_vec=random_param_vec_shadow)\n",
    "    tensor_liste = mps.tensors\n",
    "    meas_outcomes, meas_procedure, probs = MPSQuantumState(qubit_num, tensor_liste).measurement_shadow(num_of_measurements, num_of_measurements_per_rot)\n",
    "    energies = pt.zeros(len(meas_outcomes))\n",
    "    for n in range(len(meas_outcomes)):\n",
    "        # first get the unique elements of this torch tensor\n",
    "        unique_meas_outcomes, index_perm = np.unique(meas_outcomes[n].numpy(), return_index=True)\n",
    "        # probs_sorted = probs[n][index_perm] # if we just want to compute the energy we can easily use these probabilities we get for free when sampling\n",
    "        # when we want to determine the gradient via autodiff though, the connection to the underlying tensors has to be more direct\n",
    "        # thus we compute the probabilities again, from the tensors directly\n",
    "        probs_direct = MPSQuantumState(qubit_num, tensor_liste).rotate_pauli(meas_procedure[n]).prob(pt.tensor(unique_meas_outcomes))\n",
    "        measurements = conversion_to_prediction_shadow_dict_shape([meas_procedure[n]]*len(unique_meas_outcomes), unique_meas_outcomes, qubit_num)\n",
    "        energies[n] = TfimHamiltonianOpenFermion(qubit_num, ratio_h_j, 1, 'open').energy_shadow_mps_modified(measurements, probs_direct)\n",
    "    energy_shadow = pt.mean(energies)\n",
    "    energy_shadow.backward()\n",
    "    accuracy[i] = np.abs(energy_shadow.detach() - energy_brute) / np.abs(energy_brute)\n",
    "    opt.step()\n",
    "    print('progress: ' + str(i) + ' / ' + str(step_num))"
   ],
   "metadata": {
    "collapsed": false,
    "pycharm": {
     "name": "#%%\n",
     "is_executing": true
    }
   }
  },
  {
   "cell_type": "code",
   "execution_count": null,
   "outputs": [],
   "source": [
    "plt.plot(np.arange(0, step_num), accuracy)"
   ],
   "metadata": {
    "collapsed": false,
    "pycharm": {
     "name": "#%%\n",
     "is_executing": true
    }
   }
  },
  {
   "cell_type": "code",
   "execution_count": 9,
   "outputs": [],
   "source": [
    "# rewriting the sampling/measure function\n",
    "# sampling algorithm\n",
    "def sampling_one_sample(mps, qubit_num):\n",
    "    #we store the sampled bits and probabilities in here\n",
    "    bits_sampled = pt.zeros(qubit_num)\n",
    "    probabilities_for_bits = pt.ones(qubit_num)\n",
    "    mps.canonicalise(qubit_num - 1)\n",
    "    #we only need to do this step if the MPS is not normalised\n",
    "    part_func = mps.norm()\n",
    "    #contract the network\n",
    "    for idx_rev in range(qubit_num - 1, -1, -1):\n",
    "        if idx_rev==qubit_num-1:\n",
    "            result = pt.einsum('ijl,iml->jm', mps.tensors[idx_rev], mps.tensors[idx_rev].conj())\n",
    "        else:\n",
    "            #fixing already sampled indices of visibles from here\n",
    "            result = pt.einsum('fh,jh->fj', mps.tensors[qubit_num-1][:,int(bits_sampled[qubit_num-1].item()),:], mps.tensors[qubit_num-1][:,int(bits_sampled[qubit_num-1].item()),:].conj())\n",
    "            for counter_rev in range(qubit_num - 2, idx_rev, -1):\n",
    "                # Left -> Right\n",
    "                result = pt.einsum('fj,df->dj', result, mps.tensors[counter_rev][:,int(bits_sampled[counter_rev].item()),:])\n",
    "                # Top -> Bottom\n",
    "                result = pt.einsum('dj,lj->dl', result, mps.tensors[counter_rev][:,int(bits_sampled[counter_rev].item()),:].conj())\n",
    "            # indices of visibles not fixed anymore\n",
    "            result = pt.einsum('rs,acr->acs', result, mps.tensors[idx_rev])\n",
    "            result = pt.einsum('acs,ams->cm', result, mps.tensors[idx_rev].conj())\n",
    "    #contraction done\n",
    "        prob_for_previous_bits = pt.prod(probabilities_for_bits, dim=0)\n",
    "        probs = [(pt.abs(result[0,0])/part_func)/prob_for_previous_bits, (pt.abs(result[1,1])/part_func)/prob_for_previous_bits]\n",
    "        bits_sampled[idx_rev] = pt.multinomial(pt.tensor([probs[0].real.item(), probs[1].real.item()]), 1, replacement=True)[0].item()\n",
    "        probabilities_for_bits[idx_rev] = probs[int(bits_sampled[idx_rev].item())]\n",
    "    print(bits_sampled)\n",
    "    return mps.visible_to_idx(bits_sampled), pt.prod(probabilities_for_bits)"
   ],
   "metadata": {
    "collapsed": false,
    "pycharm": {
     "name": "#%%\n"
    }
   }
  },
  {
   "cell_type": "code",
   "execution_count": 14,
   "outputs": [
    {
     "name": "stdout",
     "output_type": "stream",
     "text": [
      "tensor([1., 0., 1., 0., 1., 0., 1., 0., 1., 0.])\n",
      "tensor(341, dtype=torch.int32) tensor(0.4950)\n"
     ]
    }
   ],
   "source": [
    "ratio_h_j = 0.1\n",
    "qubit_num = 10\n",
    "save_direc_groundstate = Path('data/Diagonal_hamiltonian/groundstate_dict.npy')\n",
    "ground_state_dict = np.load(save_direc_groundstate, allow_pickle='TRUE')\n",
    "ground_state_dict = ground_state_dict.item()\n",
    "ground_state = ground_state_dict[str(1)]['open'][str(qubit_num)][str(ratio_h_j)]\n",
    "mps = MPS.from_state_vector(qubit_num, ground_state)\n",
    "meas_bases = randomized_classical_shadow(1, qubit_num)\n",
    "#mps = MPSQuantumState(qubit_num, mps).rotate_pauli(meas_bases[0]).mps\n",
    "index_sampled, prob = sampling_one_sample(mps, qubit_num)\n",
    "print(index_sampled, prob)"
   ],
   "metadata": {
    "collapsed": false,
    "pycharm": {
     "name": "#%%\n"
    }
   }
  },
  {
   "cell_type": "code",
   "execution_count": 62,
   "outputs": [
    {
     "name": "stdout",
     "output_type": "stream",
     "text": [
      "tensor([0.0042+0.j, 0.0031+0.j], dtype=torch.complex128)\n"
     ]
    }
   ],
   "source": [
    "prob_direct = MPSQuantumState(qubit_num, mps).prob(pt.tensor([index_sampled.item(), 1]))\n",
    "print(prob_direct)"
   ],
   "metadata": {
    "collapsed": false,
    "pycharm": {
     "name": "#%%\n"
    }
   }
  },
  {
   "cell_type": "code",
   "execution_count": null,
   "outputs": [],
   "source": [],
   "metadata": {
    "collapsed": false,
    "pycharm": {
     "name": "#%%\n"
    }
   }
  }
 ],
 "metadata": {
  "kernelspec": {
   "display_name": "Python 3",
   "language": "python",
   "name": "python3"
  },
  "language_info": {
   "codemirror_mode": {
    "name": "ipython",
    "version": 2
   },
   "file_extension": ".py",
   "mimetype": "text/x-python",
   "name": "python",
   "nbconvert_exporter": "python",
   "pygments_lexer": "ipython2",
   "version": "2.7.6"
  }
 },
 "nbformat": 4,
 "nbformat_minor": 0
}