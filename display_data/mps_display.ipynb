{
 "cells": [
  {
   "cell_type": "code",
   "execution_count": 1,
   "metadata": {
    "collapsed": true
   },
   "outputs": [],
   "source": [
    "import sys\n",
    "import numpy as np\n",
    "import torch as pt\n",
    "import matplotlib.pyplot as plt\n",
    "import sys\n",
    "from pathlib import Path\n",
    "sys.path.append(Path('../deterministic'))\n",
    "from deterministic.mps import MPS\n",
    "import src.constants as constants\n",
    "from display_data.data_acquisition_shadow import derandomized_classical_shadow, randomized_classical_shadow\n",
    "from display_data.prediction_shadow import estimate_exp"
   ]
  },
  {
   "cell_type": "code",
   "execution_count": 2,
   "outputs": [
    {
     "name": "stdout",
     "output_type": "stream",
     "text": [
      "MPS None:\n",
      "\tvisible_num = 10\n",
      "\tphys_dims = [2, 2, 2, 2, 2, 2, 2, 2, 2, 2]\n",
      "\tbond_dims = [2, 4, 8, 16, 32, 16, 8, 4, 2]\n",
      "\text_bond_dims = [1, 2, 4, 8, 16, 32, 16, 8, 4, 2, 1]\n",
      "\torth_idx = None\n",
      "\n"
     ]
    }
   ],
   "source": [
    "qubit_num = 10\n",
    "psi = pt.rand(2**qubit_num, dtype=pt.cdouble)\n",
    "mps = MPS.from_state_vector(qubit_num, psi)\n",
    "print(mps)"
   ],
   "metadata": {
    "collapsed": false,
    "pycharm": {
     "name": "#%%\n"
    }
   }
  },
  {
   "cell_type": "code",
   "execution_count": 2,
   "outputs": [],
   "source": [
    "#generate a random tensor list\n",
    "qubit_num = 12\n",
    "bond_dim = 50\n",
    "tensor_liste = [pt.rand([1, 2, bond_dim], dtype=pt.cdouble)]\n",
    "for idx in range(qubit_num - 2):\n",
    "    tensor_liste.append(pt.rand([bond_dim, 2, bond_dim], dtype=pt.cdouble))\n",
    "tensor_liste.append(pt.rand([bond_dim, 2, 1], dtype=pt.cdouble))"
   ],
   "metadata": {
    "collapsed": false,
    "pycharm": {
     "name": "#%%\n"
    }
   }
  },
  {
   "cell_type": "code",
   "execution_count": 12,
   "outputs": [
    {
     "name": "stdout",
     "output_type": "stream",
     "text": [
      "tensor([[5.5081e+11+1.5233e-05j]], dtype=torch.complex128)\n"
     ]
    }
   ],
   "source": [
    "#compute the norm of the tensor network\n",
    "def norm(qubit_num, tensor_list):\n",
    "    result = pt.einsum('abc,abj->cj', tensor_list[0], tensor_list[0].conj())\n",
    "    for idx in range(1, qubit_num-1):\n",
    "        result = pt.einsum('cj,cab->jab', result, tensor_list[idx])\n",
    "        result = pt.einsum('jab,jad->bd', result, tensor_list[idx].conj())\n",
    "    result = pt.einsum('ab,acj->bcj', result, tensor_list[qubit_num - 1])\n",
    "    result = pt.einsum('bcj,bci->ji', result, tensor_list[qubit_num - 1].conj())\n",
    "    return pt.sqrt(result)\n",
    "\n",
    "print(norm(qubit_num=10, tensor_list=tensor_liste))"
   ],
   "metadata": {
    "collapsed": false,
    "pycharm": {
     "name": "#%%\n"
    }
   }
  },
  {
   "cell_type": "code",
   "execution_count": 20,
   "outputs": [
    {
     "name": "stdout",
     "output_type": "stream",
     "text": [
      "tensor(1.8514e+15+0.0196j, dtype=torch.complex128)\n"
     ]
    }
   ],
   "source": [
    "mps = MPS.from_tensor_list(tensor_liste)\n",
    "print(mps.norm())\n",
    "# -> the result is the same as it should be"
   ],
   "metadata": {
    "collapsed": false,
    "pycharm": {
     "name": "#%%\n"
    }
   }
  },
  {
   "cell_type": "code",
   "execution_count": 15,
   "outputs": [
    {
     "name": "stdout",
     "output_type": "stream",
     "text": [
      "tensor([[25.9219+0.j]], dtype=torch.complex128)\n"
     ]
    }
   ],
   "source": [
    "print(norm(10, mps.tensors))"
   ],
   "metadata": {
    "collapsed": false,
    "pycharm": {
     "name": "#%%\n"
    }
   }
  },
  {
   "cell_type": "code",
   "source": [
    "#make tensor specified by idx center of orthogonality\n",
    "def canonicalise(tensor_list, idx, D):\n",
    "    #from the left\n",
    "    for index in range(0, idx):\n",
    "        bond_dim_left = tensor_list[index][:,0,0].size()[0]\n",
    "        bond_dim_right = tensor_list[index][0,0,:].size()[0]\n",
    "        Qm, R = pt.linalg.qr(tensor_list[index].reshape(bond_dim_left*D, bond_dim_right))\n",
    "        tensor_list[index] = pt.reshape(Qm, (bond_dim_left, D, Qm.size()[1]))\n",
    "        tensor_list[index + 1] = pt.einsum('ab,bcd->acd', R, tensor_list[index + 1])\n",
    "    for index in range(idx, len(tensor_list) - 1):\n",
    "        index = len(tensor_list) - 1 - index + idx #because we want to start from the right\n",
    "        bond_dim_left = tensor_list[index][:,0,0].size()[0]\n",
    "        bond_dim_right = tensor_list[index][0,0,:].size()[0]\n",
    "        Qm_t, R_t = pt.linalg.qr(pt.t(tensor_list[index].reshape(bond_dim_left, bond_dim_right * D)))\n",
    "        Qm = pt.t(Qm_t)\n",
    "        R = pt.t(R_t)\n",
    "        tensor_list[index] = pt.reshape(Qm, (Qm_t.size()[1], D, bond_dim_right))\n",
    "        tensor_list[index - 1] = pt.einsum('abc,cd->abd', tensor_list[index - 1], R)\n",
    "    return tensor_list\n",
    "\n",
    "print(canonicalise(tensor_list=tensor_liste, idx=9, D=2)[9])\n"
   ],
   "metadata": {
    "collapsed": false,
    "pycharm": {
     "name": "#%%\n"
    }
   },
   "execution_count": 9,
   "outputs": [
    {
     "name": "stdout",
     "output_type": "stream",
     "text": [
      "tensor([[[-2.0688e+11-3.3123e+11j],\n",
      "         [-2.0574e+11-3.2946e+11j]],\n",
      "\n",
      "        [[-2.9711e+08+2.2473e+08j],\n",
      "         [ 7.4502e+08+4.2499e+07j]]], dtype=torch.complex128)\n"
     ]
    }
   ]
  },
  {
   "cell_type": "code",
   "execution_count": 10,
   "outputs": [
    {
     "name": "stdout",
     "output_type": "stream",
     "text": [
      "tensor(5.0636e+11, dtype=torch.float64)\n",
      "tensor([[5.0636e+11-6.6266e-05j]], dtype=torch.complex128)\n"
     ]
    }
   ],
   "source": [
    "print(pt.linalg.norm(canonicalise(tensor_list=MPS.from_tensor_list(tensor_liste).tensors, idx=4, D=2)[4]))\n",
    "print(norm(10, tensor_liste))\n",
    "# -> the results agree as they should"
   ],
   "metadata": {
    "collapsed": false,
    "pycharm": {
     "name": "#%%\n"
    }
   }
  },
  {
   "cell_type": "code",
   "execution_count": 3,
   "outputs": [],
   "source": [
    "def canonicalise_left_to_index(tensor_list, idx, phys_dim):\n",
    "    #from the left\n",
    "    for index in range(0, idx):\n",
    "        bond_dim_left = tensor_list[index][:,0,0].size()[0]\n",
    "        bond_dim_right = tensor_list[index][0,0,:].size()[0]\n",
    "        Qm, R = pt.linalg.qr(tensor_list[index].reshape(bond_dim_left*phys_dim, bond_dim_right))\n",
    "        tensor_list[index] = pt.reshape(Qm, (bond_dim_left, phys_dim, Qm.size()[1]))\n",
    "        tensor_list[index + 1] = pt.einsum('ab,bcd->acd', R, tensor_list[index + 1])\n",
    "    return tensor_list"
   ],
   "metadata": {
    "collapsed": false,
    "pycharm": {
     "name": "#%%\n"
    }
   }
  },
  {
   "cell_type": "code",
   "execution_count": 204,
   "outputs": [],
   "source": [
    "# sampling algorithm\n",
    "def sampling(tensor_list, qubit_num, num_samples):\n",
    "    bits_sampled = pt.zeros((qubit_num, num_samples))\n",
    "    probabilities_for_bits = pt.ones((qubit_num, num_samples))\n",
    "    canonicalised_tensors = canonicalise_left_to_index(tensor_list, qubit_num-1, 2)\n",
    "    #we only need to do this step if the MPS is not normalised\n",
    "    part_func = pt.einsum('ijk,ijl->kl', canonicalised_tensors[qubit_num-1], canonicalised_tensors[qubit_num-1].conj())[0,0]\n",
    "\n",
    "    for index in range(qubit_num):\n",
    "        idx = qubit_num - 1 -index\n",
    "        # because the probabilities for all samples is different, we cannot draw them all at once, but have to draw them one by one by looping\n",
    "        for k in range(num_samples):\n",
    "        #contract the network\n",
    "            if idx==qubit_num-1:\n",
    "                result = pt.einsum('ijl,iml->jm', canonicalised_tensors[idx], canonicalised_tensors[idx].conj())\n",
    "            else:\n",
    "                result = pt.einsum('fh,jh->fj', canonicalised_tensors[qubit_num-1][:,int(bits_sampled[qubit_num-1, k].item()),:], canonicalised_tensors[qubit_num-1][:,int(bits_sampled[qubit_num-1, k].item()),:].conj())\n",
    "                for counter in range(qubit_num - 1 - idx - 1):\n",
    "                    index = qubit_num - 1 - counter - 1\n",
    "                    result = pt.einsum('fj,df->dj', result, canonicalised_tensors[index][:,int(bits_sampled[index, k].item()),:])\n",
    "                    result = pt.einsum('dj,lj->dl', result, canonicalised_tensors[index][:,int(bits_sampled[index, k].item()),:].conj())\n",
    "                result = pt.einsum('rs,acr->acs', result, canonicalised_tensors[idx])\n",
    "                result = pt.einsum('acs,ams->cm', result, canonicalised_tensors[idx].conj())\n",
    "        #contraction done\n",
    "            prob_for_previous_bits = pt.prod(probabilities_for_bits[:,k])\n",
    "            probs = [result[0,0]/part_func/prob_for_previous_bits, result[1,1]/part_func/prob_for_previous_bits]\n",
    "            bits_sampled[idx, k] = pt.multinomial(pt.tensor([probs[0].real.item(), probs[1].real.item()]), 1, replacement=True)[0].item()\n",
    "            probabilities_for_bits[idx, k] = probs[int(bits_sampled[idx, k].item())]\n",
    "    return bits_sampled, probabilities_for_bits"
   ],
   "metadata": {
    "collapsed": false,
    "pycharm": {
     "name": "#%%\n"
    }
   }
  },
  {
   "cell_type": "code",
   "execution_count": 206,
   "outputs": [
    {
     "name": "stdout",
     "output_type": "stream",
     "text": [
      "1.76 s ± 44.1 ms per loop (mean ± std. dev. of 7 runs, 1 loop each)\n"
     ]
    }
   ],
   "source": [
    "%timeit sampling(tensor_liste, qubit_num, 100)\n"
   ],
   "metadata": {
    "collapsed": false,
    "pycharm": {
     "name": "#%%\n"
    }
   }
  },
  {
   "cell_type": "code",
   "execution_count": 178,
   "outputs": [],
   "source": [
    "# sampling algorithm\n",
    "def sampling_one_sample(tensor_list, qubit_num):\n",
    "    bits_sampled = pt.zeros(qubit_num)\n",
    "    probabilities_for_bits = pt.ones(qubit_num)\n",
    "    #we only need to do this step if the MPS is not normalised\n",
    "    canonicalised_tensors = canonicalise_left_to_index(tensor_list, qubit_num-1, 2)\n",
    "    part_func = pt.einsum('ijk,ijl->kl', canonicalised_tensors[qubit_num-1], canonicalised_tensors[qubit_num-1].conj())[0,0]\n",
    "\n",
    "    for index in range(qubit_num):\n",
    "        idx = qubit_num - 1 -index\n",
    "        canonicalised_tensors = canonicalise_left_to_index(tensor_list, idx, 2)\n",
    "        #contract the network\n",
    "        if idx==qubit_num-1:\n",
    "            result = pt.einsum('ijl,iml->jm', canonicalised_tensors[idx], canonicalised_tensors[idx].conj())\n",
    "        else:\n",
    "            result = pt.einsum('fh,jh->fj', canonicalised_tensors[qubit_num-1][:,int(bits_sampled[qubit_num-1].item()),:], canonicalised_tensors[qubit_num-1][:,int(bits_sampled[qubit_num-1].item()),:].conj())\n",
    "            for counter in range(qubit_num - 1 - idx - 1):\n",
    "                index = qubit_num - 1 - counter - 1\n",
    "                result = pt.einsum('fj,df->dj', result, canonicalised_tensors[index][:,int(bits_sampled[index].item()),:])\n",
    "                result = pt.einsum('dj,lj->dl', result, canonicalised_tensors[index][:,int(bits_sampled[index].item()),:].conj())\n",
    "            result = pt.einsum('rs,acr->acs', result, canonicalised_tensors[idx])\n",
    "            result = pt.einsum('acs,ams->cm', result, canonicalised_tensors[idx].conj())\n",
    "        #contraction done\n",
    "        prob_for_previous_bits = pt.prod(probabilities_for_bits, dim=0)\n",
    "        probs = [result[0,0]/part_func/prob_for_previous_bits, result[1,1]/part_func/prob_for_previous_bits]\n",
    "        # because the probabilities for all samples is different, we cannot draw them all at once, but have to\n",
    "        bits_sampled[idx] = pt.multinomial(pt.tensor([probs[0].real.item(), probs[1].real.item()]), 1, replacement=True)[0].item()\n",
    "        probabilities_for_bits[idx] = probs[int(bits_sampled[idx].item())]\n",
    "    return bits_sampled, probabilities_for_bits"
   ],
   "metadata": {
    "collapsed": false,
    "pycharm": {
     "name": "#%%\n"
    }
   }
  },
  {
   "cell_type": "code",
   "execution_count": 202,
   "outputs": [
    {
     "name": "stdout",
     "output_type": "stream",
     "text": [
      "60 ms ± 3.55 ms per loop (mean ± std. dev. of 7 runs, 10 loops each)\n"
     ]
    }
   ],
   "source": [
    "%timeit sampling_one_sample(tensor_liste, qubit_num)"
   ],
   "metadata": {
    "collapsed": false,
    "pycharm": {
     "name": "#%%\n"
    }
   }
  },
  {
   "cell_type": "code",
   "execution_count": 207,
   "outputs": [],
   "source": [
    "# apply a rotation\n",
    "def rotation(tensoren, rotation_pauli_string):\n",
    "    rot_tensors = []\n",
    "    for idx in range(len(tensoren)):\n",
    "        rot_tensors.append(pt.einsum('ab,cbd->cad',constants.PAULI_ROT[rotation_pauli_string[idx]], tensoren[idx]))\n",
    "    return rot_tensors"
   ],
   "metadata": {
    "collapsed": false,
    "pycharm": {
     "name": "#%%\n"
    }
   }
  },
  {
   "cell_type": "code",
   "execution_count": 218,
   "outputs": [],
   "source": [
    "# shadow generation\n",
    "def generate_shadow_and_prob(tensoren, qubit_num, number_of_measurements, num_measurements_per_rot):\n",
    "    measurement_outcomes = []\n",
    "    probabilities = []\n",
    "    measurement_procedure = randomized_classical_shadow(number_of_measurements, qubit_num)\n",
    "    for i in range(number_of_measurements):\n",
    "        tensor_list_rot = rotation(tensoren, measurement_procedure[i])\n",
    "        measurement_bits, probs = sampling(tensor_list_rot, qubit_num, num_measurements_per_rot)\n",
    "        probabilities.append(pt.prod(probs, dim = 0))\n",
    "        #convert binary torch tensor to index\n",
    "        measurement_outcome = pt.zeros(num_measurements_per_rot, dtype = pt.int)\n",
    "        for k in range(0, qubit_num):\n",
    "            measurement_outcome[:] = measurement_outcome + measurement_bits[k] * 2**(qubit_num - 1 - k)\n",
    "        measurement_outcomes.append(measurement_outcome)\n",
    "    return measurement_outcomes, measurement_procedure, probabilities"
   ],
   "metadata": {
    "collapsed": false,
    "pycharm": {
     "name": "#%%\n"
    }
   }
  },
  {
   "cell_type": "code",
   "execution_count": 223,
   "outputs": [
    {
     "name": "stdout",
     "output_type": "stream",
     "text": [
      "([tensor([ 1365, 15703,  6816, 10152, 11413,  1237,  7263,  9687,  8042,  5533],\n",
      "       dtype=torch.int32), tensor([ 8360, 15422,   835,  9894,  5835,  2507,  2001,  4040, 15787,  5575],\n",
      "       dtype=torch.int32)], [['X', 'Y', 'Y', 'Y', 'Z', 'X', 'Y', 'X', 'Z', 'Z', 'Y', 'Z', 'X', 'Z'], ['Z', 'X', 'Y', 'X', 'Y', 'Y', 'X', 'Z', 'Z', 'Y', 'X', 'Y', 'X', 'Y']], [tensor([0.0011, 0.0016, 0.0006, 0.0008, 0.0011, 0.0010, 0.0011, 0.0015, 0.0008,\n",
      "        0.0010]), tensor([0.0002, 0.0002, 0.0003, 0.0002, 0.0004, 0.0003, 0.0003, 0.0003, 0.0002,\n",
      "        0.0004])])\n"
     ]
    }
   ],
   "source": [
    "print(generate_shadow_and_prob(tensor_liste, qubit_num, 2, 10))"
   ],
   "metadata": {
    "collapsed": false,
    "pycharm": {
     "name": "#%%\n"
    }
   }
  },
  {
   "cell_type": "code",
   "execution_count": 94,
   "outputs": [],
   "source": [
    "# this function converts the stored measurement outcomes to the correct shape needed for the shadow prediction\n",
    "def conversion_to_prediction_shadow_dict_shape(measurement_procedure, measurement_index, qubit_num):\n",
    "    to_str_func = np.vectorize(lambda x: np.binary_repr(x).zfill(qubit_num))\n",
    "    strs = to_str_func(measurement_index)\n",
    "    dirac_rep = np.zeros(list(measurement_index.shape) + [qubit_num], dtype=np.int8)\n",
    "    for bit_ix in range(0, qubit_num):\n",
    "        fetch_bit_func = np.vectorize(lambda x: x[bit_ix] == '1')\n",
    "        dirac_rep[...,bit_ix] = fetch_bit_func(strs).astype(\"int8\")\n",
    "    measurement_array = np.where(dirac_rep == 1, -1, dirac_rep)\n",
    "    measurement_array = np.where(dirac_rep == 0, 1, measurement_array)\n",
    "    measurement = np.dstack((measurement_procedure, np.array(measurement_array, dtype=int)))\n",
    "    return measurement"
   ],
   "metadata": {
    "collapsed": false,
    "pycharm": {
     "name": "#%%\n"
    }
   }
  },
  {
   "cell_type": "code",
   "execution_count": 158,
   "outputs": [],
   "source": [
    "#now we estimate the energy from the classical shadows, we pick the open boundary TFIM Hamiltonian\n",
    "def ising_energy_shadows(measurements, probabilities, qubit_num, ratio_h_J):\n",
    "    h_val = ratio_h_J\n",
    "    j_val = 1\n",
    "    observables = []\n",
    "    for i in range(0, qubit_num):\n",
    "        x_arr = [['X', i]]\n",
    "        observables.append(x_arr)\n",
    "        if i <= qubit_num - 2:\n",
    "            z_arr = [['Z', i], ['Z', i + 1]]\n",
    "            observables.append(z_arr)\n",
    "\n",
    "\n",
    "    energies = np.zeros(len(measurements))\n",
    "    for j in range(len(measurements)):\n",
    "        for i in range(0, len(observables)):\n",
    "            sum_product, cnt_match = estimate_exp([measurements[j]], observables[i])\n",
    "            if sum_product == 0 and cnt_match == 0:\n",
    "                expectation_val = 0\n",
    "            elif cnt_match == 0 and sum_product != 0:\n",
    "                print('cnt_match is zero (problemo)!')\n",
    "            else:\n",
    "                expectation_val =  sum_product / cnt_match * probabilities[j]\n",
    "            if i % 2 == 0:\n",
    "                energies[j] = energies[j] + h_val * expectation_val * 3 # weighing with factor 3**locality to counteract the chance of hitting\n",
    "            else:\n",
    "                energies[j] = energies[j] + j_val * expectation_val * 3**2\n",
    "        energies[j] = energies[j] / probabilities[j]\n",
    "    energy = np.mean(energies)\n",
    "    return energy"
   ],
   "metadata": {
    "collapsed": false,
    "pycharm": {
     "name": "#%%\n"
    }
   }
  },
  {
   "cell_type": "code",
   "execution_count": 131,
   "outputs": [],
   "source": [
    "def energy_shadow(measurement, ratio_h_j, qubit_num):\n",
    "    observables = []\n",
    "    for i in range(0, qubit_num):\n",
    "        x_arr = [['X', i]]\n",
    "        observables.append(x_arr)\n",
    "        if i <= qubit_num - 2:\n",
    "            z_arr = [['Z', i], ['Z', i + 1]]\n",
    "            observables.append(z_arr)\n",
    "\n",
    "    # now we have our measurement outcome and our observables stored in the correct format\n",
    "    energy = 0\n",
    "    for i in range(0, len(observables)):\n",
    "        sum_product, cnt_match = estimate_exp(measurement, observables[i])\n",
    "        if sum_product == 0 and cnt_match == 0:\n",
    "            expectation_val = 0\n",
    "        elif cnt_match == 0 and sum_product != 0:\n",
    "            print('cnt_match is zero (problemo)!')\n",
    "        else:\n",
    "            expectation_val = sum_product / cnt_match\n",
    "        if i % 2 == 0:\n",
    "            energy = energy + ratio_h_j * expectation_val\n",
    "        else:\n",
    "            energy = energy + expectation_val\n",
    "    return energy"
   ],
   "metadata": {
    "collapsed": false,
    "pycharm": {
     "name": "#%%\n"
    }
   }
  },
  {
   "cell_type": "code",
   "execution_count": 176,
   "outputs": [],
   "source": [
    "ratio_h_j = 0.1\n",
    "qubit_num = 14\n",
    "save_direc_groundstate = Path('data/Diagonal_hamiltonian/groundstate_dict.npy')\n",
    "ground_state_dict = np.load(save_direc_groundstate, allow_pickle='TRUE')\n",
    "ground_state_dict = ground_state_dict.item()\n",
    "ground_state = ground_state_dict[str(1)]['open'][str(qubit_num)][str(ratio_h_j)]\n",
    "mps = MPS.from_state_vector(qubit_num, ground_state)\n",
    "tensor_liste = mps.tensors"
   ],
   "metadata": {
    "collapsed": false,
    "pycharm": {
     "name": "#%%\n"
    }
   }
  },
  {
   "cell_type": "code",
   "execution_count": 160,
   "outputs": [],
   "source": [
    "meas_outcomes, meas_procedure, probs = generate_shadow_and_prob(tensor_liste, qubit_num, 500)\n",
    "measurements = conversion_to_prediction_shadow_dict_shape(meas_procedure, np.array(meas_outcomes), qubit_num)"
   ],
   "metadata": {
    "collapsed": false,
    "pycharm": {
     "name": "#%%\n"
    }
   }
  },
  {
   "cell_type": "code",
   "execution_count": 161,
   "outputs": [
    {
     "name": "stdout",
     "output_type": "stream",
     "text": [
      "-12.4338\n",
      "-13.064391293960684\n"
     ]
    }
   ],
   "source": [
    "print(ising_energy_shadows(measurements, probs, qubit_num , ratio_h_j))\n",
    "print(energy_shadow(measurements, ratio_h_j, qubit_num))"
   ],
   "metadata": {
    "collapsed": false,
    "pycharm": {
     "name": "#%%\n"
    }
   }
  },
  {
   "cell_type": "code",
   "execution_count": 56,
   "outputs": [
    {
     "name": "stdout",
     "output_type": "stream",
     "text": [
      "-13.040028203462525\n"
     ]
    }
   ],
   "source": [
    "save_direc_eigs = Path('data/Diagonal_hamiltonian/eigenvalues_first_three_dict.npy')\n",
    "energy_dict = np.load(save_direc_eigs, allow_pickle=True)\n",
    "energy_dict = energy_dict.item()\n",
    "energy_brute = energy_dict[str(1)]['open'][str(qubit_num)][str(ratio_h_j)][0]\n",
    "print(energy_brute)"
   ],
   "metadata": {
    "collapsed": false,
    "pycharm": {
     "name": "#%%\n"
    }
   }
  },
  {
   "cell_type": "code",
   "execution_count": 43,
   "outputs": [
    {
     "name": "stdout",
     "output_type": "stream",
     "text": [
      "[[['Y' '-1']\n",
      "  ['Z' '1']\n",
      "  ['Y' '-1']\n",
      "  ...\n",
      "  ['Z' '-1']\n",
      "  ['Z' '1']\n",
      "  ['Z' '-1']]\n",
      "\n",
      " [['X' '-1']\n",
      "  ['Z' '1']\n",
      "  ['X' '1']\n",
      "  ...\n",
      "  ['Z' '1']\n",
      "  ['X' '-1']\n",
      "  ['Y' '1']]\n",
      "\n",
      " [['Z' '-1']\n",
      "  ['Z' '1']\n",
      "  ['Y' '1']\n",
      "  ...\n",
      "  ['X' '-1']\n",
      "  ['Z' '-1']\n",
      "  ['X' '-1']]\n",
      "\n",
      " ...\n",
      "\n",
      " [['Z' '-1']\n",
      "  ['X' '1']\n",
      "  ['Y' '1']\n",
      "  ...\n",
      "  ['X' '-1']\n",
      "  ['X' '-1']\n",
      "  ['X' '1']]\n",
      "\n",
      " [['Y' '1']\n",
      "  ['Z' '1']\n",
      "  ['X' '-1']\n",
      "  ...\n",
      "  ['Y' '-1']\n",
      "  ['X' '1']\n",
      "  ['X' '-1']]\n",
      "\n",
      " [['Y' '1']\n",
      "  ['X' '-1']\n",
      "  ['Y' '-1']\n",
      "  ...\n",
      "  ['Z' '1']\n",
      "  ['Y' '-1']\n",
      "  ['Z' '-1']]]\n"
     ]
    }
   ],
   "source": [
    "print(measurements)"
   ],
   "metadata": {
    "collapsed": false,
    "pycharm": {
     "name": "#%%\n"
    }
   }
  },
  {
   "cell_type": "code",
   "execution_count": 74,
   "outputs": [
    {
     "name": "stdout",
     "output_type": "stream",
     "text": [
      "[[['X', 0]], [['Z', 0], ['Z', 1]], [['X', 1]], [['Z', 1], ['Z', 2]], [['X', 2]], [['Z', 2], ['Z', 3]], [['X', 3]], [['Z', 3], ['Z', 4]], [['X', 4]], [['Z', 4], ['Z', 5]], [['X', 5]], [['Z', 5], ['Z', 6]], [['X', 6]], [['Z', 6], ['Z', 7]], [['X', 7]], [['Z', 7], ['Z', 8]], [['X', 8]], [['Z', 8], ['Z', 9]], [['X', 9]], [['Z', 9], ['Z', 10]], [['X', 10]], [['Z', 10], ['Z', 11]], [['X', 11]], [['Z', 11], ['Z', 12]], [['X', 12]], [['Z', 12], ['Z', 13]], [['X', 13]]]\n"
     ]
    }
   ],
   "source": [
    "observables = []\n",
    "for i in range(0, qubit_num):\n",
    "    x_arr = [['X', i]]\n",
    "    observables.append(x_arr)\n",
    "    if i <= qubit_num - 2:\n",
    "        z_arr = [['Z', i], ['Z', i + 1]]\n",
    "        observables.append(z_arr)\n",
    "    else:\n",
    "        z_arr = None\n",
    "print(observables)"
   ],
   "metadata": {
    "collapsed": false,
    "pycharm": {
     "name": "#%%\n"
    }
   }
  },
  {
   "cell_type": "code",
   "execution_count": null,
   "outputs": [],
   "source": [],
   "metadata": {
    "collapsed": false,
    "pycharm": {
     "name": "#%%\n"
    }
   }
  }
 ],
 "metadata": {
  "kernelspec": {
   "display_name": "Python 3",
   "language": "python",
   "name": "python3"
  },
  "language_info": {
   "codemirror_mode": {
    "name": "ipython",
    "version": 2
   },
   "file_extension": ".py",
   "mimetype": "text/x-python",
   "name": "python",
   "nbconvert_exporter": "python",
   "pygments_lexer": "ipython2",
   "version": "2.7.6"
  }
 },
 "nbformat": 4,
 "nbformat_minor": 0
}