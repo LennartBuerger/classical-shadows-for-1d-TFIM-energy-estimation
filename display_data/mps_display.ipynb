{
 "cells": [
  {
   "cell_type": "code",
   "execution_count": 113,
   "metadata": {
    "collapsed": true
   },
   "outputs": [],
   "source": [
    "import numpy as np\n",
    "import torch as pt\n",
    "from matplotlib import pyplot as plt\n",
    "import sys\n",
    "from pathlib import Path\n",
    "import src.constants as constants\n",
    "import sys\n",
    "from display_data.data_acquisition_shadow import derandomized_classical_shadow, randomized_classical_shadow\n",
    "from display_data.prediction_shadow import estimate_exp\n",
    "sys.path.append(Path('../src'))\n",
    "from src.mps import MPS\n",
    "from src.tfim_hamiltonian_open_fermion import TfimHamiltonianOpenFermion\n",
    "from src.mps_quantum_state import MPSQuantumState"
   ]
  },
  {
   "cell_type": "code",
   "execution_count": 2,
   "outputs": [],
   "source": [
    "#generate a random tensor list\n",
    "qubit_num = 10\n",
    "bond_dim = 50\n",
    "tensor_liste = [pt.randn([1, 2, bond_dim], dtype=pt.cdouble)]\n",
    "for idx in range(qubit_num - 2):\n",
    "    tensor_liste.append(pt.rand([bond_dim, 2, bond_dim], dtype=pt.cdouble))\n",
    "tensor_liste.append(pt.rand([bond_dim, 2, 1], dtype=pt.cdouble))"
   ],
   "metadata": {
    "collapsed": false,
    "pycharm": {
     "name": "#%%\n"
    }
   }
  },
  {
   "cell_type": "code",
   "execution_count": 114,
   "outputs": [],
   "source": [
    "# this function converts the stored measurement outcomes to the correct shape needed for the shadow prediction\n",
    "def conversion_to_prediction_shadow_dict_shape(measurement_procedure, measurement_index, qubit_num):\n",
    "    to_str_func = np.vectorize(lambda x: np.binary_repr(x).zfill(qubit_num))\n",
    "    strs = to_str_func(measurement_index)\n",
    "    dirac_rep = np.zeros(list(measurement_index.shape) + [qubit_num], dtype=np.int8)\n",
    "    for bit_ix in range(0, qubit_num):\n",
    "        fetch_bit_func = np.vectorize(lambda x: x[bit_ix] == '1')\n",
    "        dirac_rep[...,bit_ix] = fetch_bit_func(strs).astype(\"int8\")\n",
    "    measurement_array = np.where(dirac_rep == 1, -1, dirac_rep)\n",
    "    measurement_array = np.where(dirac_rep == 0, 1, measurement_array)\n",
    "    measurement = np.dstack((measurement_procedure, np.array(measurement_array, dtype=int)))\n",
    "    return measurement"
   ],
   "metadata": {
    "collapsed": false,
    "pycharm": {
     "name": "#%%\n"
    }
   }
  },
  {
   "cell_type": "code",
   "execution_count": 157,
   "outputs": [],
   "source": [
    "ratio_h_j = 0.1\n",
    "qubit_num = 6\n",
    "save_direc_groundstate = Path('data/Diagonal_hamiltonian/groundstate_dict.npy')\n",
    "ground_state_dict = np.load(save_direc_groundstate, allow_pickle='TRUE')\n",
    "ground_state_dict = ground_state_dict.item()\n",
    "ground_state = ground_state_dict[str(1)]['open'][str(qubit_num)][str(ratio_h_j)]\n",
    "mps = MPS.from_state_vector(qubit_num, ground_state)"
   ],
   "metadata": {
    "collapsed": false,
    "pycharm": {
     "name": "#%%\n"
    }
   }
  },
  {
   "cell_type": "code",
   "execution_count": 158,
   "outputs": [
    {
     "name": "stdout",
     "output_type": "stream",
     "text": [
      "-5.020016662087988\n"
     ]
    }
   ],
   "source": [
    "save_direc_eigs = Path('data/Diagonal_hamiltonian/eigenvalues_first_three_dict.npy')\n",
    "energy_dict = np.load(save_direc_eigs, allow_pickle=True)\n",
    "energy_dict = energy_dict.item()\n",
    "energy_brute = energy_dict[str(1)]['open'][str(qubit_num)][str(ratio_h_j)][0]\n",
    "print(energy_brute)"
   ],
   "metadata": {
    "collapsed": false,
    "pycharm": {
     "name": "#%%\n"
    }
   }
  },
  {
   "cell_type": "code",
   "execution_count": 5,
   "outputs": [
    {
     "name": "stdout",
     "output_type": "stream",
     "text": [
      "starting batch 0\n",
      "starting batch 1\n",
      "starting batch 2\n",
      "starting batch 3\n",
      "starting batch 4\n",
      "starting batch 5\n",
      "starting batch 6\n",
      "starting batch 7\n",
      "starting batch 8\n",
      "starting batch 9\n"
     ]
    }
   ],
   "source": [
    "# now we have a method to keep only the unique indices, now we convert the measurements to the necessary shape for shadow prediction\n",
    "batches = 10\n",
    "num_of_measurements = np.array([10, 20, 50, 100, 200, 500])\n",
    "num_of_measurements_per_rot = 50\n",
    "energies_different_meas_num = np.zeros((np.size(num_of_measurements), batches))\n",
    "for b in range(batches):\n",
    "    print('starting batch ' + str(b))\n",
    "    for i in range(np.size(num_of_measurements)):\n",
    "        meas_outcomes, meas_procedure, probs = MPSQuantumState(qubit_num, mps).measurement_shadow(num_of_measurements[i], num_of_measurements_per_rot)\n",
    "        energies = pt.zeros(len(meas_outcomes))\n",
    "        for n in range(len(meas_outcomes)):\n",
    "            # first get the unique elements of this torch tensor\n",
    "            unique_meas_outcomes, index_perm = np.unique(meas_outcomes[n].numpy(), return_index=True)\n",
    "            #probs_sorted = probs[n][index_perm] # if we just want to compute the energy we can easily use these probabilities we get for free when sampling\n",
    "            # when we want to determine the gradient via autodiff though, the connection to the underlying tensors has to be more direct\n",
    "            # thus we compute the probabilities again, from the tensors directly\n",
    "            probs_direct = MPSQuantumState(qubit_num, mps).rotate_pauli(meas_procedure[n]).prob(pt.tensor(unique_meas_outcomes))\n",
    "            measurements = conversion_to_prediction_shadow_dict_shape([meas_procedure[n]]*len(unique_meas_outcomes), unique_meas_outcomes, qubit_num)\n",
    "            energies[n] = TfimHamiltonianOpenFermion(qubit_num, ratio_h_j, 1, 'open').energy_shadow_mps_modified(measurements, probs_direct)\n",
    "        energy = pt.mean(energies)\n",
    "        energies_different_meas_num[i,b] = energy"
   ],
   "metadata": {
    "collapsed": false,
    "pycharm": {
     "name": "#%%\n"
    }
   }
  },
  {
   "cell_type": "code",
   "execution_count": 6,
   "outputs": [
    {
     "data": {
      "text/plain": "<Figure size 432x288 with 1 Axes>",
      "image/png": "[encoded data removed]"
     },
     "metadata": {
      "needs_background": "light"
     },
     "output_type": "display_data"
    }
   ],
   "source": [
    "rel_error = np.abs((energies_different_meas_num - energy_brute) / energy_brute)\n",
    "rel_error_mean = np.mean(rel_error, axis=1)\n",
    "rel_error_std = np.mean(rel_error, axis=1)\n",
    "plt.plot(num_of_measurements, rel_error_mean)\n",
    "plt.fill_between(num_of_measurements, rel_error_mean - rel_error_std, rel_error_mean + rel_error_std, alpha=0.3)\n",
    "plt.yscale('log')\n",
    "plt.xscale('log')"
   ],
   "metadata": {
    "collapsed": false,
    "pycharm": {
     "name": "#%%\n"
    }
   }
  },
  {
   "cell_type": "code",
   "execution_count": 216,
   "outputs": [],
   "source": [
    "# now we try to estimate the gradient directly by contracting the mps with hamiltonian\n",
    "#generate a random tensor list\n",
    "qubit_num = 6\n",
    "ratio_h_j = 0.1\n",
    "bond_dim = 50\n",
    "tensor_liste_rand = [pt.rand([1, 2, bond_dim], dtype=pt.cdouble)]\n",
    "for idx in range(qubit_num - 2):\n",
    "    tensor_liste_rand.append(pt.rand([bond_dim, 2, bond_dim], dtype=pt.cdouble))\n",
    "tensor_liste_rand.append(pt.rand([bond_dim, 2, 1], dtype=pt.cdouble))\n",
    "mps = MPS.from_tensor_list(tensor_liste_rand).normalise()\n",
    "param_vec = mps.to_param_vec()\n",
    "# we only needed this param vec to determine the size of the tensor\n",
    "random_param_vec = pt.rand(param_vec.shape[0], dtype=pt.cdouble)"
   ],
   "metadata": {
    "collapsed": false,
    "pycharm": {
     "name": "#%%\n"
    }
   }
  },
  {
   "cell_type": "code",
   "execution_count": 27,
   "outputs": [
    {
     "name": "stdout",
     "output_type": "stream",
     "text": [
      "BF E = (0.600634124889247+2.5211187699186517e-18j)\n"
     ]
    }
   ],
   "source": [
    "# we estimate the energy exactly by contraction with the hamiltonian\n",
    "random_param_vec_brute = random_param_vec.detach()\n",
    "random_param_vec_brute.requires_grad_(True)\n",
    "mps.from_param_vec(param_vec=random_param_vec_brute)\n",
    "psi = mps.to_state_vector()\n",
    "hamiltonian = pt.from_numpy(TfimHamiltonianOpenFermion(qubit_num, ratio_h_j, 1, 'open').to_matrix().todense())\n",
    "energy_bf = psi.conj() @ hamiltonian @ psi / (psi.conj() @ psi)\n",
    "print(f'BF E = {energy_bf}')\n",
    "energy_bf.backward()"
   ],
   "metadata": {
    "collapsed": false,
    "pycharm": {
     "name": "#%%\n"
    }
   }
  },
  {
   "cell_type": "code",
   "execution_count": 12,
   "outputs": [
    {
     "name": "stdout",
     "output_type": "stream",
     "text": [
      "SH E = 0.8326031565666199\n",
      "SH E = 0.8806241154670715\n",
      "SH E = 0.44312527775764465\n",
      "SH E = 0.6148746013641357\n",
      "SH E = 0.5727687478065491\n",
      "SH E = 0.7059080004692078\n",
      "SH E = 0.49469080567359924\n",
      "SH E = 0.6866909861564636\n",
      "SH E = 0.6350687742233276\n",
      "SH E = 0.5702512860298157\n",
      "SH E = 0.5326325297355652\n",
      "SH E = 0.47048258781433105\n",
      "SH E = 0.6034673452377319\n",
      "SH E = 0.662465512752533\n",
      "SH E = 0.6427615284919739\n",
      "SH E = 0.46007734537124634\n",
      "SH E = 0.9036332964897156\n",
      "SH E = 0.5854982137680054\n",
      "SH E = 0.6172842979431152\n",
      "SH E = 0.506797730922699\n",
      "SH E = 0.67280113697052\n",
      "SH E = 0.6095503568649292\n",
      "SH E = 0.655240535736084\n",
      "SH E = 0.5831606388092041\n",
      "SH E = 0.6744564771652222\n"
     ]
    }
   ],
   "source": [
    "# now we estimate the gradient by using the classical shadows\n",
    "num_of_measurements = np.array([10, 20, 50, 100, 200])\n",
    "num_of_measurements_per_rot = 40\n",
    "batches = 5\n",
    "errors = np.zeros((np.size(num_of_measurements), batches))\n",
    "\n",
    "for b in range(0, batches):\n",
    "    for j in range(np.size(num_of_measurements)):\n",
    "        random_param_vec_shadow = random_param_vec.detach()\n",
    "        random_param_vec_shadow.requires_grad_(True)\n",
    "        mps = MPS.from_tensor_list(tensor_liste_rand)\n",
    "        mps.from_param_vec(param_vec=random_param_vec_shadow)\n",
    "        mps.normalise()\n",
    "    #mps.tensors[0] = mps.tensors[0] / mps.norm()\n",
    "        meas_outcomes, meas_procedure, probs = MPSQuantumState(qubit_num, mps).measurement_shadow(num_of_measurements[j], num_of_measurements_per_rot)\n",
    "        energies = pt.zeros(len(meas_outcomes))\n",
    "        for n in range(len(meas_outcomes)):\n",
    "            # first get the unique elements of this torch tensor\n",
    "            unique_meas_outcomes, index_perm = np.unique(meas_outcomes[n].numpy(), return_index=True)\n",
    "            # probs_sorted = probs[n][index_perm] # if we just want to compute the energy we can easily use these probabilities we get for free when sampling\n",
    "            # when we want to determine the gradient via autodiff though, the connection to the underlying tensors has to be more direct\n",
    "            # thus we compute the probabilities again, from the tensors directly\n",
    "            probs_direct = MPSQuantumState(qubit_num, mps).rotate_pauli(meas_procedure[n]).prob(pt.tensor(unique_meas_outcomes))\n",
    "            measurements = conversion_to_prediction_shadow_dict_shape([meas_procedure[n]]*len(unique_meas_outcomes), unique_meas_outcomes, qubit_num)\n",
    "            energies[n] = TfimHamiltonianOpenFermion(qubit_num, ratio_h_j, 1, 'open').energy_shadow_mps_modified(measurements, probs_direct)\n",
    "        energy_shadow = pt.mean(energies)\n",
    "        print(f'SH E = {energy_shadow}')\n",
    "        energy_shadow.backward()\n",
    "        errors[j,b] = pt.linalg.norm((random_param_vec_brute.grad - random_param_vec_shadow.grad)/pt.linalg.norm(random_param_vec_brute.grad))"
   ],
   "metadata": {
    "collapsed": false,
    "pycharm": {
     "name": "#%%\n"
    }
   }
  },
  {
   "cell_type": "code",
   "execution_count": 15,
   "outputs": [
    {
     "data": {
      "text/plain": "<Figure size 432x288 with 1 Axes>",
      "image/png": "[encoded data removed]"
     },
     "metadata": {
      "needs_background": "light"
     },
     "output_type": "display_data"
    }
   ],
   "source": [
    "rel_error_mean = np.mean(errors, axis=1)\n",
    "rel_error_std = np.mean(errors, axis=1)\n",
    "plt.plot(num_of_measurements, rel_error_mean)\n",
    "plt.fill_between(num_of_measurements, rel_error_mean - rel_error_std, rel_error_mean + rel_error_std, alpha=0.3)\n",
    "plt.title('relative error $\\epsilon$ in the gradient prediction against number of classical shadows N')\n",
    "plt.xlabel('N')\n",
    "plt.ylabel('$epsilon$')\n",
    "plt.yscale('log')\n",
    "plt.xscale('log')"
   ],
   "metadata": {
    "collapsed": false,
    "pycharm": {
     "name": "#%%\n"
    }
   }
  },
  {
   "cell_type": "code",
   "execution_count": null,
   "outputs": [],
   "source": [
    "# we do gradient descent with the exact hamiltonian contraction method and see whether we converge to the ground state"
   ],
   "metadata": {
    "collapsed": false,
    "pycharm": {
     "name": "#%%\n",
     "is_executing": true
    }
   }
  },
  {
   "cell_type": "code",
   "execution_count": 9,
   "outputs": [],
   "source": [
    "# doing gradient descent using pytorch optimizer\n",
    "step_num = 500\n",
    "lr = 0.01\n",
    "random_param_vec_brute = random_param_vec.detach()\n",
    "random_param_vec_brute.requires_grad_(True)\n",
    "opt = pt.optim.Adam([random_param_vec_brute], lr=lr)\n",
    "\n",
    "accuracy = np.zeros(step_num)\n",
    "for i in range(0, step_num):\n",
    "    opt.zero_grad()\n",
    "    mps.from_param_vec(param_vec = random_param_vec_brute)\n",
    "    psi = mps.to_state_vector()\n",
    "    hamiltonian = pt.from_numpy(TfimHamiltonianOpenFermion(qubit_num, ratio_h_j, 1, 'open').to_matrix().todense())\n",
    "    energy = psi.conj() @ hamiltonian @ psi / (psi.conj() @ psi)\n",
    "    energy.backward()\n",
    "    accuracy[i] = np.abs(energy.detach() - energy_brute) / np.abs(energy_brute)\n",
    "    opt.step()"
   ],
   "metadata": {
    "collapsed": false,
    "pycharm": {
     "name": "#%%\n"
    }
   }
  },
  {
   "cell_type": "code",
   "execution_count": 10,
   "outputs": [
    {
     "data": {
      "text/plain": "<Figure size 432x288 with 1 Axes>",
      "image/png": "[encoded data removed]"
     },
     "metadata": {
      "needs_background": "light"
     },
     "output_type": "display_data"
    }
   ],
   "source": [
    "plt.plot(np.arange(0, step_num), accuracy)\n",
    "plt.yscale('log')"
   ],
   "metadata": {
    "collapsed": false,
    "pycharm": {
     "name": "#%%\n"
    }
   }
  },
  {
   "cell_type": "code",
   "execution_count": 31,
   "outputs": [
    {
     "name": "stdout",
     "output_type": "stream",
     "text": [
      "progress: 0 / 100\n",
      "progress: 1 / 100\n",
      "progress: 2 / 100\n",
      "progress: 3 / 100\n",
      "progress: 4 / 100\n",
      "progress: 5 / 100\n",
      "progress: 6 / 100\n",
      "progress: 7 / 100\n",
      "progress: 8 / 100\n",
      "progress: 9 / 100\n",
      "progress: 10 / 100\n",
      "progress: 11 / 100\n",
      "progress: 12 / 100\n",
      "progress: 13 / 100\n",
      "progress: 14 / 100\n",
      "progress: 15 / 100\n",
      "progress: 16 / 100\n",
      "progress: 17 / 100\n",
      "progress: 18 / 100\n",
      "progress: 19 / 100\n",
      "progress: 20 / 100\n",
      "progress: 21 / 100\n",
      "progress: 22 / 100\n",
      "progress: 23 / 100\n",
      "progress: 24 / 100\n",
      "progress: 25 / 100\n",
      "progress: 26 / 100\n",
      "progress: 27 / 100\n",
      "progress: 28 / 100\n",
      "progress: 29 / 100\n",
      "progress: 30 / 100\n",
      "progress: 31 / 100\n",
      "progress: 32 / 100\n",
      "progress: 33 / 100\n",
      "progress: 34 / 100\n",
      "progress: 35 / 100\n",
      "progress: 36 / 100\n",
      "progress: 37 / 100\n",
      "progress: 38 / 100\n",
      "progress: 39 / 100\n",
      "progress: 40 / 100\n",
      "progress: 41 / 100\n",
      "progress: 42 / 100\n",
      "progress: 43 / 100\n",
      "progress: 44 / 100\n",
      "progress: 45 / 100\n",
      "progress: 46 / 100\n",
      "progress: 47 / 100\n",
      "progress: 48 / 100\n",
      "progress: 49 / 100\n",
      "progress: 50 / 100\n",
      "progress: 51 / 100\n",
      "progress: 52 / 100\n",
      "progress: 53 / 100\n",
      "progress: 54 / 100\n",
      "progress: 55 / 100\n",
      "progress: 56 / 100\n",
      "progress: 57 / 100\n",
      "progress: 58 / 100\n",
      "progress: 59 / 100\n",
      "progress: 60 / 100\n",
      "progress: 61 / 100\n",
      "progress: 62 / 100\n",
      "progress: 63 / 100\n",
      "progress: 64 / 100\n",
      "progress: 65 / 100\n",
      "progress: 66 / 100\n",
      "progress: 67 / 100\n",
      "progress: 68 / 100\n",
      "progress: 69 / 100\n",
      "progress: 70 / 100\n",
      "progress: 71 / 100\n",
      "progress: 72 / 100\n",
      "progress: 73 / 100\n",
      "progress: 74 / 100\n",
      "progress: 75 / 100\n",
      "progress: 76 / 100\n",
      "progress: 77 / 100\n",
      "progress: 78 / 100\n",
      "progress: 79 / 100\n",
      "progress: 80 / 100\n",
      "progress: 81 / 100\n",
      "progress: 82 / 100\n",
      "progress: 83 / 100\n",
      "progress: 84 / 100\n",
      "progress: 85 / 100\n",
      "progress: 86 / 100\n",
      "progress: 87 / 100\n",
      "progress: 88 / 100\n",
      "progress: 89 / 100\n",
      "progress: 90 / 100\n",
      "progress: 91 / 100\n",
      "progress: 92 / 100\n",
      "progress: 93 / 100\n",
      "progress: 94 / 100\n",
      "progress: 95 / 100\n",
      "progress: 96 / 100\n",
      "progress: 97 / 100\n",
      "progress: 98 / 100\n",
      "progress: 99 / 100\n"
     ]
    }
   ],
   "source": [
    "# doing gradient descent using pytorch optimizer\n",
    "step_num = 100\n",
    "lr = 0.01\n",
    "random_param_vec_shadow = random_param_vec.detach()\n",
    "random_param_vec_shadow.requires_grad_(True)\n",
    "opt = pt.optim.Adam([random_param_vec_shadow], lr=lr)\n",
    "num_of_measurements = 100\n",
    "num_of_measurements_per_rot = 100 #this has to be high enough, if there is only one unique measurement outcome aleksei's amplitude method fails\n",
    "\n",
    "accuracy = np.zeros(step_num)\n",
    "for i in range(step_num):\n",
    "    opt.zero_grad()\n",
    "    mps.from_param_vec(param_vec=random_param_vec_shadow)\n",
    "    mps.normalise()\n",
    "    with pt.no_grad():\n",
    "        meas_outcomes, meas_procedure, probs = MPSQuantumState(qubit_num, mps).measurement_shadow(num_of_measurements, num_of_measurements_per_rot)\n",
    "    energies = pt.zeros(len(meas_outcomes))\n",
    "    for n in range(len(meas_outcomes)):\n",
    "        # first get the unique elements of this torch tensor\n",
    "        unique_meas_outcomes, index_perm = np.unique(meas_outcomes[n].numpy(), return_index=True)\n",
    "        # probs_sorted = probs[n][index_perm] # if we just want to compute the energy we can easily use these probabilities we get for free when sampling\n",
    "        # when we want to determine the gradient via autodiff though, the connection to the underlying tensors has to be more direct\n",
    "        # thus we compute the probabilities again, from the tensors directly\n",
    "        probs_direct = MPSQuantumState(qubit_num, mps).rotate_pauli(meas_procedure[n]).prob(pt.tensor(unique_meas_outcomes))\n",
    "        measurements = conversion_to_prediction_shadow_dict_shape([meas_procedure[n]]*len(unique_meas_outcomes), unique_meas_outcomes, qubit_num)\n",
    "        energies[n] = TfimHamiltonianOpenFermion(qubit_num, ratio_h_j, 1, 'open').energy_shadow_mps_modified(measurements, probs_direct)\n",
    "    energy_shadow = pt.mean(energies)\n",
    "    energy_shadow.backward()\n",
    "    accuracy[i] = np.abs(energy_shadow.detach() - energy_brute) / np.abs(energy_brute)\n",
    "    opt.step()\n",
    "    print('progress: ' + str(i+1) + ' / ' + str(step_num))"
   ],
   "metadata": {
    "collapsed": false,
    "pycharm": {
     "name": "#%%\n"
    }
   }
  },
  {
   "cell_type": "code",
   "execution_count": 36,
   "outputs": [
    {
     "data": {
      "text/plain": "Text(0, 0.5, '$\\\\epsilon$')"
     },
     "execution_count": 36,
     "metadata": {},
     "output_type": "execute_result"
    },
    {
     "data": {
      "text/plain": "<Figure size 432x288 with 1 Axes>",
      "image/png": "[encoded data removed]"
     },
     "metadata": {
      "needs_background": "light"
     },
     "output_type": "display_data"
    }
   ],
   "source": [
    "plt.plot(np.arange(0, step_num), accuracy)\n",
    "plt.title('relative error $\\epsilon$ in the prediction of the ground state against number of iterations')\n",
    "#plt.xscale('log')\n",
    "plt.yscale('log')\n",
    "plt.xlabel('iterations')\n",
    "plt.ylabel('$\\epsilon$')"
   ],
   "metadata": {
    "collapsed": false,
    "pycharm": {
     "name": "#%%\n"
    }
   }
  },
  {
   "cell_type": "code",
   "execution_count": 22,
   "outputs": [
    {
     "name": "stdout",
     "output_type": "stream",
     "text": [
      "3 ms ± 577 µs per loop (mean ± std. dev. of 7 runs, 100 loops each)\n"
     ]
    }
   ],
   "source": [
    "%timeit MPSQuantumState(qubit_num, mps).amplitude(pt.tensor([0]))"
   ],
   "metadata": {
    "collapsed": false,
    "pycharm": {
     "name": "#%%\n"
    }
   }
  },
  {
   "cell_type": "code",
   "execution_count": 23,
   "outputs": [],
   "source": [
    "mps.normalise()\n",
    "mps.canonicalise(qubit_num -1)"
   ],
   "metadata": {
    "collapsed": false,
    "pycharm": {
     "name": "#%%\n"
    }
   }
  },
  {
   "cell_type": "code",
   "execution_count": 24,
   "outputs": [
    {
     "name": "stdout",
     "output_type": "stream",
     "text": [
      "10.8 ms ± 242 µs per loop (mean ± std. dev. of 7 runs, 100 loops each)\n"
     ]
    }
   ],
   "source": [
    "%timeit MPSQuantumState(qubit_num, mps).measure()"
   ],
   "metadata": {
    "collapsed": false,
    "pycharm": {
     "name": "#%%\n"
    }
   }
  },
  {
   "cell_type": "code",
   "execution_count": 17,
   "outputs": [
    {
     "name": "stdout",
     "output_type": "stream",
     "text": [
      "528 µs ± 36 µs per loop (mean ± std. dev. of 7 runs, 1000 loops each)\n"
     ]
    }
   ],
   "source": [
    "%timeit mps.amplitude(pt.tensor([0, 2]))"
   ],
   "metadata": {
    "collapsed": false,
    "pycharm": {
     "name": "#%%\n"
    }
   }
  },
  {
   "cell_type": "code",
   "execution_count": 44,
   "outputs": [
    {
     "name": "stdout",
     "output_type": "stream",
     "text": [
      "[tensor([[[ 0.7071+0.0000e+00j,  0.0000+0.0000e+00j],\n",
      "         [-0.0706+2.0131e-14j, -0.7036+0.0000e+00j]]], dtype=torch.complex128), tensor([[[-5.5857e-02+0.0000e+00j,  0.0000e+00+0.0000e+00j,\n",
      "           0.0000e+00+0.0000e+00j,  0.0000e+00+0.0000e+00j],\n",
      "         [ 4.5101e-01+2.6037e-13j,  8.9042e-01+1.2722e-13j,\n",
      "           2.4906e-02+0.0000e+00j,  0.0000e+00+0.0000e+00j]],\n",
      "\n",
      "        [[-8.9300e-01+2.5713e-13j,  4.4659e-01+4.5919e-30j,\n",
      "           0.0000e+00+0.0000e+00j,  0.0000e+00-0.0000e+00j],\n",
      "         [-2.8554e-04-9.6821e-15j, -5.5839e-02+1.2964e-14j,\n",
      "          -1.2462e-03+3.0677e-16j,  6.2323e-04-5.1267e-34j]]],\n",
      "       dtype=torch.complex128), tensor([[[-4.4845e-01+0.0000e+00j,  0.0000e+00-0.0000e+00j,\n",
      "           0.0000e+00-0.0000e+00j,  0.0000e+00-0.0000e+00j,\n",
      "           0.0000e+00-0.0000e+00j,  0.0000e+00-0.0000e+00j,\n",
      "           0.0000e+00-0.0000e+00j,  0.0000e+00-0.0000e+00j],\n",
      "         [ 6.8031e-02-2.6044e-12j,  8.9093e-01-1.3052e-15j,\n",
      "           4.1871e-03-1.0826e-12j, -2.1982e-02+9.9686e-15j,\n",
      "           5.4179e-04+0.0000e+00j,  0.0000e+00-0.0000e+00j,\n",
      "           0.0000e+00-0.0000e+00j,  0.0000e+00-0.0000e+00j]],\n",
      "\n",
      "        [[-8.9102e-01-6.6522e-14j,  5.5747e-02-1.7851e-29j,\n",
      "           0.0000e+00+0.0000e+00j,  0.0000e+00+0.0000e+00j,\n",
      "           0.0000e+00+0.0000e+00j, -0.0000e+00+0.0000e+00j,\n",
      "          -0.0000e+00+0.0000e+00j, -0.0000e+00+0.0000e+00j],\n",
      "         [ 2.1646e-02+1.2994e-12j, -4.4987e-01-1.9538e-13j,\n",
      "          -3.1793e-05+5.7537e-13j,  1.1343e-02+1.0318e-13j,\n",
      "          -2.7098e-04+9.7941e-14j, -3.3869e-05+1.9571e-33j,\n",
      "          -0.0000e+00+0.0000e+00j, -0.0000e+00+0.0000e+00j]],\n",
      "\n",
      "        [[-5.0080e-02-2.3193e-14j, -1.3073e-03-1.8621e-13j,\n",
      "           6.3133e-04+3.3016e-33j,  0.0000e+00+0.0000e+00j,\n",
      "           0.0000e+00+0.0000e+00j,  0.0000e+00+0.0000e+00j,\n",
      "           0.0000e+00+0.0000e+00j,  0.0000e+00+0.0000e+00j],\n",
      "         [-9.9620e-01-1.1656e-13j,  5.0909e-02+2.9119e-12j,\n",
      "          -4.9301e-02-7.8116e-13j, -7.4518e-03-2.5254e-12j,\n",
      "          -1.5231e-05-2.3525e-12j,  6.0516e-04+2.6974e-13j,\n",
      "          -7.5641e-06-1.3542e-34j,  0.0000e+00+0.0000e+00j]],\n",
      "\n",
      "        [[-4.9668e-02-1.4259e-15j, -9.9813e-01+2.3394e-13j,\n",
      "           3.7374e-03-1.2562e-12j, -2.4623e-02+1.1951e-30j,\n",
      "           0.0000e+00+0.0000e+00j,  0.0000e+00+0.0000e+00j,\n",
      "           0.0000e+00-0.0000e+00j,  0.0000e+00-0.0000e+00j],\n",
      "         [ 2.5138e-03-1.1502e-13j, -2.5161e-02+8.5633e-16j,\n",
      "           7.8469e-07+6.5157e-14j,  1.2640e-03+1.6316e-14j,\n",
      "          -1.5105e-05+1.0526e-14j, -2.6838e-06+4.8865e-14j,\n",
      "           2.8721e-08-1.2252e-13j,  3.7800e-07-4.8579e-35j]]],\n",
      "       dtype=torch.complex128), tensor([[[-5.6307e-02+0.0000e+00j,  0.0000e+00+0.0000e+00j,\n",
      "           0.0000e+00+0.0000e+00j,  0.0000e+00+0.0000e+00j],\n",
      "         [ 4.5449e-01+2.5858e-11j,  8.8863e-01+1.2881e-11j,\n",
      "           2.4675e-02-1.2167e-11j, -4.0508e-07-8.8829e-11j]],\n",
      "\n",
      "        [[-8.9310e-01+2.5737e-11j,  4.4422e-01+3.6306e-30j,\n",
      "           0.0000e+00+0.0000e+00j,  0.0000e+00+0.0000e+00j],\n",
      "         [ 2.1652e-02-1.2882e-12j, -6.7630e-02+1.9391e-12j,\n",
      "          -1.2348e-03-6.0403e-12j,  1.8501e-03+5.5929e-12j]],\n",
      "\n",
      "        [[-4.4526e-01+5.2838e-12j, -8.8120e-01-9.9405e-12j,\n",
      "           4.8103e-02-2.0571e-29j,  0.0000e+00+0.0000e+00j],\n",
      "         [-1.4397e-01-3.9099e-11j,  4.5492e-02+1.6201e-11j,\n",
      "          -2.5290e-03+6.2264e-11j, -1.0932e-02-4.2225e-11j]],\n",
      "\n",
      "        [[-2.2030e-02+2.1432e-11j, -1.5575e-01+4.2074e-11j,\n",
      "           7.2707e-03+2.2954e-12j, -1.2338e-03+2.5101e-30j],\n",
      "         [ 8.7626e-01-1.2901e-11j, -4.4957e-01+2.6910e-11j,\n",
      "           3.8800e-04-2.6003e-10j,  7.2463e-02+3.4696e-11j]],\n",
      "\n",
      "        [[-2.1901e-03+2.0125e-11j, -3.0903e-04+4.0627e-11j,\n",
      "          -2.5701e-02+7.1344e-11j, -2.4893e-02-1.6773e-10j],\n",
      "         [-6.5461e-02+2.4582e-12j,  3.2917e-02+1.1940e-12j,\n",
      "           1.5300e-02-3.6889e-09j,  9.9655e-01+5.2535e-10j]],\n",
      "\n",
      "        [[ 2.1563e-02+1.9822e-11j,  4.3596e-02+4.0874e-11j,\n",
      "           9.9652e-01+9.6841e-10j, -4.4293e-03+7.1769e-09j],\n",
      "         [-4.4418e-04-2.0778e-11j,  3.3150e-03-2.6004e-11j,\n",
      "          -6.1998e-02+1.3010e-09j,  2.6464e-02+5.0157e-10j]],\n",
      "\n",
      "        [[ 5.4069e-04-3.6713e-12j,  1.0905e-03+2.5496e-12j,\n",
      "           6.2443e-02-2.0569e-09j,  5.7538e-04-2.8784e-07j],\n",
      "         [-1.0944e-02+5.7989e-10j, -2.2071e-02+7.6622e-10j,\n",
      "           9.9765e-01-3.8750e-08j, -1.3680e-02-1.0331e-08j]],\n",
      "\n",
      "        [[-1.3504e-05-1.2173e-13j,  7.3783e-06-2.7519e-13j,\n",
      "          -3.7484e-03+1.0810e-08j, -9.9968e-01-1.0268e-09j],\n",
      "         [ 5.4425e-04-3.1580e-09j, -2.9221e-04-6.3730e-09j,\n",
      "           4.6746e-04+2.8777e-07j, -2.5030e-02-4.0087e-09j]]],\n",
      "       dtype=torch.complex128), tensor([[[-0.4487+0.0000e+00j,  0.0000-0.0000e+00j],\n",
      "         [ 0.1545-2.5593e-10j,  0.8802-5.3594e-14j]],\n",
      "\n",
      "        [[-0.8910-6.3982e-12j,  0.0553-2.7165e-27j],\n",
      "         [-0.0228+1.2755e-10j, -0.4501-1.8997e-11j]],\n",
      "\n",
      "        [[-0.0499-2.0334e-10j, -0.0063-3.6162e-09j],\n",
      "         [-0.9877-4.8411e-10j,  0.1479+2.6849e-10j]],\n",
      "\n",
      "        [[-0.0490-1.4904e-10j, -0.9985+6.2510e-10j],\n",
      "         [ 0.0050-3.5703e-09j, -0.0258+5.4923e-10j]]], dtype=torch.complex128), tensor([[[-0.0844+0.0519j],\n",
      "         [ 0.8477-0.5211j]],\n",
      "\n",
      "        [[-0.8477+0.5211j],\n",
      "         [-0.0844+0.0519j]]], dtype=torch.complex128)]\n"
     ]
    }
   ],
   "source": [
    "print(mps.tensors)"
   ],
   "metadata": {
    "collapsed": false,
    "pycharm": {
     "name": "#%%\n"
    }
   }
  },
  {
   "cell_type": "code",
   "execution_count": 38,
   "outputs": [
    {
     "data": {
      "text/plain": "tensor([0, 1, 0, 0, 1, 0, 1, 0, 0, 0, 0, 0, 0, 0, 0, 0, 0, 0, 0, 0, 1, 1, 0, 0,\n        0, 0, 0, 0, 0, 0, 0, 0, 0, 1, 0, 0, 0, 0, 1, 0, 1, 0, 0, 0, 0, 0, 0, 0,\n        0, 0, 0, 0, 1, 0, 0, 0, 0, 0, 0, 0, 0, 1, 0, 0, 1, 0, 0, 1, 0, 1, 0, 0,\n        0, 0, 0, 0, 0, 0, 0, 0, 0, 0, 0, 0, 0, 0, 0, 0, 0, 1, 0, 0, 0, 0, 0, 0,\n        0, 0, 0, 0])"
     },
     "execution_count": 38,
     "metadata": {},
     "output_type": "execute_result"
    }
   ],
   "source": [
    "pt.multinomial(pt.tensor([0.8, 0.2]), 100, replacement=True)"
   ],
   "metadata": {
    "collapsed": false,
    "pycharm": {
     "name": "#%%\n"
    }
   }
  },
  {
   "cell_type": "code",
   "execution_count": 63,
   "outputs": [
    {
     "name": "stdout",
     "output_type": "stream",
     "text": [
      "tensor([79.])\n"
     ]
    }
   ],
   "source": [
    "m = pt.distributions.binomial.Binomial(100, pt.tensor([0.8]))\n",
    "x = m.sample()\n",
    "print(x)"
   ],
   "metadata": {
    "collapsed": false,
    "pycharm": {
     "name": "#%%\n"
    }
   }
  },
  {
   "cell_type": "code",
   "execution_count": 106,
   "outputs": [],
   "source": [
    "num_samples_tensor = pt.tensor([100])\n",
    "sampled_visibles = [pt.tensor([])]\n",
    "probs_sampled = pt.tensor([1])"
   ],
   "metadata": {
    "collapsed": false,
    "pycharm": {
     "name": "#%%\n"
    }
   }
  },
  {
   "cell_type": "code",
   "execution_count": 111,
   "outputs": [
    {
     "ename": "ValueError",
     "evalue": "Expected parameter probs (Tensor of shape (4,)) of distribution Binomial(total_count: torch.Size([4]), probs: torch.Size([4])) to satisfy the constraint Interval(lower_bound=0.0, upper_bound=1.0), but found invalid values:\ntensor([0.5000, 0.5000, 2.5000, 0.5000])",
     "output_type": "error",
     "traceback": [
      "\u001B[1;31m---------------------------------------------------------------------------\u001B[0m",
      "\u001B[1;31mValueError\u001B[0m                                Traceback (most recent call last)",
      "\u001B[1;32m<ipython-input-111-1a600af86102>\u001B[0m in \u001B[0;36m<module>\u001B[1;34m\u001B[0m\n\u001B[0;32m      8\u001B[0m         \u001B[0mresult_one\u001B[0m \u001B[1;33m=\u001B[0m \u001B[0mpt\u001B[0m\u001B[1;33m.\u001B[0m\u001B[0mcat\u001B[0m\u001B[1;33m(\u001B[0m\u001B[1;33m(\u001B[0m\u001B[0mresult_one\u001B[0m\u001B[1;33m,\u001B[0m \u001B[0mpt\u001B[0m\u001B[1;33m.\u001B[0m\u001B[0mabs\u001B[0m\u001B[1;33m(\u001B[0m\u001B[0mpt\u001B[0m\u001B[1;33m.\u001B[0m\u001B[0mtensor\u001B[0m\u001B[1;33m(\u001B[0m\u001B[1;33m[\u001B[0m\u001B[0mresult\u001B[0m\u001B[1;33m[\u001B[0m\u001B[1;36m0\u001B[0m\u001B[1;33m,\u001B[0m\u001B[1;36m0\u001B[0m\u001B[1;33m]\u001B[0m\u001B[1;33m.\u001B[0m\u001B[0mitem\u001B[0m\u001B[1;33m(\u001B[0m\u001B[1;33m)\u001B[0m\u001B[1;33m]\u001B[0m\u001B[1;33m)\u001B[0m\u001B[1;33m)\u001B[0m\u001B[1;33m)\u001B[0m\u001B[1;33m)\u001B[0m\u001B[1;33m\u001B[0m\u001B[1;33m\u001B[0m\u001B[0m\n\u001B[0;32m      9\u001B[0m \u001B[0mprobs_in_zero\u001B[0m \u001B[1;33m=\u001B[0m \u001B[0mresult_zero\u001B[0m \u001B[1;33m/\u001B[0m \u001B[0mprobs_sampled\u001B[0m\u001B[1;33m\u001B[0m\u001B[1;33m\u001B[0m\u001B[0m\n\u001B[1;32m---> 10\u001B[1;33m \u001B[0mdistrib\u001B[0m \u001B[1;33m=\u001B[0m \u001B[0mpt\u001B[0m\u001B[1;33m.\u001B[0m\u001B[0mdistributions\u001B[0m\u001B[1;33m.\u001B[0m\u001B[0mbinomial\u001B[0m\u001B[1;33m.\u001B[0m\u001B[0mBinomial\u001B[0m\u001B[1;33m(\u001B[0m\u001B[0mnum_samples_tensor\u001B[0m\u001B[1;33m,\u001B[0m \u001B[0mprobs_in_zero\u001B[0m\u001B[1;33m)\u001B[0m\u001B[1;33m\u001B[0m\u001B[1;33m\u001B[0m\u001B[0m\n\u001B[0m\u001B[0;32m     11\u001B[0m \u001B[0mnum_zeros\u001B[0m \u001B[1;33m=\u001B[0m \u001B[0mdistrib\u001B[0m\u001B[1;33m.\u001B[0m\u001B[0msample\u001B[0m\u001B[1;33m(\u001B[0m\u001B[1;33m)\u001B[0m\u001B[1;33m\u001B[0m\u001B[1;33m\u001B[0m\u001B[0m\n\u001B[0;32m     12\u001B[0m \u001B[0mprint\u001B[0m\u001B[1;33m(\u001B[0m\u001B[0mnum_zeros\u001B[0m\u001B[1;33m)\u001B[0m\u001B[1;33m\u001B[0m\u001B[1;33m\u001B[0m\u001B[0m\n",
      "\u001B[1;32m~\\Anaconda3\\lib\\site-packages\\torch\\distributions\\binomial.py\u001B[0m in \u001B[0;36m__init__\u001B[1;34m(self, total_count, probs, logits, validate_args)\u001B[0m\n\u001B[0;32m     49\u001B[0m         \u001B[0mself\u001B[0m\u001B[1;33m.\u001B[0m\u001B[0m_param\u001B[0m \u001B[1;33m=\u001B[0m \u001B[0mself\u001B[0m\u001B[1;33m.\u001B[0m\u001B[0mprobs\u001B[0m \u001B[1;32mif\u001B[0m \u001B[0mprobs\u001B[0m \u001B[1;32mis\u001B[0m \u001B[1;32mnot\u001B[0m \u001B[1;32mNone\u001B[0m \u001B[1;32melse\u001B[0m \u001B[0mself\u001B[0m\u001B[1;33m.\u001B[0m\u001B[0mlogits\u001B[0m\u001B[1;33m\u001B[0m\u001B[1;33m\u001B[0m\u001B[0m\n\u001B[0;32m     50\u001B[0m         \u001B[0mbatch_shape\u001B[0m \u001B[1;33m=\u001B[0m \u001B[0mself\u001B[0m\u001B[1;33m.\u001B[0m\u001B[0m_param\u001B[0m\u001B[1;33m.\u001B[0m\u001B[0msize\u001B[0m\u001B[1;33m(\u001B[0m\u001B[1;33m)\u001B[0m\u001B[1;33m\u001B[0m\u001B[1;33m\u001B[0m\u001B[0m\n\u001B[1;32m---> 51\u001B[1;33m         \u001B[0msuper\u001B[0m\u001B[1;33m(\u001B[0m\u001B[0mBinomial\u001B[0m\u001B[1;33m,\u001B[0m \u001B[0mself\u001B[0m\u001B[1;33m)\u001B[0m\u001B[1;33m.\u001B[0m\u001B[0m__init__\u001B[0m\u001B[1;33m(\u001B[0m\u001B[0mbatch_shape\u001B[0m\u001B[1;33m,\u001B[0m \u001B[0mvalidate_args\u001B[0m\u001B[1;33m=\u001B[0m\u001B[0mvalidate_args\u001B[0m\u001B[1;33m)\u001B[0m\u001B[1;33m\u001B[0m\u001B[1;33m\u001B[0m\u001B[0m\n\u001B[0m\u001B[0;32m     52\u001B[0m \u001B[1;33m\u001B[0m\u001B[0m\n\u001B[0;32m     53\u001B[0m     \u001B[1;32mdef\u001B[0m \u001B[0mexpand\u001B[0m\u001B[1;33m(\u001B[0m\u001B[0mself\u001B[0m\u001B[1;33m,\u001B[0m \u001B[0mbatch_shape\u001B[0m\u001B[1;33m,\u001B[0m \u001B[0m_instance\u001B[0m\u001B[1;33m=\u001B[0m\u001B[1;32mNone\u001B[0m\u001B[1;33m)\u001B[0m\u001B[1;33m:\u001B[0m\u001B[1;33m\u001B[0m\u001B[1;33m\u001B[0m\u001B[0m\n",
      "\u001B[1;32m~\\Anaconda3\\lib\\site-packages\\torch\\distributions\\distribution.py\u001B[0m in \u001B[0;36m__init__\u001B[1;34m(self, batch_shape, event_shape, validate_args)\u001B[0m\n\u001B[0;32m     54\u001B[0m                 \u001B[1;32mif\u001B[0m \u001B[1;32mnot\u001B[0m \u001B[0mvalid\u001B[0m\u001B[1;33m.\u001B[0m\u001B[0mall\u001B[0m\u001B[1;33m(\u001B[0m\u001B[1;33m)\u001B[0m\u001B[1;33m:\u001B[0m\u001B[1;33m\u001B[0m\u001B[1;33m\u001B[0m\u001B[0m\n\u001B[0;32m     55\u001B[0m                     raise ValueError(\n\u001B[1;32m---> 56\u001B[1;33m                         \u001B[1;34mf\"Expected parameter {param} \"\u001B[0m\u001B[1;33m\u001B[0m\u001B[1;33m\u001B[0m\u001B[0m\n\u001B[0m\u001B[0;32m     57\u001B[0m                         \u001B[1;34mf\"({type(value).__name__} of shape {tuple(value.shape)}) \"\u001B[0m\u001B[1;33m\u001B[0m\u001B[1;33m\u001B[0m\u001B[0m\n\u001B[0;32m     58\u001B[0m                         \u001B[1;34mf\"of distribution {repr(self)} \"\u001B[0m\u001B[1;33m\u001B[0m\u001B[1;33m\u001B[0m\u001B[0m\n",
      "\u001B[1;31mValueError\u001B[0m: Expected parameter probs (Tensor of shape (4,)) of distribution Binomial(total_count: torch.Size([4]), probs: torch.Size([4])) to satisfy the constraint Interval(lower_bound=0.0, upper_bound=1.0), but found invalid values:\ntensor([0.5000, 0.5000, 2.5000, 0.5000])"
     ]
    }
   ],
   "source": [
    "\n",
    "for hist in range(len(sampled_visibles)):\n",
    "    result = pt.tensor([[0., 0.5], [0.5, 0.005]])\n",
    "    if hist==0:\n",
    "        result_zero = pt.abs(pt.tensor([result[0,0].item()]))\n",
    "        result_one = pt.abs(pt.tensor([result[1,1].item()]))\n",
    "    else:\n",
    "        result_zero = pt.cat((result_zero, pt.abs(pt.tensor([result[0,0].item()]))))\n",
    "        result_one = pt.cat((result_one, pt.abs(pt.tensor([result[0,0].item()]))))\n",
    "probs_in_zero = result_zero / probs_sampled\n",
    "distrib = pt.distributions.binomial.Binomial(num_samples_tensor, probs_in_zero)\n",
    "num_zeros = distrib.sample()\n",
    "print(num_zeros)"
   ],
   "metadata": {
    "collapsed": false,
    "pycharm": {
     "name": "#%%\n"
    }
   }
  },
  {
   "cell_type": "code",
   "execution_count": 110,
   "outputs": [
    {
     "name": "stdout",
     "output_type": "stream",
     "text": [
      "tensor([ 8.,  6., 75., 11.])\n",
      "[tensor([0., 0.]), tensor([1., 0.]), tensor([0., 1.]), tensor([1., 1.])]\n",
      "tensor([0.1000, 0.1000, 0.0200, 0.1000])\n"
     ]
    }
   ],
   "source": [
    "num_ones = num_samples_tensor - num_zeros\n",
    "num_samples_tensor = pt.cat((num_zeros, num_ones))\n",
    "sampled_visible_update = []\n",
    "for j in range(0, len(sampled_visibles)):\n",
    "    if num_samples_tensor[j] > 0:\n",
    "        sampled_visible_update.append(pt.cat((sampled_visibles[j], pt.tensor([0]))))\n",
    "for j in range(0, len(sampled_visibles)):\n",
    "    if num_samples_tensor[j + len(sampled_visibles)] > 0:\n",
    "        sampled_visible_update.append(pt.cat((sampled_visibles[j], pt.tensor([1]))))\n",
    "sampled_visibles = sampled_visible_update\n",
    "probs_sampled = pt.cat((result_zero, result_one))\n",
    "print(num_samples_tensor)\n",
    "print(sampled_visibles)\n",
    "print(probs_sampled)\n",
    "non_zeros = pt.nonzero(num_samples_tensor, as_tuple=True)\n",
    "num_samples_tensor = num_samples_tensor[non_zeros]\n",
    "probs_sampled = probs_sampled[non_zeros]"
   ],
   "metadata": {
    "collapsed": false,
    "pycharm": {
     "name": "#%%\n"
    }
   }
  },
  {
   "cell_type": "code",
   "execution_count": 91,
   "outputs": [
    {
     "name": "stdout",
     "output_type": "stream",
     "text": [
      "tensor([ 1., 80., 19.])\n",
      "[tensor([0., 0.]), tensor([0., 1.]), tensor([1., 1.])]\n",
      "tensor([0.0100, 0.2000, 0.0100])\n"
     ]
    }
   ],
   "source": [
    "print(num_samples_tensor)\n",
    "print(sampled_visibles)\n",
    "print(probs_sampled)"
   ],
   "metadata": {
    "collapsed": false,
    "pycharm": {
     "name": "#%%\n"
    }
   }
  },
  {
   "cell_type": "code",
   "execution_count": 203,
   "outputs": [],
   "source": [
    "def sampling(qubit_num, tensor_list, num_samples):\n",
    "    num_samples_tensor = pt.tensor([num_samples])\n",
    "    sampled_visibles = [pt.tensor([])]\n",
    "    probs_sampled = pt.tensor([1])\n",
    "    contraction_results = []\n",
    "    for idx_rev in range(qubit_num - 1, -1, -1):\n",
    "        contr_res_intermed = []\n",
    "        for hist in range(len(sampled_visibles)):\n",
    "            if idx_rev == qubit_num - 1:\n",
    "                result = tensor_list[idx_rev]\n",
    "            else:\n",
    "                result = contraction_results[hist]\n",
    "                #Top -> Bottom\n",
    "                result = pt.einsum('ij,kj->ik', result, tensor_list[idx_rev + 1][:, int(sampled_visibles[hist][(qubit_num - 1) - (idx_rev + 1)]), :].conj())\n",
    "                #Left -> Right\n",
    "                result = pt.einsum('ik,jai->jak', result, tensor_list[idx_rev])\n",
    "            contr_res_intermed.append(result)\n",
    "            prob_result = pt.einsum('iaj,ibj->ab', result, tensor_list[idx_rev].conj())\n",
    "            if hist==0:\n",
    "                result_zero = pt.abs(pt.tensor([prob_result[0,0].item()]))\n",
    "                result_one = pt.abs(pt.tensor([prob_result[1,1].item()]))\n",
    "            else:\n",
    "                result_zero = pt.cat((result_zero, pt.abs(pt.tensor([prob_result[0,0].item()]))))\n",
    "                result_one = pt.cat((result_one, pt.abs(pt.tensor([prob_result[1,1].item()]))))\n",
    "\n",
    "        probs_in_zero = result_zero / probs_sampled\n",
    "        distrib = pt.distributions.binomial.Binomial(num_samples_tensor, probs_in_zero)\n",
    "        num_zeros = distrib.sample()\n",
    "        num_ones = num_samples_tensor - num_zeros\n",
    "        num_samples_tensor = pt.cat((num_zeros, num_ones))\n",
    "        sampled_visible_update = []\n",
    "        contraction_results = []\n",
    "        for j in range(0, len(sampled_visibles)):\n",
    "            if num_samples_tensor[j] > 0:\n",
    "                sampled_visible_update.append(pt.cat((sampled_visibles[j], pt.tensor([0]))))\n",
    "                contraction_results.append(contr_res_intermed[j][:,0,:])\n",
    "        for j in range(0, len(sampled_visibles)):\n",
    "            if num_samples_tensor[j + len(sampled_visibles)] > 0:\n",
    "                sampled_visible_update.append(pt.cat((sampled_visibles[j], pt.tensor([1]))))\n",
    "                contraction_results.append(contr_res_intermed[j][:,1,:])\n",
    "        sampled_visibles = sampled_visible_update\n",
    "        probs_sampled = pt.cat((result_zero, result_one))\n",
    "        non_zeros = pt.nonzero(num_samples_tensor, as_tuple=True)\n",
    "        num_samples_tensor = num_samples_tensor[non_zeros]\n",
    "        probs_sampled = probs_sampled[non_zeros]\n",
    "    return num_samples_tensor, sampled_visibles, probs_sampled"
   ],
   "metadata": {
    "collapsed": false,
    "pycharm": {
     "name": "#%%\n"
    }
   }
  },
  {
   "cell_type": "code",
   "execution_count": 218,
   "outputs": [
    {
     "data": {
      "text/plain": "<src.mps.MPS at 0x12d00129e48>"
     },
     "execution_count": 218,
     "metadata": {},
     "output_type": "execute_result"
    }
   ],
   "source": [
    "mps.canonicalise(qubit_num - 1)\n",
    "mps.normalise()"
   ],
   "metadata": {
    "collapsed": false,
    "pycharm": {
     "name": "#%%\n"
    }
   }
  },
  {
   "cell_type": "code",
   "execution_count": 219,
   "outputs": [
    {
     "name": "stdout",
     "output_type": "stream",
     "text": [
      "28.7 ms ± 2.1 ms per loop (mean ± std. dev. of 7 runs, 10 loops each)\n"
     ]
    }
   ],
   "source": [
    "%timeit sampling(qubit_num, mps.tensors, 100)"
   ],
   "metadata": {
    "collapsed": false,
    "pycharm": {
     "name": "#%%\n"
    }
   }
  },
  {
   "cell_type": "code",
   "execution_count": 211,
   "outputs": [
    {
     "name": "stdout",
     "output_type": "stream",
     "text": [
      "1.13 ms ± 13.2 µs per loop (mean ± std. dev. of 7 runs, 1000 loops each)\n"
     ]
    }
   ],
   "source": [
    "%timeit MPSQuantumState(qubit_num, mps).measure()"
   ],
   "metadata": {
    "collapsed": false,
    "pycharm": {
     "name": "#%%\n"
    }
   }
  },
  {
   "cell_type": "code",
   "execution_count": null,
   "outputs": [],
   "source": [],
   "metadata": {
    "collapsed": false,
    "pycharm": {
     "name": "#%%\n"
    }
   }
  }
 ],
 "metadata": {
  "kernelspec": {
   "display_name": "Python 3",
   "language": "python",
   "name": "python3"
  },
  "language_info": {
   "codemirror_mode": {
    "name": "ipython",
    "version": 2
   },
   "file_extension": ".py",
   "mimetype": "text/x-python",
   "name": "python",
   "nbconvert_exporter": "python",
   "pygments_lexer": "ipython2",
   "version": "2.7.6"
  }
 },
 "nbformat": 4,
 "nbformat_minor": 0
}