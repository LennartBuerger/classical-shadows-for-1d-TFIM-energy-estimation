{
 "cells": [
  {
   "cell_type": "code",
   "execution_count": 1,
   "metadata": {
    "collapsed": true
   },
   "outputs": [],
   "source": [
    "import numpy as np\n",
    "import torch as pt\n",
    "from matplotlib import pyplot as plt\n",
    "import sys\n",
    "from pathlib import Path\n",
    "import src.constants as constants\n",
    "import sys\n",
    "from display_data.data_acquisition_shadow import derandomized_classical_shadow, randomized_classical_shadow\n",
    "from display_data.prediction_shadow import estimate_exp\n",
    "sys.path.append(Path('../src'))\n",
    "from src.mps import MPS\n",
    "from src.tfim_hamiltonian_open_fermion import TfimHamiltonianOpenFermion\n",
    "from src.mps_quantum_state import MPSQuantumState"
   ]
  },
  {
   "cell_type": "code",
   "execution_count": 2,
   "outputs": [],
   "source": [
    "#generate a random tensor list\n",
    "qubit_num = 10\n",
    "bond_dim = 50\n",
    "tensor_liste = [pt.randn([1, 2, bond_dim], dtype=pt.cdouble)]\n",
    "for idx in range(qubit_num - 2):\n",
    "    tensor_liste.append(pt.rand([bond_dim, 2, bond_dim], dtype=pt.cdouble))\n",
    "tensor_liste.append(pt.rand([bond_dim, 2, 1], dtype=pt.cdouble))"
   ],
   "metadata": {
    "collapsed": false,
    "pycharm": {
     "name": "#%%\n"
    }
   }
  },
  {
   "cell_type": "code",
   "execution_count": 2,
   "outputs": [],
   "source": [
    "# this function converts the stored measurement outcomes to the correct shape needed for the shadow prediction\n",
    "def conversion_to_prediction_shadow_dict_shape(measurement_procedure, measurement_index, qubit_num):\n",
    "    to_str_func = np.vectorize(lambda x: np.binary_repr(x).zfill(qubit_num))\n",
    "    strs = to_str_func(measurement_index)\n",
    "    dirac_rep = np.zeros(list(measurement_index.shape) + [qubit_num], dtype=np.int8)\n",
    "    for bit_ix in range(0, qubit_num):\n",
    "        fetch_bit_func = np.vectorize(lambda x: x[bit_ix] == '1')\n",
    "        dirac_rep[...,bit_ix] = fetch_bit_func(strs).astype(\"int8\")\n",
    "    measurement_array = np.where(dirac_rep == 1, -1, dirac_rep)\n",
    "    measurement_array = np.where(dirac_rep == 0, 1, measurement_array)\n",
    "    measurement = np.dstack((measurement_procedure, np.array(measurement_array, dtype=int)))\n",
    "    return measurement"
   ],
   "metadata": {
    "collapsed": false,
    "pycharm": {
     "name": "#%%\n"
    }
   }
  },
  {
   "cell_type": "code",
   "execution_count": 15,
   "outputs": [],
   "source": [
    "ratio_h_j = 0.1\n",
    "qubit_num = 6\n",
    "save_direc_groundstate = Path('data/Diagonal_hamiltonian/groundstate_dict.npy')\n",
    "ground_state_dict = np.load(save_direc_groundstate, allow_pickle='TRUE')\n",
    "ground_state_dict = ground_state_dict.item()\n",
    "ground_state = ground_state_dict[str(1)]['open'][str(qubit_num)][str(ratio_h_j)]\n",
    "mps = MPS.from_state_vector(qubit_num, ground_state)"
   ],
   "metadata": {
    "collapsed": false,
    "pycharm": {
     "name": "#%%\n"
    }
   }
  },
  {
   "cell_type": "code",
   "execution_count": 16,
   "outputs": [
    {
     "name": "stdout",
     "output_type": "stream",
     "text": [
      "-5.020016662087988\n"
     ]
    }
   ],
   "source": [
    "save_direc_eigs = Path('data/Diagonal_hamiltonian/eigenvalues_first_three_dict.npy')\n",
    "energy_dict = np.load(save_direc_eigs, allow_pickle=True)\n",
    "energy_dict = energy_dict.item()\n",
    "energy_brute = energy_dict[str(1)]['open'][str(qubit_num)][str(ratio_h_j)][0]\n",
    "print(energy_brute)"
   ],
   "metadata": {
    "collapsed": false,
    "pycharm": {
     "name": "#%%\n"
    }
   }
  },
  {
   "cell_type": "code",
   "execution_count": 17,
   "outputs": [
    {
     "name": "stdout",
     "output_type": "stream",
     "text": [
      "starting batch 0\n",
      "starting batch 1\n",
      "starting batch 2\n",
      "starting batch 3\n",
      "starting batch 4\n",
      "starting batch 5\n",
      "starting batch 6\n",
      "starting batch 7\n",
      "starting batch 8\n",
      "starting batch 9\n"
     ]
    }
   ],
   "source": [
    "# now we have a method to keep only the unique indices, now we convert the measurements to the necessary shape for shadow prediction\n",
    "batches = 10\n",
    "num_of_measurements = np.array([10, 20, 50, 100, 200, 500, 1000])\n",
    "num_of_measurements_per_rot = 200\n",
    "energies_different_meas_num = np.zeros((np.size(num_of_measurements), batches))\n",
    "mps.normalise()\n",
    "mps.canonicalise(qubit_num - 1)\n",
    "for b in range(batches):\n",
    "    print('starting batch ' + str(b))\n",
    "    for i in range(np.size(num_of_measurements)):\n",
    "        meas_outcomes, meas_procedure, probs = MPSQuantumState(qubit_num, mps).measurement_shadow(num_of_measurements[i], num_of_measurements_per_rot)\n",
    "        energies = pt.zeros(len(meas_outcomes))\n",
    "        for n in range(len(meas_outcomes)):\n",
    "            probs_direct = MPSQuantumState(qubit_num, mps).rotate_pauli(meas_procedure[n]).prob(pt.tensor(meas_outcomes[n]))\n",
    "            measurements = conversion_to_prediction_shadow_dict_shape([meas_procedure[n]]*len(meas_outcomes[n]), np.array(meas_outcomes[n]), qubit_num)\n",
    "            energies[n] = TfimHamiltonianOpenFermion(qubit_num, ratio_h_j, 1, 'open').energy_shadow_mps_modified(measurements, probs_direct)\n",
    "        energy = pt.mean(energies)\n",
    "        energies_different_meas_num[i,b] = energy"
   ],
   "metadata": {
    "collapsed": false,
    "pycharm": {
     "name": "#%%\n"
    }
   }
  },
  {
   "cell_type": "code",
   "execution_count": 18,
   "outputs": [
    {
     "data": {
      "text/plain": "Text(0, 0.5, '$\\\\epsilon$')"
     },
     "execution_count": 18,
     "metadata": {},
     "output_type": "execute_result"
    },
    {
     "data": {
      "text/plain": "<Figure size 432x288 with 1 Axes>",
      "image/png": "[encoded data removed]"
     },
     "metadata": {
      "needs_background": "light"
     },
     "output_type": "display_data"
    }
   ],
   "source": [
    "rel_error = np.abs((energies_different_meas_num - energy_brute) / energy_brute)\n",
    "rel_error_mean = np.mean(rel_error, axis=1)\n",
    "rel_error_std = np.mean(rel_error, axis=1)\n",
    "plt.plot(num_of_measurements, rel_error_mean)\n",
    "plt.fill_between(num_of_measurements, rel_error_mean - rel_error_std, rel_error_mean + rel_error_std, alpha=0.3)\n",
    "plt.yscale('log')\n",
    "plt.xscale('log')\n",
    "plt.title('relative error $\\epsilon$ in the prediction of energy against the number N of shadows')\n",
    "plt.xlabel('N')\n",
    "plt.ylabel('$\\epsilon$')"
   ],
   "metadata": {
    "collapsed": false,
    "pycharm": {
     "name": "#%%\n"
    }
   }
  },
  {
   "cell_type": "code",
   "execution_count": 28,
   "outputs": [],
   "source": [
    "# now we try to estimate the gradient directly by contracting the mps with hamiltonian\n",
    "#generate a random tensor list\n",
    "qubit_num = 6\n",
    "ratio_h_j = 0.1\n",
    "bond_dim = 50\n",
    "tensor_liste_rand = [pt.rand([1, 2, bond_dim], dtype=pt.cdouble)]\n",
    "for idx in range(qubit_num - 2):\n",
    "    tensor_liste_rand.append(pt.rand([bond_dim, 2, bond_dim], dtype=pt.cdouble))\n",
    "tensor_liste_rand.append(pt.rand([bond_dim, 2, 1], dtype=pt.cdouble))\n",
    "mps = MPS.from_tensor_list(tensor_liste_rand).normalise()\n",
    "param_vec = mps.to_param_vec()\n",
    "# we only needed this param vec to determine the size of the tensor\n",
    "random_param_vec = pt.rand(param_vec.shape[0], dtype=pt.cdouble)"
   ],
   "metadata": {
    "collapsed": false,
    "pycharm": {
     "name": "#%%\n"
    }
   }
  },
  {
   "cell_type": "code",
   "execution_count": 20,
   "outputs": [
    {
     "name": "stdout",
     "output_type": "stream",
     "text": [
      "BF E = (0.5958803834905864+0j)\n"
     ]
    }
   ],
   "source": [
    "# we estimate the energy exactly by contraction with the hamiltonian\n",
    "random_param_vec_brute = random_param_vec.detach()\n",
    "random_param_vec_brute.requires_grad_(True)\n",
    "mps.from_param_vec(param_vec=random_param_vec_brute)\n",
    "psi = mps.to_state_vector()\n",
    "hamiltonian = pt.from_numpy(TfimHamiltonianOpenFermion(qubit_num, ratio_h_j, 1, 'open').to_matrix().todense())\n",
    "energy_bf = psi.conj() @ hamiltonian @ psi / (psi.conj() @ psi)\n",
    "print(f'BF E = {energy_bf}')\n",
    "energy_bf.backward()"
   ],
   "metadata": {
    "collapsed": false,
    "pycharm": {
     "name": "#%%\n"
    }
   }
  },
  {
   "cell_type": "code",
   "execution_count": 21,
   "outputs": [
    {
     "name": "stdout",
     "output_type": "stream",
     "text": [
      "SH E = 0.595568835735321\n",
      "SH E = 0.5090430378913879\n",
      "SH E = 0.5312356352806091\n",
      "SH E = 0.586112380027771\n",
      "SH E = 0.6039906144142151\n",
      "SH E = 0.5812474489212036\n",
      "SH E = 0.7198468446731567\n",
      "SH E = 0.7485888004302979\n",
      "SH E = 0.6199989914894104\n",
      "SH E = 0.609914243221283\n",
      "SH E = 0.6088409423828125\n",
      "SH E = 0.6096405982971191\n",
      "SH E = 0.6562424302101135\n",
      "SH E = 0.4891132414340973\n",
      "SH E = 0.6034649014472961\n",
      "SH E = 0.6662202477455139\n",
      "SH E = 0.604587733745575\n",
      "SH E = 0.6287092566490173\n",
      "SH E = 0.6680187582969666\n",
      "SH E = 0.5541718006134033\n",
      "SH E = 0.624954342842102\n",
      "SH E = 0.6692126393318176\n",
      "SH E = 0.5808590054512024\n",
      "SH E = 0.6157920360565186\n",
      "SH E = 0.5356894731521606\n",
      "SH E = 0.647311806678772\n",
      "SH E = 0.6327542662620544\n",
      "SH E = 0.5311230421066284\n",
      "SH E = 0.5685957074165344\n",
      "SH E = 0.5744816660881042\n"
     ]
    }
   ],
   "source": [
    "# now we estimate the gradient by using the classical shadows\n",
    "num_of_measurements = np.array([10, 20, 50, 100, 200, 500])\n",
    "num_of_measurements_per_rot = 200\n",
    "batches = 5\n",
    "errors = np.zeros((np.size(num_of_measurements), batches))\n",
    "\n",
    "for b in range(0, batches):\n",
    "    for j in range(np.size(num_of_measurements)):\n",
    "        random_param_vec_shadow = random_param_vec.detach()\n",
    "        random_param_vec_shadow.requires_grad_(True)\n",
    "        mps = MPS.from_tensor_list(tensor_liste_rand)\n",
    "        mps.from_param_vec(param_vec=random_param_vec_shadow)\n",
    "        mps.normalise()\n",
    "    #mps.tensors[0] = mps.tensors[0] / mps.norm()\n",
    "        meas_outcomes, meas_procedure, probs = MPSQuantumState(qubit_num, mps).measurement_shadow(num_of_measurements[j], num_of_measurements_per_rot)\n",
    "        energies = pt.zeros(len(meas_outcomes))\n",
    "        for n in range(len(meas_outcomes)):\n",
    "            probs_direct = MPSQuantumState(qubit_num, mps).rotate_pauli(meas_procedure[n]).prob(pt.tensor(meas_outcomes[n]))\n",
    "            measurements = conversion_to_prediction_shadow_dict_shape([meas_procedure[n]]*len(meas_outcomes[n]), np.array(meas_outcomes[n]), qubit_num)\n",
    "            energies[n] = TfimHamiltonianOpenFermion(qubit_num, ratio_h_j, 1, 'open').energy_shadow_mps_modified(measurements, probs_direct)\n",
    "        energy_shadow = pt.mean(energies)\n",
    "        print(f'SH E = {energy_shadow}')\n",
    "        energy_shadow.backward()\n",
    "        errors[j,b] = pt.linalg.norm((random_param_vec_brute.grad - random_param_vec_shadow.grad)/pt.linalg.norm(random_param_vec_brute.grad))"
   ],
   "metadata": {
    "collapsed": false,
    "pycharm": {
     "name": "#%%\n"
    }
   }
  },
  {
   "cell_type": "code",
   "execution_count": 22,
   "outputs": [
    {
     "data": {
      "text/plain": "<Figure size 432x288 with 1 Axes>",
      "image/png": "[encoded data removed]"
     },
     "metadata": {
      "needs_background": "light"
     },
     "output_type": "display_data"
    }
   ],
   "source": [
    "rel_error_mean = np.mean(errors, axis=1)\n",
    "rel_error_std = np.mean(errors, axis=1)\n",
    "plt.plot(num_of_measurements, rel_error_mean)\n",
    "plt.fill_between(num_of_measurements, rel_error_mean - rel_error_std, rel_error_mean + rel_error_std, alpha=0.3)\n",
    "plt.title('relative error $\\epsilon$ in the gradient prediction against number of classical shadows N')\n",
    "plt.xlabel('N')\n",
    "plt.ylabel('$\\epsilon$')\n",
    "plt.yscale('log')\n",
    "plt.xscale('log')"
   ],
   "metadata": {
    "collapsed": false,
    "pycharm": {
     "name": "#%%\n"
    }
   }
  },
  {
   "cell_type": "code",
   "execution_count": null,
   "outputs": [],
   "source": [
    "# we do gradient descent with the exact hamiltonian contraction method and see whether we converge to the ground state"
   ],
   "metadata": {
    "collapsed": false,
    "pycharm": {
     "name": "#%%\n",
     "is_executing": true
    }
   }
  },
  {
   "cell_type": "code",
   "execution_count": 23,
   "outputs": [],
   "source": [
    "# doing gradient descent using pytorch optimizer\n",
    "step_num = 500\n",
    "lr = 0.01\n",
    "random_param_vec_brute = random_param_vec.detach()\n",
    "random_param_vec_brute.requires_grad_(True)\n",
    "opt = pt.optim.Adam([random_param_vec_brute], lr=lr)\n",
    "\n",
    "accuracy = np.zeros(step_num)\n",
    "for i in range(0, step_num):\n",
    "    opt.zero_grad()\n",
    "    mps.from_param_vec(param_vec = random_param_vec_brute)\n",
    "    psi = mps.to_state_vector()\n",
    "    hamiltonian = pt.from_numpy(TfimHamiltonianOpenFermion(qubit_num, ratio_h_j, 1, 'open').to_matrix().todense())\n",
    "    energy = psi.conj() @ hamiltonian @ psi / (psi.conj() @ psi)\n",
    "    energy.backward()\n",
    "    accuracy[i] = np.abs(energy.detach() - energy_brute) / np.abs(energy_brute)\n",
    "    opt.step()"
   ],
   "metadata": {
    "collapsed": false,
    "pycharm": {
     "name": "#%%\n"
    }
   }
  },
  {
   "cell_type": "code",
   "execution_count": 24,
   "outputs": [
    {
     "data": {
      "text/plain": "<Figure size 432x288 with 1 Axes>",
      "image/png": "[encoded data removed]"
     },
     "metadata": {
      "needs_background": "light"
     },
     "output_type": "display_data"
    }
   ],
   "source": [
    "plt.plot(np.arange(0, step_num), accuracy)\n",
    "plt.yscale('log')"
   ],
   "metadata": {
    "collapsed": false,
    "pycharm": {
     "name": "#%%\n"
    }
   }
  },
  {
   "cell_type": "code",
   "execution_count": 34,
   "outputs": [],
   "source": [
    "# now we try to estimate the gradient directly by contracting the mps with hamiltonian\n",
    "#generate a random tensor list\n",
    "qubit_num = 6\n",
    "ratio_h_j = 0.1\n",
    "bond_dim = 50\n",
    "tensor_liste_rand = [pt.rand([1, 2, bond_dim], dtype=pt.cdouble)]\n",
    "for idx in range(qubit_num - 2):\n",
    "    tensor_liste_rand.append(pt.rand([bond_dim, 2, bond_dim], dtype=pt.cdouble))\n",
    "tensor_liste_rand.append(pt.rand([bond_dim, 2, 1], dtype=pt.cdouble))\n",
    "mps = MPS.from_tensor_list(tensor_liste_rand).normalise()\n",
    "param_vec = mps.to_param_vec()\n",
    "# we only needed this param vec to determine the size of the tensor\n",
    "random_param_vec = pt.rand(param_vec.shape[0], dtype=pt.cdouble)"
   ],
   "metadata": {
    "collapsed": false,
    "pycharm": {
     "name": "#%%\n"
    }
   }
  },
  {
   "cell_type": "code",
   "execution_count": null,
   "outputs": [],
   "source": [
    "# doing gradient descent using pytorch optimizer\n",
    "step_num = 20\n",
    "lr = 0.1\n",
    "random_param_vec_shadow = random_param_vec.detach()\n",
    "random_param_vec_shadow.requires_grad_(True)\n",
    "opt = pt.optim.Adam([random_param_vec_shadow])\n",
    "num_of_measurements = 100\n",
    "num_of_measurements_per_rot = 1000\n",
    "\n",
    "accuracy = np.zeros(step_num)\n",
    "for i in range(step_num):\n",
    "    opt.zero_grad()\n",
    "    mps.from_param_vec(param_vec=random_param_vec_shadow)\n",
    "    mps.normalise()\n",
    "    with pt.no_grad():\n",
    "        meas_outcomes, meas_procedure, probs = MPSQuantumState(qubit_num, mps).measurement_shadow(num_of_measurements, num_of_measurements_per_rot)\n",
    "    energies = pt.zeros(len(meas_outcomes))\n",
    "    for n in range(len(meas_outcomes)):\n",
    "        probs_direct = MPSQuantumState(qubit_num, mps).rotate_pauli(meas_procedure[n]).prob(pt.tensor(meas_outcomes[n]))\n",
    "        measurements = conversion_to_prediction_shadow_dict_shape([meas_procedure[n]]*len(meas_outcomes[n]), np.array(meas_outcomes[n]), qubit_num)\n",
    "        energies[n] = TfimHamiltonianOpenFermion(qubit_num, ratio_h_j, 1, 'open').energy_shadow_mps_modified(measurements, probs_direct)\n",
    "    energy_shadow = pt.mean(energies)\n",
    "    energy_shadow.backward()\n",
    "    accuracy[i] = np.abs(energy_shadow.detach() - energy_brute) / np.abs(energy_brute)\n",
    "    opt.step()\n",
    "    print('progress: ' + str(i+1) + ' / ' + str(step_num))\n",
    "    print(f'SH E = {energy_shadow}')\n",
    "    print(f'loss = {accuracy[i]}')"
   ],
   "metadata": {
    "collapsed": false,
    "pycharm": {
     "name": "#%%\n"
    }
   }
  },
  {
   "cell_type": "code",
   "execution_count": null,
   "outputs": [],
   "source": [
    "plt.plot(np.arange(0, step_num), accuracy)\n",
    "plt.title('relative error $\\epsilon$ in the prediction of the ground state against number of iterations')\n",
    "#plt.xscale('log')\n",
    "plt.yscale('log')\n",
    "plt.xlabel('iterations')\n",
    "plt.ylabel('$\\epsilon$')"
   ],
   "metadata": {
    "collapsed": false,
    "pycharm": {
     "name": "#%%\n"
    }
   }
  },
  {
   "cell_type": "code",
   "execution_count": 22,
   "outputs": [
    {
     "name": "stdout",
     "output_type": "stream",
     "text": [
      "3 ms ± 577 µs per loop (mean ± std. dev. of 7 runs, 100 loops each)\n"
     ]
    }
   ],
   "source": [
    "%timeit MPSQuantumState(qubit_num, mps).amplitude(pt.tensor([0]))"
   ],
   "metadata": {
    "collapsed": false,
    "pycharm": {
     "name": "#%%\n"
    }
   }
  },
  {
   "cell_type": "code",
   "execution_count": null,
   "outputs": [],
   "source": [],
   "metadata": {
    "collapsed": false,
    "pycharm": {
     "name": "#%%\n"
    }
   }
  }
 ],
 "metadata": {
  "kernelspec": {
   "display_name": "Python 3",
   "language": "python",
   "name": "python3"
  },
  "language_info": {
   "codemirror_mode": {
    "name": "ipython",
    "version": 2
   },
   "file_extension": ".py",
   "mimetype": "text/x-python",
   "name": "python",
   "nbconvert_exporter": "python",
   "pygments_lexer": "ipython2",
   "version": "2.7.6"
  }
 },
 "nbformat": 4,
 "nbformat_minor": 0
}