{
 "cells": [
  {
   "cell_type": "code",
   "execution_count": 1,
   "metadata": {
    "collapsed": true
   },
   "outputs": [],
   "source": [
    "import sys\n",
    "import numpy as np\n",
    "import torch as pt\n",
    "import matplotlib.pyplot as plt\n",
    "import sys\n",
    "from pathlib import Path\n",
    "sys.path.append(Path('../deterministic'))\n",
    "from deterministic.mps import MPS\n",
    "import src.constants as constants\n",
    "from display_data.data_acquisition_shadow import derandomized_classical_shadow, randomized_classical_shadow\n",
    "from display_data.prediction_shadow import estimate_exp\n",
    "sys.path.append(Path('../src'))\n",
    "from src.tfim_hamiltonian_open_fermion import TfimHamiltonianOpenFermion\n",
    "from src.mps_quantum_state import MPSQuantumState\n",
    "import matplotlib.pyplot as plt"
   ]
  },
  {
   "cell_type": "code",
   "execution_count": 2,
   "outputs": [
    {
     "name": "stdout",
     "output_type": "stream",
     "text": [
      "MPS None:\n",
      "\tvisible_num = 10\n",
      "\tphys_dims = [2, 2, 2, 2, 2, 2, 2, 2, 2, 2]\n",
      "\tbond_dims = [2, 4, 8, 16, 32, 16, 8, 4, 2]\n",
      "\text_bond_dims = [1, 2, 4, 8, 16, 32, 16, 8, 4, 2, 1]\n",
      "\torth_idx = None\n",
      "\n"
     ]
    }
   ],
   "source": [
    "qubit_num = 10\n",
    "psi = pt.rand(2**qubit_num, dtype=pt.cdouble)\n",
    "mps = MPS.from_state_vector(qubit_num, psi)\n",
    "print(mps)"
   ],
   "metadata": {
    "collapsed": false,
    "pycharm": {
     "name": "#%%\n"
    }
   }
  },
  {
   "cell_type": "code",
   "execution_count": 2,
   "outputs": [],
   "source": [
    "#generate a random tensor list\n",
    "qubit_num = 12\n",
    "bond_dim = 50\n",
    "tensor_liste = [pt.rand([1, 2, bond_dim], dtype=pt.cdouble)]\n",
    "for idx in range(qubit_num - 2):\n",
    "    tensor_liste.append(pt.rand([bond_dim, 2, bond_dim], dtype=pt.cdouble))\n",
    "tensor_liste.append(pt.rand([bond_dim, 2, 1], dtype=pt.cdouble))"
   ],
   "metadata": {
    "collapsed": false,
    "pycharm": {
     "name": "#%%\n"
    }
   }
  },
  {
   "cell_type": "code",
   "execution_count": 11,
   "outputs": [],
   "source": [
    "def canonicalise_left_to_index(tensor_list, idx, phys_dim):\n",
    "    #from the left\n",
    "    for index in range(0, idx):\n",
    "        bond_dim_left = tensor_list[index][:,0,0].size()[0]\n",
    "        bond_dim_right = tensor_list[index][0,0,:].size()[0]\n",
    "        Qm, R = pt.linalg.qr(tensor_list[index].reshape(bond_dim_left*phys_dim, bond_dim_right))\n",
    "        tensor_list[index] = pt.reshape(Qm, (bond_dim_left, phys_dim, Qm.size()[1]))\n",
    "        tensor_list[index + 1] = pt.einsum('ab,bcd->acd', R, tensor_list[index + 1])\n",
    "    return tensor_list"
   ],
   "metadata": {
    "collapsed": false,
    "pycharm": {
     "name": "#%%\n"
    }
   }
  },
  {
   "cell_type": "code",
   "execution_count": 24,
   "outputs": [],
   "source": [
    "# sampling algorithm\n",
    "def sampling(tensor_list, qubit_num, num_samples):\n",
    "    bits_sampled = pt.zeros((qubit_num, num_samples))\n",
    "    probabilities_for_bits = pt.ones((qubit_num, num_samples))\n",
    "    canonicalised_tensors = canonicalise_left_to_index(tensor_list, qubit_num-1, 2)\n",
    "    #we only need to do this step if the MPS is not normalised\n",
    "    part_func = pt.einsum('ijk,ijl->kl', canonicalised_tensors[qubit_num-1], canonicalised_tensors[qubit_num-1].conj())[0,0]\n",
    "\n",
    "    for index in range(qubit_num):\n",
    "        idx = qubit_num - 1 -index\n",
    "        # because the probabilities for all samples is different, we cannot draw them all at once, but have to draw them one by one by looping\n",
    "        for k in range(num_samples):\n",
    "        #contract the network\n",
    "            if idx==qubit_num-1:\n",
    "                result = pt.einsum('ijl,iml->jm', canonicalised_tensors[idx], canonicalised_tensors[idx].conj())\n",
    "            else:\n",
    "                result = pt.einsum('fh,jh->fj', canonicalised_tensors[qubit_num-1][:,int(bits_sampled[qubit_num-1, k].item()),:], canonicalised_tensors[qubit_num-1][:,int(bits_sampled[qubit_num-1, k].item()),:].conj())\n",
    "                for counter in range(qubit_num - 1 - idx - 1):\n",
    "                    index = qubit_num - 1 - counter - 1\n",
    "                    result = pt.einsum('fj,df->dj', result, canonicalised_tensors[index][:,int(bits_sampled[index, k].item()),:])\n",
    "                    result = pt.einsum('dj,lj->dl', result, canonicalised_tensors[index][:,int(bits_sampled[index, k].item()),:].conj())\n",
    "                result = pt.einsum('rs,acr->acs', result, canonicalised_tensors[idx])\n",
    "                result = pt.einsum('acs,ams->cm', result, canonicalised_tensors[idx].conj())\n",
    "        #contraction done\n",
    "            prob_for_previous_bits = pt.prod(probabilities_for_bits[:,k])\n",
    "            probs = [abs(result[0,0])/part_func/prob_for_previous_bits, abs(result[1,1])/part_func/prob_for_previous_bits]\n",
    "            bits_sampled[idx, k] = pt.multinomial(pt.tensor([probs[0].real.item(), probs[1].real.item()]), 1, replacement=True)[0].item()\n",
    "            probabilities_for_bits[idx, k] = probs[int(bits_sampled[idx, k].item())]\n",
    "    return bits_sampled, probabilities_for_bits"
   ],
   "metadata": {
    "collapsed": false,
    "pycharm": {
     "name": "#%%\n"
    }
   }
  },
  {
   "cell_type": "code",
   "execution_count": 13,
   "outputs": [],
   "source": [
    "# apply a rotation\n",
    "def rotation(tensoren, rotation_pauli_string):\n",
    "    rot_tensors = []\n",
    "    for idx in range(len(tensoren)):\n",
    "        rot_tensors.append(pt.einsum('ab,cbd->cad',constants.PAULI_ROT[rotation_pauli_string[idx]], tensoren[idx]))\n",
    "    return rot_tensors"
   ],
   "metadata": {
    "collapsed": false,
    "pycharm": {
     "name": "#%%\n"
    }
   }
  },
  {
   "cell_type": "code",
   "execution_count": 14,
   "outputs": [],
   "source": [
    "# shadow generation\n",
    "def generate_shadow_and_prob(tensoren, qubit_num, number_of_measurements, num_measurements_per_rot):\n",
    "    measurement_outcomes = []\n",
    "    probabilities = []\n",
    "    measurement_procedure = randomized_classical_shadow(number_of_measurements, qubit_num)\n",
    "    for i in range(number_of_measurements):\n",
    "        tensor_list_rot = rotation(tensoren, measurement_procedure[i])\n",
    "        measurement_bits, probs = sampling(tensor_list_rot, qubit_num, num_measurements_per_rot)\n",
    "        probabilities.append(pt.prod(probs, dim = 0))\n",
    "        #convert binary torch tensor to index\n",
    "        measurement_outcome = pt.zeros(num_measurements_per_rot, dtype = pt.int)\n",
    "        for k in range(0, qubit_num):\n",
    "            measurement_outcome[:] = measurement_outcome + measurement_bits[k] * 2**(qubit_num - 1 - k)\n",
    "        measurement_outcomes.append(measurement_outcome)\n",
    "    return measurement_outcomes, measurement_procedure, probabilities"
   ],
   "metadata": {
    "collapsed": false,
    "pycharm": {
     "name": "#%%\n"
    }
   }
  },
  {
   "cell_type": "code",
   "execution_count": 5,
   "outputs": [],
   "source": [
    "# this function converts the stored measurement outcomes to the correct shape needed for the shadow prediction\n",
    "def conversion_to_prediction_shadow_dict_shape(measurement_procedure, measurement_index, qubit_num):\n",
    "    to_str_func = np.vectorize(lambda x: np.binary_repr(x).zfill(qubit_num))\n",
    "    strs = to_str_func(measurement_index)\n",
    "    dirac_rep = np.zeros(list(measurement_index.shape) + [qubit_num], dtype=np.int8)\n",
    "    for bit_ix in range(0, qubit_num):\n",
    "        fetch_bit_func = np.vectorize(lambda x: x[bit_ix] == '1')\n",
    "        dirac_rep[...,bit_ix] = fetch_bit_func(strs).astype(\"int8\")\n",
    "    measurement_array = np.where(dirac_rep == 1, -1, dirac_rep)\n",
    "    measurement_array = np.where(dirac_rep == 0, 1, measurement_array)\n",
    "    measurement = np.dstack((measurement_procedure, np.array(measurement_array, dtype=int)))\n",
    "    return measurement"
   ],
   "metadata": {
    "collapsed": false,
    "pycharm": {
     "name": "#%%\n"
    }
   }
  },
  {
   "cell_type": "code",
   "execution_count": 16,
   "outputs": [],
   "source": [
    "#now we estimate the energy from the classical shadows, we pick the open boundary TFIM Hamiltonian\n",
    "def ising_energy_shadows(measurements, probabilities, qubit_num, ratio_h_J):\n",
    "    h_val = ratio_h_J\n",
    "    j_val = 1\n",
    "    observables = []\n",
    "    for i in range(0, qubit_num):\n",
    "        x_arr = [['X', i]]\n",
    "        observables.append(x_arr)\n",
    "        if i <= qubit_num - 2:\n",
    "            z_arr = [['Z', i], ['Z', i + 1]]\n",
    "            observables.append(z_arr)\n",
    "\n",
    "    energy = 0\n",
    "    for j in range(len(measurements)):\n",
    "        for i in range(0, len(observables)):\n",
    "            sum_product, cnt_match = estimate_exp([measurements[j]], observables[i])\n",
    "            if sum_product == 0 and cnt_match == 0:\n",
    "                expectation_val = 0\n",
    "            elif cnt_match == 0 and sum_product != 0:\n",
    "                print('cnt_match is zero (problemo)!')\n",
    "            else:\n",
    "                expectation_val =  sum_product / cnt_match * probabilities[j]\n",
    "            if i % 2 == 0:\n",
    "                energy = energy + h_val * expectation_val * 3 # weighing with factor 3**locality to counteract the chance of hitting\n",
    "            else:\n",
    "                energy = energy + j_val * expectation_val * 3**2\n",
    "\n",
    "    energy = energy / pt.sum(probabilities).item()\n",
    "    return energy"
   ],
   "metadata": {
    "collapsed": false,
    "pycharm": {
     "name": "#%%\n"
    }
   }
  },
  {
   "cell_type": "code",
   "execution_count": 2,
   "outputs": [],
   "source": [
    "ratio_h_j = 0.1\n",
    "qubit_num = 6\n",
    "save_direc_groundstate = Path('data/Diagonal_hamiltonian/groundstate_dict.npy')\n",
    "ground_state_dict = np.load(save_direc_groundstate, allow_pickle='TRUE')\n",
    "ground_state_dict = ground_state_dict.item()\n",
    "ground_state = ground_state_dict[str(1)]['open'][str(qubit_num)][str(ratio_h_j)]\n",
    "mps = MPS.from_state_vector(qubit_num, ground_state)\n",
    "tensor_liste = mps.tensors"
   ],
   "metadata": {
    "collapsed": false,
    "pycharm": {
     "name": "#%%\n"
    }
   }
  },
  {
   "cell_type": "code",
   "execution_count": 3,
   "outputs": [
    {
     "name": "stdout",
     "output_type": "stream",
     "text": [
      "-5.020016662087988\n"
     ]
    }
   ],
   "source": [
    "save_direc_eigs = Path('data/Diagonal_hamiltonian/eigenvalues_first_three_dict.npy')\n",
    "energy_dict = np.load(save_direc_eigs, allow_pickle=True)\n",
    "energy_dict = energy_dict.item()\n",
    "energy_brute = energy_dict[str(1)]['open'][str(qubit_num)][str(ratio_h_j)][0]\n",
    "print(energy_brute)"
   ],
   "metadata": {
    "collapsed": false,
    "pycharm": {
     "name": "#%%\n"
    }
   }
  },
  {
   "cell_type": "code",
   "execution_count": 25,
   "outputs": [],
   "source": [
    "# now we have a method to keep only the unique indices, now we convert the measurements to the necessary shape for shadow prediction\n",
    "batches = 3\n",
    "num_of_measurements = np.array([10, 20, 50, 100, 200, 300, 500])\n",
    "num_of_measurements_per_rot = 20\n",
    "energies_different_meas_num = np.zeros((np.size(num_of_measurements), batches))\n",
    "for b in range(batches):\n",
    "    for i in range(np.size(num_of_measurements)):\n",
    "        meas_outcomes, meas_procedure, probs = generate_shadow_and_prob(tensor_liste, qubit_num, num_of_measurements[i], num_of_measurements_per_rot)\n",
    "        energies = np.zeros(len(meas_outcomes))\n",
    "        for n in range(len(meas_outcomes)):\n",
    "            # first get the unique elements of this torch tensor\n",
    "            unique_meas_outcomes, index_perm = np.unique(meas_outcomes[n].numpy(), return_index=True)\n",
    "            probs_sorted = probs[n][index_perm]\n",
    "            measurements = conversion_to_prediction_shadow_dict_shape([meas_procedure[n]]*len(unique_meas_outcomes), unique_meas_outcomes, qubit_num)\n",
    "            energies[n] = ising_energy_shadows(measurements, probs_sorted, qubit_num, 0.1)\n",
    "        energy = np.mean(energies)\n",
    "        energies_different_meas_num[i,b] = energy"
   ],
   "metadata": {
    "collapsed": false,
    "pycharm": {
     "name": "#%%\n"
    }
   }
  },
  {
   "cell_type": "code",
   "execution_count": 29,
   "outputs": [
    {
     "data": {
      "text/plain": "<Figure size 432x288 with 1 Axes>",
      "image/png": "[encoded data removed]"
     },
     "metadata": {
      "needs_background": "light"
     },
     "output_type": "display_data"
    }
   ],
   "source": [
    "rel_error = np.abs((energies_different_meas_num - energy_brute) / energy_brute)\n",
    "rel_error_mean = np.mean(rel_error, axis=1)\n",
    "rel_error_std = np.mean(rel_error, axis=1)\n",
    "plt.plot(num_of_measurements, rel_error_mean)\n",
    "plt.fill_between(num_of_measurements, rel_error_mean - rel_error_std, rel_error_mean + rel_error_std)\n",
    "plt.yscale('log')\n",
    "plt.xscale('log')"
   ],
   "metadata": {
    "collapsed": false,
    "pycharm": {
     "name": "#%%\n"
    }
   }
  },
  {
   "cell_type": "code",
   "execution_count": 11,
   "outputs": [],
   "source": [
    "# now we have a method to keep only the unique indices, now we convert the measurements to the necessary shape for shadow prediction\n",
    "batches = 10\n",
    "num_of_measurements = np.array([10, 20, 50, 100, 200, 300, 500])\n",
    "num_of_measurements_per_rot = 50\n",
    "energies_different_meas_num = np.zeros((np.size(num_of_measurements), batches))\n",
    "for b in range(batches):\n",
    "    for i in range(np.size(num_of_measurements)):\n",
    "        meas_outcomes, meas_procedure, probs = MPSQuantumState(qubit_num, tensor_liste).measurement_shadow(num_of_measurements[i], num_of_measurements_per_rot)\n",
    "        energies = np.zeros(len(meas_outcomes))\n",
    "        for n in range(len(meas_outcomes)):\n",
    "            # first get the unique elements of this torch tensor\n",
    "            unique_meas_outcomes, index_perm = np.unique(meas_outcomes[n].numpy(), return_index=True)\n",
    "            probs_sorted = probs[n][index_perm]\n",
    "            measurements = conversion_to_prediction_shadow_dict_shape([meas_procedure[n]]*len(unique_meas_outcomes), unique_meas_outcomes, qubit_num)\n",
    "            energies[n] = TfimHamiltonianOpenFermion(qubit_num, ratio_h_j, 1, 'open').energy_shadow_mps_modified(measurements, probs_sorted)\n",
    "        energy = np.mean(energies)\n",
    "        energies_different_meas_num[i,b] = energy"
   ],
   "metadata": {
    "collapsed": false,
    "pycharm": {
     "name": "#%%\n"
    }
   }
  },
  {
   "cell_type": "code",
   "execution_count": 13,
   "outputs": [
    {
     "data": {
      "text/plain": "<Figure size 432x288 with 1 Axes>",
      "image/png": "[encoded data removed]"
     },
     "metadata": {
      "needs_background": "light"
     },
     "output_type": "display_data"
    }
   ],
   "source": [
    "rel_error = np.abs((energies_different_meas_num - energy_brute) / energy_brute)\n",
    "rel_error_mean = np.mean(rel_error, axis=1)\n",
    "rel_error_std = np.mean(rel_error, axis=1)\n",
    "plt.plot(num_of_measurements, rel_error_mean)\n",
    "plt.fill_between(num_of_measurements, rel_error_mean - rel_error_std, rel_error_mean + rel_error_std, alpha=0.3)\n",
    "plt.yscale('log')\n",
    "plt.xscale('log')"
   ],
   "metadata": {
    "collapsed": false,
    "pycharm": {
     "name": "#%%\n"
    }
   }
  },
  {
   "cell_type": "code",
   "execution_count": null,
   "outputs": [],
   "source": [],
   "metadata": {
    "collapsed": false,
    "pycharm": {
     "name": "#%%\n"
    }
   }
  }
 ],
 "metadata": {
  "kernelspec": {
   "display_name": "Python 3",
   "language": "python",
   "name": "python3"
  },
  "language_info": {
   "codemirror_mode": {
    "name": "ipython",
    "version": 2
   },
   "file_extension": ".py",
   "mimetype": "text/x-python",
   "name": "python",
   "nbconvert_exporter": "python",
   "pygments_lexer": "ipython2",
   "version": "2.7.6"
  }
 },
 "nbformat": 4,
 "nbformat_minor": 0
}