{
 "cells": [
  {
   "cell_type": "code",
   "execution_count": 1,
   "metadata": {
    "collapsed": true
   },
   "outputs": [],
   "source": [
    "import numpy as np\n",
    "import torch as pt\n",
    "import matplotlib.pyplot as plt\n",
    "import sys"
   ]
  },
  {
   "cell_type": "code",
   "execution_count": 2,
   "outputs": [],
   "source": [
    "%load_ext autoreload\n",
    "%autoreload 1\n",
    "%aimport tfim_hamiltonian_open_fermion\n",
    "sys.path.append('..\\src')\n",
    "from tfim_hamiltonian_open_fermion import TfimHamiltonianOpenFermion\n",
    "%reload_ext autoreload"
   ],
   "metadata": {
    "collapsed": false,
    "pycharm": {
     "name": "#%%\n"
    }
   }
  },
  {
   "cell_type": "code",
   "execution_count": 3,
   "outputs": [],
   "source": [
    "def calculate_energy_gap(qubit_numbers: np.array):\n",
    "    ratios_h_j = np.array([0.01, 0.02, 0.05, 0.1, 0.2, 0.5, 1, 2, 5, 10, 20, 50, 100], dtype=float)\n",
    "    energy_gaps = pt.zeros(13)\n",
    "    for j in range(0, np.size(qubit_numbers)):\n",
    "        for i in range(0, 13):\n",
    "            energy_gaps[i] = TfimHamiltonianOpenFermion(qubit_numbers[j], ratios_h_j[i], 1, 'periodic').energygap()\n",
    "        save_direc: str = 'data\\energygap\\e_gap_qubit_num_' + str(qubit_numbers[j])\n",
    "        np.savetxt(save_direc, energy_gaps)"
   ],
   "metadata": {
    "collapsed": false,
    "pycharm": {
     "name": "#%%\n"
    }
   }
  },
  {
   "cell_type": "code",
   "execution_count": 4,
   "outputs": [],
   "source": [
    "\n",
    "def plot_energy_gap(qubit_numbers: np.array):\n",
    "    ratios_h_j = np.array([0.01, 0.02, 0.05, 0.1, 0.2, 0.5, 1, 2, 5, 10, 20, 50, 100], dtype=float)\n",
    "    for i in range(0, np.size(qubit_numbers)):\n",
    "        save_direc: str = 'data\\energygap\\e_gap_qubit_num_' + str(qubit_numbers[i])\n",
    "        energy_gaps = np.abs(np.loadtxt(save_direc))\n",
    "        plt.scatter(ratios_h_j, energy_gaps, label='qubit number ' + str(qubit_numbers[i]))\n",
    "        plt.xscale('log')\n",
    "        plt.yscale('log')\n",
    "        plt.title('energy gaps for different ratios h/J')\n",
    "        plt.xlabel('ratios h/J (J=1)')\n",
    "        plt.ylabel('energy gap in units of J')\n",
    "        plt.legend()\n",
    "    plot_save_direc = 'plots\\energy_gap_brute_force\\energy gaps for different ratios up to ratio 100 antiferro for qubits ' + str(\n",
    "        qubit_numbers)\n",
    "    plt.savefig(plot_save_direc)"
   ],
   "metadata": {
    "collapsed": false,
    "pycharm": {
     "name": "#%%\n"
    }
   }
  },
  {
   "cell_type": "code",
   "execution_count": 5,
   "outputs": [],
   "source": [
    "def calculate_theo_energy_gap(qubit_numbers: np.array):\n",
    "    ratios_h_j = np.array([0.01, 0.02, 0.05, 0.1, 0.2, 0.5, 1, 2, 5, 10, 20, 50, 100], dtype=float)\n",
    "    energy_gaps = pt.zeros(13)\n",
    "    for j in range(0, np.size(qubit_numbers)):\n",
    "        for i in range(0, 13):\n",
    "            energy_gaps[i] = TfimHamiltonianOpenFermion(qubit_numbers[j], ratios_h_j[i], 1, 'periodic').theoretical_energygap()\n",
    "        save_direc: str = 'data\\energygap\\e_gap_theo_qubit_num_' + str(qubit_numbers[j])\n",
    "        np.savetxt(save_direc, energy_gaps)\n"
   ],
   "metadata": {
    "collapsed": false,
    "pycharm": {
     "name": "#%%\n"
    }
   }
  },
  {
   "cell_type": "code",
   "execution_count": 6,
   "outputs": [],
   "source": [
    "def plot_energy_gap_brute_and_theo(qubit_numbers: np.array):\n",
    "    ratios_h_j = np.array([0.01, 0.02, 0.05, 0.1, 0.2, 0.5, 1, 2, 5, 10, 20, 50, 100], dtype=float)\n",
    "    for i in range(0, np.size(qubit_numbers)):\n",
    "        save_direc: str = 'data\\energygap\\e_gap_qubit_num_' + str(qubit_numbers[i])\n",
    "        energy_gaps = np.abs(np.loadtxt(save_direc))\n",
    "        plt.scatter(ratios_h_j, energy_gaps, label='brute, qubit number ' + str(qubit_numbers[i]))\n",
    "        save_direc: str = 'data\\energygap\\e_gap_theo_qubit_num_' + str(qubit_numbers[i])\n",
    "        energy_gaps = np.abs(np.loadtxt(save_direc))\n",
    "        plt.scatter(ratios_h_j, energy_gaps, label='theo, qubit number ' + str(qubit_numbers[i]))\n",
    "        plt.xscale('log')\n",
    "        plt.yscale('log')\n",
    "        plt.title('energy gaps for different ratios h/J')\n",
    "        plt.xlabel('ratios h/J (J=1)')\n",
    "        plt.ylabel('energy gap in units of J')\n",
    "        plt.legend()\n",
    "    plot_save_direc = 'plots\\energy_gap_brute_force\\energy gaps comparison theo and brute for qubits ' + str(\n",
    "        qubit_numbers)\n",
    "    plt.savefig(plot_save_direc)\n",
    "\n"
   ],
   "metadata": {
    "collapsed": false,
    "pycharm": {
     "name": "#%%\n"
    }
   }
  },
  {
   "cell_type": "code",
   "execution_count": 7,
   "outputs": [],
   "source": [
    "def calculate_theo_finite_size_energy_gap(qubit_numbers: np.array):\n",
    "    ratios_h_j = np.array([0.01, 0.02, 0.05, 0.1, 0.2, 0.5, 1, 2, 5, 10, 20, 50, 100], dtype=float)\n",
    "    energy_gaps = pt.zeros(13)\n",
    "    for j in range(0, np.size(qubit_numbers)):\n",
    "        for i in range(0, 13):\n",
    "            energy_gaps[i] = TfimHamiltonianOpenFermion(qubit_numbers[j], ratios_h_j[i], 1, 'periodic').theo_energygap_finite_size()\n",
    "        save_direc: str = 'data\\energygap\\e_gap_theo_finite_size_qubit_num_' + str(qubit_numbers[j])\n",
    "        np.savetxt(save_direc, energy_gaps)"
   ],
   "metadata": {
    "collapsed": false,
    "pycharm": {
     "name": "#%%\n"
    }
   }
  },
  {
   "cell_type": "code",
   "execution_count": 8,
   "outputs": [],
   "source": [
    "def plot_energy_gap_brute_and_theo_finite(qubit_numbers: np.array):\n",
    "    ratios_h_j = np.array([0.01, 0.02, 0.05, 0.1, 0.2, 0.5, 1, 2, 5, 10, 20, 50, 100], dtype=float)\n",
    "    for i in range(0, np.size(qubit_numbers)):\n",
    "        save_direc: str = 'data\\energygap\\e_gap_qubit_num_' + str(qubit_numbers[i])\n",
    "        energy_gaps = np.abs(np.loadtxt(save_direc))\n",
    "        plt.scatter(ratios_h_j, energy_gaps, label='brute, qubit number ' + str(qubit_numbers[i]))\n",
    "        save_direc: str = 'data\\energygap\\e_gap_theo_finite_size_qubit_num_' + str(qubit_numbers[i])\n",
    "        energy_gaps = np.abs(np.loadtxt(save_direc))\n",
    "        plt.scatter(ratios_h_j, energy_gaps, label='theo finite size, qubit number ' + str(qubit_numbers[i]))\n",
    "        plt.xscale('log')\n",
    "        plt.yscale('log')\n",
    "        plt.title('energy gaps for different ratios h/J')\n",
    "        plt.xlabel('ratios h/J (J=1)')\n",
    "        plt.ylabel('energy gap in units of J')\n",
    "        plt.legend()\n",
    "    plot_save_direc = 'plots\\energy_gap_brute_force\\energy gaps comparison theo finite and brute for qubits ' + str(\n",
    "        qubit_numbers)\n",
    "    plt.savefig(plot_save_direc)"
   ],
   "metadata": {
    "collapsed": false,
    "pycharm": {
     "name": "#%%\n"
    }
   }
  },
  {
   "cell_type": "code",
   "execution_count": 8,
   "outputs": [],
   "source": [],
   "metadata": {
    "collapsed": false,
    "pycharm": {
     "name": "#%%\n"
    }
   }
  },
  {
   "cell_type": "code",
   "execution_count": 8,
   "outputs": [],
   "source": [],
   "metadata": {
    "collapsed": false,
    "pycharm": {
     "name": "#%%\n"
    }
   }
  },
  {
   "cell_type": "code",
   "execution_count": 9,
   "outputs": [],
   "source": [
    "def calculate_theo_finite_size_energy_gap_periodic(qubit_numbers: np.array):\n",
    "    ratios_h_j = np.array([0.01, 0.02, 0.05, 0.1, 0.2, 0.5, 1, 2, 5, 10, 20, 50, 100], dtype=float)\n",
    "    energy_gaps = pt.zeros(13)\n",
    "    for j in range(0, np.size(qubit_numbers)):\n",
    "        for i in range(0, 13):\n",
    "            energy_gaps[i] = TfimHamiltonianOpenFermion(qubit_numbers[j], ratios_h_j[i], 1, 'periodic').theo_energygap_finite_size()\n",
    "        save_direc: str = 'data\\energygap\\e_gap_theo_finite_size_periodic_qubit_num_' + str(qubit_numbers[j])\n",
    "        np.savetxt(save_direc, energy_gaps)\n"
   ],
   "metadata": {
    "collapsed": false,
    "pycharm": {
     "name": "#%%\n"
    }
   }
  },
  {
   "cell_type": "code",
   "execution_count": 10,
   "outputs": [],
   "source": [
    "def plot_energy_gap_brute_and_theo_finite_periodic(qubit_numbers: np.array):\n",
    "    ratios_h_j = np.array([0.01, 0.02, 0.05, 0.1, 0.2, 0.5, 1, 2, 5, 10, 20, 50, 100], dtype=float)\n",
    "    for i in range(0, np.size(qubit_numbers)):\n",
    "        save_direc: str = 'data\\energygap\\e_gap_qubit_num_' + str(qubit_numbers[i])\n",
    "        energy_gaps = np.abs(np.loadtxt(save_direc))\n",
    "        plt.scatter(ratios_h_j, energy_gaps, label='brute, qubit number ' + str(qubit_numbers[i]))\n",
    "        save_direc: str = 'data\\energygap\\e_gap_theo_finite_size_periodic_qubit_num_' + str(qubit_numbers[i])\n",
    "        energy_gaps = np.abs(np.loadtxt(save_direc))\n",
    "        plt.scatter(ratios_h_j, energy_gaps, label='theo finite size, qubit number ' + str(qubit_numbers[i]))\n",
    "        plt.xscale('log')\n",
    "        plt.yscale('log')\n",
    "        plt.title('energy gaps for different ratios h/J')\n",
    "        plt.xlabel('ratios h/J (J=1)')\n",
    "        plt.ylabel('energy gap in units of J')\n",
    "        plt.legend()\n",
    "    plot_save_direc = 'plots\\energy_gap_brute_force\\energy gaps comparison theo finite periodic and brute for qubits ' + str(\n",
    "        qubit_numbers)\n",
    "    plt.savefig(plot_save_direc)"
   ],
   "metadata": {
    "collapsed": false,
    "pycharm": {
     "name": "#%%\n"
    }
   }
  },
  {
   "cell_type": "code",
   "execution_count": 11,
   "outputs": [],
   "source": [
    "calculate_energy_gap([12])\n",
    "calculate_theo_finite_size_energy_gap_periodic([12])"
   ],
   "metadata": {
    "collapsed": false,
    "pycharm": {
     "name": "#%%\n"
    }
   }
  },
  {
   "cell_type": "code",
   "execution_count": 12,
   "outputs": [
    {
     "data": {
      "text/plain": "<Figure size 432x288 with 1 Axes>",
      "image/png": "[encoded data removed]"
     },
     "metadata": {
      "needs_background": "light"
     },
     "output_type": "display_data"
    }
   ],
   "source": [
    "plot_energy_gap_brute_and_theo_finite_periodic([12])"
   ],
   "metadata": {
    "collapsed": false,
    "pycharm": {
     "name": "#%%\n"
    }
   }
  },
  {
   "cell_type": "code",
   "execution_count": 12,
   "outputs": [],
   "source": [],
   "metadata": {
    "collapsed": false,
    "pycharm": {
     "name": "#%%\n"
    }
   }
  },
  {
   "cell_type": "code",
   "execution_count": null,
   "outputs": [],
   "source": [],
   "metadata": {
    "collapsed": false,
    "pycharm": {
     "name": "#%%\n"
    }
   }
  }
 ],
 "metadata": {
  "kernelspec": {
   "display_name": "Python 3",
   "language": "python",
   "name": "python3"
  },
  "language_info": {
   "codemirror_mode": {
    "name": "ipython",
    "version": 2
   },
   "file_extension": ".py",
   "mimetype": "text/x-python",
   "name": "python",
   "nbconvert_exporter": "python",
   "pygments_lexer": "ipython2",
   "version": "2.7.6"
  }
 },
 "nbformat": 4,
 "nbformat_minor": 0
}