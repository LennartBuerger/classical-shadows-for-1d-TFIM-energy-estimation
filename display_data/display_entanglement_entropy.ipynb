{
 "cells": [
  {
   "cell_type": "code",
   "execution_count": 1,
   "metadata": {
    "collapsed": true
   },
   "outputs": [],
   "source": [
    "import numpy as np\n",
    "import matplotlib.pyplot as plt\n",
    "import sys"
   ]
  },
  {
   "cell_type": "code",
   "execution_count": 2,
   "outputs": [],
   "source": [
    "sys.path.append('..\\src')\n",
    "from bf_quantum_state import BFQuantumState\n",
    "from tfim_hamiltonian_open_fermion import TfimHamiltonianOpenFermion"
   ],
   "metadata": {
    "collapsed": false,
    "pycharm": {
     "name": "#%%\n"
    }
   }
  },
  {
   "cell_type": "code",
   "execution_count": 3,
   "outputs": [],
   "source": [
    "# calculate entanglement entropy for different ratios h/J\n",
    "\n",
    "def calc_entanglement_entropy(qubit_num: int):\n",
    "    ratios = np.array([0.01, 0.02, 0.05, 0.1, 0.2, 0.5, 1, 2, 5, 10, 20, 50, 100])\n",
    "    entropies = np.zeros(np.size(ratios))\n",
    "    for j in range(0, np.size(ratios)):\n",
    "        ground_state = TfimHamiltonianOpenFermion(qubit_num, ratios[j], 1, 'open').ground_state_wavevector()\n",
    "        entropies[j] = BFQuantumState(qubit_num, ground_state).entanglement_entropy()\n",
    "    save_direc = 'data\\Entanglement_entropy_brute_force\\entropies_for qubit number ' + str(qubit_num)\n",
    "    np.savetxt(save_direc, entropies)"
   ],
   "metadata": {
    "collapsed": false,
    "pycharm": {
     "name": "#%%\n"
    }
   }
  },
  {
   "cell_type": "code",
   "execution_count": 4,
   "outputs": [],
   "source": [
    "def plot_entanglement_entropy(qubit_num: int):\n",
    "    ratios = np.array([0.01, 0.02, 0.05, 0.1, 0.2, 0.5, 1, 2, 5, 10, 20, 50, 100])\n",
    "    save_direc = 'data\\Entanglement_entropy_brute_force\\entropies_for qubit number ' + str(qubit_num)\n",
    "    entropies = np.loadtxt(save_direc)\n",
    "    plt.scatter(ratios, entropies)\n",
    "    plt.xscale('log')\n",
    "    plt.yscale('log')\n",
    "    plt.title('entanglement entropy for different ratios h/J for ' + str(qubit_num) + ' qubits')\n",
    "    plt.xlabel('ratio h/J')\n",
    "    plt.ylabel('entanglement entropy')\n",
    "    plot_save_direc = 'plots\\Entanglement_entropy_brute_force\\entropies_for qubit number ' + str(qubit_num)\n",
    "    plt.savefig(plot_save_direc)"
   ],
   "metadata": {
    "collapsed": false,
    "pycharm": {
     "name": "#%%\n"
    }
   }
  },
  {
   "cell_type": "code",
   "execution_count": 5,
   "outputs": [],
   "source": [
    "calc_entanglement_entropy(16)"
   ],
   "metadata": {
    "collapsed": false,
    "pycharm": {
     "name": "#%%\n"
    }
   }
  },
  {
   "cell_type": "code",
   "execution_count": 6,
   "outputs": [
    {
     "data": {
      "text/plain": "<Figure size 432x288 with 1 Axes>",
      "image/png": "[encoded data removed]"
     },
     "metadata": {
      "needs_background": "light"
     },
     "output_type": "display_data"
    }
   ],
   "source": [
    "plot_entanglement_entropy(16)"
   ],
   "metadata": {
    "collapsed": false,
    "pycharm": {
     "name": "#%%\n"
    }
   }
  },
  {
   "cell_type": "code",
   "execution_count": null,
   "outputs": [],
   "source": [],
   "metadata": {
    "collapsed": false,
    "pycharm": {
     "name": "#%%\n"
    }
   }
  }
 ],
 "metadata": {
  "kernelspec": {
   "display_name": "Python 3",
   "language": "python",
   "name": "python3"
  },
  "language_info": {
   "codemirror_mode": {
    "name": "ipython",
    "version": 2
   },
   "file_extension": ".py",
   "mimetype": "text/x-python",
   "name": "python",
   "nbconvert_exporter": "python",
   "pygments_lexer": "ipython2",
   "version": "2.7.6"
  }
 },
 "nbformat": 4,
 "nbformat_minor": 0
}