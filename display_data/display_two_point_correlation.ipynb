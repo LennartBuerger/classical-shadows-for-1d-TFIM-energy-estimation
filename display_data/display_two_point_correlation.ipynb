{
 "cells": [
  {
   "cell_type": "code",
   "execution_count": 1,
   "metadata": {
    "collapsed": true
   },
   "outputs": [],
   "source": [
    "import numpy as np\n",
    "import matplotlib.pyplot as plt\n",
    "import sys"
   ]
  },
  {
   "cell_type": "code",
   "execution_count": 2,
   "outputs": [],
   "source": [
    "sys.path.append('..\\src')\n",
    "from bf_quantum_state import BFQuantumState\n",
    "from tfim_hamiltonian_open_fermion import TfimHamiltonianOpenFermion"
   ],
   "metadata": {
    "collapsed": false,
    "pycharm": {
     "name": "#%%\n"
    }
   }
  },
  {
   "cell_type": "code",
   "execution_count": 3,
   "outputs": [],
   "source": [
    "# calculate two point correlation for different distances and ratios h/J\n",
    "\n",
    "def calc_two_point_correlation(ratios: np.array, qubit_num: int):\n",
    "    distance = np.arange(0, qubit_num, 1)\n",
    "    correlations = np.zeros(qubit_num)\n",
    "    for j in range(0, np.size(ratios)):\n",
    "        for i in range(0, qubit_num):\n",
    "            ground_state = TfimHamiltonianOpenFermion(qubit_num, ratios[j], 1, 'open').ground_state_wavevector()\n",
    "            correlations[i] = BFQuantumState(qubit_num, ground_state).two_point_correlation(\n",
    "                distance[i])\n",
    "        save_direc = 'data\\Twopointcorrelation\\correlation_for_ratio ' + str(ratios[j]).replace('.',\n",
    "                                                                                                ',') + ' and qubit number ' + str(\n",
    "            qubit_num)\n",
    "        np.savetxt(save_direc, correlations)"
   ],
   "metadata": {
    "collapsed": false,
    "pycharm": {
     "name": "#%%\n"
    }
   }
  },
  {
   "cell_type": "code",
   "execution_count": 4,
   "outputs": [],
   "source": [
    "def plot_two_point_correlation(ratios: np.array, qubit_num: int):\n",
    "    for i in range(0, np.size(ratios)):\n",
    "        save_direc = 'data\\Twopointcorrelation\\correlation_for_ratio ' + str(ratios[i]).replace('.',\n",
    "                                                                                                ',') + ' and qubit number ' + str(\n",
    "            qubit_num)\n",
    "        correlations = np.loadtxt(save_direc)\n",
    "        distance = np.arange(0, qubit_num, 1)\n",
    "        plt.scatter(distance, np.abs(correlations), label='ratio h/J = ' + str(ratios[i]))\n",
    "        plt.yscale('log')\n",
    "        plt.title('two point correlation for different distances and ratios')\n",
    "        plt.xlabel('distance, j-th neighbour')\n",
    "        plt.ylabel('two_point_correlation')\n",
    "        plt.legend()\n",
    "    plot_save_direc = 'plots\\Two_point_correlation_brute_force\\correlation_for_ratio ' + str(ratios).replace('.',\n",
    "                                                                                                             ',') + ' and qubit number ' + str(\n",
    "        qubit_num)\n",
    "    plt.savefig(plot_save_direc)"
   ],
   "metadata": {
    "collapsed": false,
    "pycharm": {
     "name": "#%%\n"
    }
   }
  },
  {
   "cell_type": "code",
   "execution_count": 5,
   "outputs": [
    {
     "data": {
      "text/plain": "<Figure size 432x288 with 1 Axes>",
      "image/png": "[encoded data removed]"
     },
     "metadata": {
      "needs_background": "light"
     },
     "output_type": "display_data"
    }
   ],
   "source": [
    "calc_two_point_correlation([0.2, 1, 5], 14)\n",
    "plot_two_point_correlation([0.2, 1, 5], 14)"
   ],
   "metadata": {
    "collapsed": false,
    "pycharm": {
     "name": "#%%\n"
    }
   }
  },
  {
   "cell_type": "code",
   "execution_count": 5,
   "outputs": [],
   "source": [],
   "metadata": {
    "collapsed": false,
    "pycharm": {
     "name": "#%%\n"
    }
   }
  },
  {
   "cell_type": "code",
   "execution_count": null,
   "outputs": [],
   "source": [],
   "metadata": {
    "collapsed": false,
    "pycharm": {
     "name": "#%%\n"
    }
   }
  },
  {
   "cell_type": "code",
   "execution_count": null,
   "outputs": [],
   "source": [],
   "metadata": {
    "collapsed": false,
    "pycharm": {
     "name": "#%%\n"
    }
   }
  }
 ],
 "metadata": {
  "kernelspec": {
   "display_name": "Python 3",
   "language": "python",
   "name": "python3"
  },
  "language_info": {
   "codemirror_mode": {
    "name": "ipython",
    "version": 2
   },
   "file_extension": ".py",
   "mimetype": "text/x-python",
   "name": "python",
   "nbconvert_exporter": "python",
   "pygments_lexer": "ipython2",
   "version": "2.7.6"
  }
 },
 "nbformat": 4,
 "nbformat_minor": 0
}