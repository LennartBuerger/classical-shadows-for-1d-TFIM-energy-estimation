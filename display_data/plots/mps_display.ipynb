{
 "cells": [
  {
   "cell_type": "code",
   "execution_count": 1,
   "metadata": {
    "collapsed": true
   },
   "outputs": [],
   "source": [
    "import sys\n",
    "import numpy as np\n",
    "import torch as pt\n",
    "import matplotlib.pyplot as plt\n",
    "import sys\n",
    "from pathlib import Path\n",
    "sys.path.append(Path('../deterministic'))\n",
    "from deterministic.mps import MPS"
   ]
  },
  {
   "cell_type": "code",
   "execution_count": 2,
   "outputs": [
    {
     "name": "stdout",
     "output_type": "stream",
     "text": [
      "MPS None:\n",
      "\tvisible_num = 10\n",
      "\tphys_dims = [2, 2, 2, 2, 2, 2, 2, 2, 2, 2]\n",
      "\tbond_dims = [2, 4, 8, 16, 32, 16, 8, 4, 2]\n",
      "\text_bond_dims = [1, 2, 4, 8, 16, 32, 16, 8, 4, 2, 1]\n",
      "\torth_idx = None\n",
      "\n"
     ]
    }
   ],
   "source": [
    "qubit_num = 10\n",
    "psi = pt.rand(2**qubit_num, dtype=pt.cdouble)\n",
    "mps = MPS.from_state_vector(qubit_num, psi)\n",
    "print(mps)"
   ],
   "metadata": {
    "collapsed": false,
    "pycharm": {
     "name": "#%%\n"
    }
   }
  },
  {
   "cell_type": "code",
   "execution_count": 33,
   "outputs": [],
   "source": [
    "#generate a random tensor list\n",
    "qubit_num = 10\n",
    "bond_dim = 50\n",
    "tensor_liste = [pt.rand([1, 2, bond_dim], dtype=pt.cdouble)]\n",
    "for idx in range(qubit_num - 2):\n",
    "    tensor_liste.append(pt.rand([bond_dim, 2, bond_dim], dtype=pt.cdouble))\n",
    "tensor_liste.append(pt.rand([bond_dim, 2, 1], dtype=pt.cdouble))"
   ],
   "metadata": {
    "collapsed": false,
    "pycharm": {
     "name": "#%%\n"
    }
   }
  },
  {
   "cell_type": "code",
   "execution_count": 12,
   "outputs": [
    {
     "name": "stdout",
     "output_type": "stream",
     "text": [
      "tensor([[5.5081e+11+1.5233e-05j]], dtype=torch.complex128)\n"
     ]
    }
   ],
   "source": [
    "#compute the norm of the tensor network\n",
    "def norm(qubit_num, tensor_list):\n",
    "    result = pt.einsum('abc,abj->cj', tensor_list[0], tensor_list[0].conj())\n",
    "    for idx in range(1, qubit_num-1):\n",
    "        result = pt.einsum('cj,cab->jab', result, tensor_list[idx])\n",
    "        result = pt.einsum('jab,jad->bd', result, tensor_list[idx].conj())\n",
    "    result = pt.einsum('ab,acj->bcj', result, tensor_list[qubit_num - 1])\n",
    "    result = pt.einsum('bcj,bci->ji', result, tensor_list[qubit_num - 1].conj())\n",
    "    return pt.sqrt(result)\n",
    "\n",
    "print(norm(qubit_num=10, tensor_list=tensor_liste))"
   ],
   "metadata": {
    "collapsed": false,
    "pycharm": {
     "name": "#%%\n"
    }
   }
  },
  {
   "cell_type": "code",
   "execution_count": 20,
   "outputs": [
    {
     "name": "stdout",
     "output_type": "stream",
     "text": [
      "tensor(1.8514e+15+0.0196j, dtype=torch.complex128)\n"
     ]
    }
   ],
   "source": [
    "mps = MPS.from_tensor_list(tensor_liste)\n",
    "print(mps.norm())\n",
    "# -> the result is the same as it should be"
   ],
   "metadata": {
    "collapsed": false,
    "pycharm": {
     "name": "#%%\n"
    }
   }
  },
  {
   "cell_type": "code",
   "execution_count": 15,
   "outputs": [
    {
     "name": "stdout",
     "output_type": "stream",
     "text": [
      "tensor([[25.9219+0.j]], dtype=torch.complex128)\n"
     ]
    }
   ],
   "source": [
    "print(norm(10, mps.tensors))"
   ],
   "metadata": {
    "collapsed": false,
    "pycharm": {
     "name": "#%%\n"
    }
   }
  },
  {
   "cell_type": "code",
   "source": [
    "#make tensor specified by idx center of orthogonality\n",
    "def canonicalise(tensor_list, idx, D):\n",
    "    #from the left\n",
    "    for index in range(0, idx):\n",
    "        bond_dim_left = tensor_list[index][:,0,0].size()[0]\n",
    "        bond_dim_right = tensor_list[index][0,0,:].size()[0]\n",
    "        Qm, R = pt.linalg.qr(tensor_list[index].reshape(bond_dim_left*D, bond_dim_right))\n",
    "        tensor_list[index] = pt.reshape(Qm, (bond_dim_left, D, Qm.size()[1]))\n",
    "        tensor_list[index + 1] = pt.einsum('ab,bcd->acd', R, tensor_list[index + 1])\n",
    "    for index in range(idx, len(tensor_list) - 1):\n",
    "        index = len(tensor_list) - 1 - index + idx #because we want to start from the right\n",
    "        bond_dim_left = tensor_list[index][:,0,0].size()[0]\n",
    "        bond_dim_right = tensor_list[index][0,0,:].size()[0]\n",
    "        Qm_t, R_t = pt.linalg.qr(pt.t(tensor_list[index].reshape(bond_dim_left, bond_dim_right * D)))\n",
    "        Qm = pt.t(Qm_t)\n",
    "        R = pt.t(R_t)\n",
    "        tensor_list[index] = pt.reshape(Qm, (Qm_t.size()[1], D, bond_dim_right))\n",
    "        tensor_list[index - 1] = pt.einsum('abc,cd->abd', tensor_list[index - 1], R)\n",
    "    return tensor_list\n",
    "\n",
    "print(canonicalise(tensor_list=tensor_liste, idx=9, D=2)[9])\n"
   ],
   "metadata": {
    "collapsed": false,
    "pycharm": {
     "name": "#%%\n"
    }
   },
   "execution_count": 9,
   "outputs": [
    {
     "name": "stdout",
     "output_type": "stream",
     "text": [
      "tensor([[[-2.0688e+11-3.3123e+11j],\n",
      "         [-2.0574e+11-3.2946e+11j]],\n",
      "\n",
      "        [[-2.9711e+08+2.2473e+08j],\n",
      "         [ 7.4502e+08+4.2499e+07j]]], dtype=torch.complex128)\n"
     ]
    }
   ]
  },
  {
   "cell_type": "code",
   "execution_count": 4,
   "outputs": [
    {
     "name": "stdout",
     "output_type": "stream",
     "text": [
      "tensor([[[-3.0085e+11-2.4327e+11j, -3.3487e+10-2.9247e+09j,\n",
      "          -6.5950e+08-1.2530e+09j,  1.9708e+09+1.0906e+09j,\n",
      "          -2.6423e+07+2.1143e+07j,  8.3433e+07-2.0961e+07j,\n",
      "           1.2839e+08+1.1389e+08j,  8.8659e+07-4.8502e+07j,\n",
      "           1.9467e+07+2.3594e+07j,  2.5051e+06+1.0982e+07j,\n",
      "          -4.0571e+06-3.7729e+06j, -5.4570e+06-7.0777e+05j,\n",
      "          -1.0321e+06-1.8127e+06j,  4.3316e+06+3.3779e+06j,\n",
      "           7.4226e+05+1.5740e+06j, -1.9353e+06+3.5798e+05j,\n",
      "          -5.4905e+05+5.8711e+05j, -3.2113e+05-1.3669e+06j,\n",
      "           7.9470e+05-8.7552e+04j, -5.9936e+05-4.6451e+05j],\n",
      "         [-3.0151e+11-2.4288e+11j, -3.2174e+10-3.6360e+09j,\n",
      "          -8.0982e+08-1.2474e+09j,  2.0758e+09+8.6161e+08j,\n",
      "          -2.8286e+07+3.5752e+07j,  8.3377e+07-1.6083e+07j,\n",
      "           1.3681e+08+1.1572e+08j,  8.8719e+07-5.2464e+07j,\n",
      "           1.9488e+07+2.3712e+07j,  3.0042e+06+1.0983e+07j,\n",
      "          -4.7016e+06-4.1124e+06j, -4.1050e+06-9.1517e+05j,\n",
      "          -5.2864e+05-1.7988e+06j,  4.3521e+06+3.7819e+06j,\n",
      "           1.0753e+06+1.3277e+06j, -2.3509e+06-2.0106e+05j,\n",
      "          -6.2932e+05+2.5496e+05j, -1.2153e+05-1.4009e+06j,\n",
      "           7.5311e+05+7.6526e+04j, -4.8644e+05-3.8474e+05j]],\n",
      "\n",
      "        [[ 2.2156e+10+1.5626e+10j,  2.3110e+09-1.2998e+08j,\n",
      "           6.5875e+07+9.8010e+07j, -1.6997e+08-6.6452e+07j,\n",
      "           2.1765e+06-2.2448e+06j, -5.9906e+06+2.2521e+06j,\n",
      "          -8.4766e+06-6.4782e+06j, -5.6688e+06+3.9314e+06j,\n",
      "          -1.6827e+06-1.5740e+06j, -2.4343e+05-8.0001e+05j,\n",
      "           1.9410e+05+1.6883e+05j,  3.2208e+05+3.4247e+03j,\n",
      "           1.1055e+05+1.5682e+05j, -3.3797e+05-1.8156e+05j,\n",
      "          -4.5476e+04-1.4469e+05j,  1.3054e+05-3.7067e+04j,\n",
      "           4.3856e+04-2.4701e+04j,  3.1413e+04+7.7701e+04j,\n",
      "          -4.3555e+04+6.0809e+03j,  4.6517e+04+2.2923e+04j],\n",
      "         [ 2.3905e+10+1.6206e+10j,  2.2904e+09+7.4058e+07j,\n",
      "           8.3643e+07+7.9151e+07j, -1.6736e+08-2.3744e+07j,\n",
      "           1.0625e+06-3.6169e+06j, -5.5194e+06+1.4736e+06j,\n",
      "          -1.0502e+07-7.5135e+06j, -5.8197e+06+4.2579e+06j,\n",
      "          -1.5540e+06-1.5203e+06j, -3.5783e+05-7.3708e+05j,\n",
      "           4.1116e+05+2.9863e+05j,  2.8834e+05+8.8088e+04j,\n",
      "           1.8103e+04+7.8898e+04j, -3.0292e+05-2.5544e+05j,\n",
      "          -8.7094e+04-1.0346e+05j,  1.3323e+05-1.6484e+04j,\n",
      "           5.3231e+04+5.7142e+03j,  1.3660e+04+5.9367e+04j,\n",
      "          -3.8925e+04-1.2076e+04j,  4.0062e+04+1.2987e+04j]],\n",
      "\n",
      "        [[ 9.5304e+08+6.4225e+08j,  8.3323e+07-2.0129e+07j,\n",
      "           5.4368e+06+4.3821e+06j, -9.8305e+06-1.4501e+06j,\n",
      "           6.3663e+04-2.8541e+05j, -2.4490e+05+9.4815e+04j,\n",
      "          -1.1989e+05-2.5559e+05j, -1.2764e+05+1.3671e+05j,\n",
      "          -9.4026e+04-3.2235e+04j, -1.5711e+04-2.2258e+04j,\n",
      "          -5.2169e+03-4.3630e+03j,  5.7608e+03+2.1885e+03j,\n",
      "           1.6843e+04+1.0635e+04j, -1.4686e+04-4.1382e+03j,\n",
      "           9.4633e+02-1.0706e+04j,  7.7671e+03-2.6309e+03j,\n",
      "           3.1281e+03-8.5034e+02j,  1.5981e+03+3.1213e+03j,\n",
      "          -1.5009e+03-3.0173e+02j,  2.2184e+03+1.9065e+02j],\n",
      "         [ 1.2853e+09+6.5024e+08j,  1.1006e+08-1.7572e+07j,\n",
      "           5.8878e+06+1.8376e+06j, -8.0982e+06+9.1328e+05j,\n",
      "          -1.7716e+05-3.4619e+05j, -2.7637e+05+4.6924e+04j,\n",
      "          -4.8142e+05-3.0571e+05j, -2.6966e+05+2.6090e+05j,\n",
      "          -8.2954e+04-5.8579e+04j, -2.5821e+04-2.5817e+04j,\n",
      "           2.7103e+04+2.0977e+03j,  2.0648e+04+5.8321e+03j,\n",
      "          -1.2043e+03+7.5862e+03j, -1.4785e+04-1.0634e+04j,\n",
      "          -1.9386e+03-4.7970e+03j,  5.6219e+03-3.2243e+03j,\n",
      "           4.5016e+03+1.2768e+03j, -6.4082e+01+7.0385e+02j,\n",
      "          -1.4891e+03-1.6527e+03j,  9.0109e+02-4.1518e+02j]],\n",
      "\n",
      "        [[-1.1975e+09-9.6501e+08j, -1.2999e+08-7.5528e+06j,\n",
      "          -2.7909e+06-5.2220e+06j,  8.3194e+06+3.8317e+06j,\n",
      "          -1.4386e+05+6.6658e+04j,  3.2284e+05-1.0774e+05j,\n",
      "           4.6913e+05+4.2822e+05j,  3.4522e+05-2.2348e+05j,\n",
      "           9.7718e+04+9.6634e+04j,  1.5717e+04+4.5996e+04j,\n",
      "          -9.3667e+03-1.3670e+04j, -2.1759e+04-2.6134e+03j,\n",
      "          -7.0491e+03-1.0303e+04j,  1.7712e+04+9.7317e+03j,\n",
      "           3.0689e+03+6.8971e+03j, -9.3892e+03+1.1795e+03j,\n",
      "          -3.9740e+03+1.3837e+03j, -7.5875e+02-4.7277e+03j,\n",
      "           3.0740e+03+5.3552e+02j, -1.7475e+03-1.6034e+03j],\n",
      "         [-1.1323e+09-9.7220e+08j, -1.2231e+08-2.0456e+07j,\n",
      "          -3.5635e+06-4.4962e+06j,  7.8314e+06+2.7723e+06j,\n",
      "          -3.1901e+04+2.1861e+05j,  3.1428e+05-4.1085e+04j,\n",
      "           4.7702e+05+5.0767e+05j,  3.6832e+05-1.5229e+05j,\n",
      "           5.7173e+04+9.1025e+04j,  1.1836e+04+3.6612e+04j,\n",
      "          -2.1533e+04-1.3162e+04j, -1.8187e+04-7.9015e+03j,\n",
      "           1.2614e+02-5.6437e+03j,  1.5794e+04+1.5819e+04j,\n",
      "           4.0044e+03+6.2892e+03j, -7.4886e+03-1.0979e+03j,\n",
      "          -3.2471e+03-5.2039e+02j,  1.3219e+02-3.8203e+03j,\n",
      "           2.4581e+03+1.1777e+03j, -1.6013e+03-5.6775e+02j]],\n",
      "\n",
      "        [[-1.2641e+09-1.2505e+09j, -1.4133e+08-2.5860e+07j,\n",
      "          -3.5103e+06-5.2887e+06j,  8.9125e+06+5.0550e+06j,\n",
      "          -9.4173e+04+1.3925e+05j,  3.9285e+05-4.1709e+04j,\n",
      "           4.9084e+05+6.1491e+05j,  4.2730e+05-1.9797e+05j,\n",
      "           7.4841e+04+1.1205e+05j,  8.6785e+03+5.0679e+04j,\n",
      "          -1.7394e+04-1.8614e+04j, -2.6480e+04-5.0510e+03j,\n",
      "          -2.1182e+03-8.8496e+03j,  1.9534e+04+1.9359e+04j,\n",
      "           4.8244e+03+9.6622e+03j, -7.8170e+03+7.0554e+02j,\n",
      "          -4.2360e+03+2.3726e+03j, -1.8536e+02-6.1816e+03j,\n",
      "           3.7533e+03+7.7312e+02j, -2.6073e+03-2.0801e+03j],\n",
      "         [-1.3901e+09-1.2408e+09j, -1.5515e+08-3.2198e+07j,\n",
      "          -3.6649e+06-5.0688e+06j,  7.6098e+06+3.2402e+06j,\n",
      "          -8.8732e+04+1.8912e+05j,  4.1593e+05-1.4784e+04j,\n",
      "           5.8486e+05+5.4658e+05j,  4.0582e+05-1.7947e+05j,\n",
      "           8.2294e+04+1.0455e+05j,  1.4081e+04+4.9929e+04j,\n",
      "          -2.8321e+04-2.4467e+04j, -1.8637e+04-1.0323e+04j,\n",
      "           3.2036e+03-1.1186e+04j,  1.9496e+04+2.2532e+04j,\n",
      "           4.0765e+03+5.3650e+03j, -1.1371e+04-4.2051e+03j,\n",
      "          -4.6893e+03+3.2001e+02j,  2.3133e+03-6.3004e+03j,\n",
      "           3.6220e+03+1.9929e+03j, -1.8182e+03-1.1936e+03j]],\n",
      "\n",
      "        [[-1.5814e+08-7.3601e+08j, -4.6584e+07-4.5243e+07j,\n",
      "           3.7295e+04-2.3940e+06j,  1.6966e+06+3.7523e+06j,\n",
      "          -3.1707e+04+3.3929e+04j,  1.3680e+05+9.2997e+04j,\n",
      "           3.0389e+04+3.8218e+05j,  1.8748e+05+5.9701e+04j,\n",
      "          -4.5095e+03+4.6238e+04j, -1.2896e+04+1.8605e+04j,\n",
      "           9.3636e+02-1.4021e+04j, -7.2801e+03-8.9294e+03j,\n",
      "          -1.4640e+03-6.7215e+02j,  5.6450e+02+1.1126e+04j,\n",
      "          -4.0244e+02+4.8035e+03j, -3.1008e+03-1.0490e+03j,\n",
      "          -1.5396e+03+1.1115e+03j,  1.0195e+03-2.4835e+03j,\n",
      "           1.1979e+03+7.7165e+02j, -6.0212e+02-1.4667e+03j],\n",
      "         [-2.0572e+08-7.9926e+08j, -5.1305e+07-4.8212e+07j,\n",
      "           1.9499e+05-2.9007e+06j,  2.5102e+06+4.1562e+06j,\n",
      "          -9.5488e+04+3.9018e+04j,  1.6845e+05+9.1483e+04j,\n",
      "           1.1077e+05+3.9556e+05j,  2.1368e+05+1.1786e+03j,\n",
      "           9.9964e+03+6.6153e+04j, -1.3645e+04+2.1342e+04j,\n",
      "          -7.3287e+02-1.3420e+04j, -5.4618e+03-3.7096e+03j,\n",
      "           1.3328e+03-4.4431e+03j,  1.6908e+03+1.2488e+04j,\n",
      "           5.2992e+02+2.8976e+03j, -3.3070e+03-4.6092e+03j,\n",
      "          -1.7915e+03+1.5745e+02j,  2.2479e+03-2.8916e+03j,\n",
      "           1.5250e+03+9.4213e+02j, -5.3328e+02-1.7685e+03j]],\n",
      "\n",
      "        [[ 3.8003e+08-2.8417e+08j,  1.4635e+07-3.7611e+07j,\n",
      "           1.5350e+06-3.3514e+05j, -1.8191e+06+2.3380e+06j,\n",
      "          -2.9326e+03-2.9949e+04j, -3.2779e+02+9.9294e+04j,\n",
      "          -1.9961e+05+1.2153e+05j,  2.7085e+04+1.1244e+05j,\n",
      "          -3.2918e+04+1.5452e+04j, -1.1443e+04-6.6954e+02j,\n",
      "           4.4557e+03-8.8531e+02j,  1.7912e+03-6.5862e+03j,\n",
      "           2.6013e+03-3.4798e+03j, -4.2624e+03+4.8693e+03j,\n",
      "          -2.9106e+03-1.2912e+02j, -5.5569e+02-3.3329e+03j,\n",
      "          -8.9954e+01-9.2141e+02j,  1.5642e+03-4.8490e+02j,\n",
      "          -1.1769e+02+8.2335e+02j,  6.0892e+02-4.8457e+02j],\n",
      "         [ 3.9196e+08-3.2717e+08j,  1.0272e+07-3.9550e+07j,\n",
      "           1.4556e+06-7.9760e+05j, -1.8640e+06+2.7045e+06j,\n",
      "          -3.3070e+04+6.2539e+03j,  1.7605e+04+1.3733e+05j,\n",
      "          -2.0549e+05+1.6625e+05j,  5.5210e+04+1.4276e+05j,\n",
      "          -3.8617e+04+1.6256e+04j, -1.8221e+04-3.3635e+03j,\n",
      "           4.4385e+03-3.7019e+03j,  2.1111e+03-5.8658e+03j,\n",
      "           2.9704e+03+7.8266e+02j, -6.2867e+03+5.9307e+03j,\n",
      "          -2.6348e+03+1.2746e+03j, -3.7353e+02-3.2429e+03j,\n",
      "          -8.2008e+02-1.5266e+03j,  2.1397e+03+9.1281e+01j,\n",
      "          -2.2530e+02+1.2822e+03j,  9.1684e+02-4.0584e+02j]],\n",
      "\n",
      "        [[ 3.2712e+08+8.6959e+07j,  2.7035e+07-8.1073e+06j,\n",
      "           6.7544e+05+5.1104e+05j, -1.9760e+06-4.1697e+04j,\n",
      "           1.2697e+04+1.0239e+04j, -6.6640e+04+5.8636e+04j,\n",
      "          -1.7071e+05-7.5688e+04j, -6.6117e+04+6.8891e+04j,\n",
      "          -2.1316e+04-1.5074e+04j, -5.9027e+03-1.1763e+04j,\n",
      "           4.0891e+03+2.9445e+03j,  4.8092e+03-6.3707e+02j,\n",
      "           4.7144e+02+1.1541e+03j, -4.9072e+03-1.4213e+03j,\n",
      "          -2.0314e+03-6.1810e+02j,  7.6543e+02-1.3034e+02j,\n",
      "          -6.7831e+02-7.9491e+02j,  7.2924e+02+9.4279e+02j,\n",
      "          -3.8811e+02+4.5686e+02j,  8.4212e+02+3.0898e+01j],\n",
      "         [ 3.3467e+08+9.9340e+07j,  2.6951e+07-5.5233e+06j,\n",
      "           1.1057e+06+9.3627e+05j, -1.7243e+06+2.8831e+05j,\n",
      "           6.1583e+03-3.6420e+04j, -5.8784e+04+3.8968e+04j,\n",
      "          -1.4734e+05-5.1269e+04j, -3.8333e+04+8.3405e+04j,\n",
      "          -3.0119e+04-8.1361e+03j, -7.4559e+03-5.1194e+03j,\n",
      "           6.1620e+03+5.0596e+03j,  2.5767e+03-1.2880e+03j,\n",
      "           7.1892e+02+3.2241e+02j, -3.7612e+03-2.9135e+03j,\n",
      "          -1.8966e+03-7.2473e+02j,  1.5362e+03+5.9558e+02j,\n",
      "           3.5791e+02-1.6562e+02j,  8.1555e+01+9.1851e+02j,\n",
      "          -5.4020e+02-5.5784e+01j,  6.1163e+02+6.8947e+00j]]],\n",
      "       dtype=torch.complex128)\n"
     ]
    }
   ],
   "source": [
    "mps = MPS.from_tensor_list(tensor_liste)\n",
    "mps.canonicalise(3)\n",
    "print(mps.tensors[3])"
   ],
   "metadata": {
    "collapsed": false,
    "pycharm": {
     "name": "#%%\n"
    }
   }
  },
  {
   "cell_type": "code",
   "execution_count": 10,
   "outputs": [
    {
     "name": "stdout",
     "output_type": "stream",
     "text": [
      "tensor(5.0636e+11, dtype=torch.float64)\n",
      "tensor([[5.0636e+11-6.6266e-05j]], dtype=torch.complex128)\n"
     ]
    }
   ],
   "source": [
    "print(pt.linalg.norm(canonicalise(tensor_list=MPS.from_tensor_list(tensor_liste).tensors, idx=4, D=2)[4]))\n",
    "print(norm(10, tensor_liste))\n",
    "# -> the results agree as they should"
   ],
   "metadata": {
    "collapsed": false,
    "pycharm": {
     "name": "#%%\n"
    }
   }
  },
  {
   "cell_type": "code",
   "execution_count": 7,
   "outputs": [],
   "source": [
    "def canonicalise_left_to_index(tensor_list, idx, phys_dim):\n",
    "    #from the left\n",
    "    for index in range(0, idx):\n",
    "        bond_dim_left = tensor_list[index][:,0,0].size()[0]\n",
    "        bond_dim_right = tensor_list[index][0,0,:].size()[0]\n",
    "        Qm, R = pt.linalg.qr(tensor_list[index].reshape(bond_dim_left*phys_dim, bond_dim_right))\n",
    "        tensor_list[index] = pt.reshape(Qm, (bond_dim_left, phys_dim, Qm.size()[1]))\n",
    "        tensor_list[index + 1] = pt.einsum('ab,bcd->acd', R, tensor_list[index + 1])\n",
    "    return tensor_list"
   ],
   "metadata": {
    "collapsed": false,
    "pycharm": {
     "name": "#%%\n"
    }
   }
  },
  {
   "cell_type": "code",
   "execution_count": 10,
   "outputs": [
    {
     "name": "stdout",
     "output_type": "stream",
     "text": [
      "tensor([[[-2.0688e+11-3.3123e+11j],\n",
      "         [-2.0574e+11-3.2946e+11j]],\n",
      "\n",
      "        [[-2.9711e+08+2.2473e+08j],\n",
      "         [ 7.4502e+08+4.2499e+07j]]], dtype=torch.complex128)\n"
     ]
    }
   ],
   "source": [
    "print(canonicalise_left_to_index(tensor_liste, 9, 2)[9])"
   ],
   "metadata": {
    "collapsed": false,
    "pycharm": {
     "name": "#%%\n"
    }
   }
  },
  {
   "cell_type": "code",
   "execution_count": 137,
   "outputs": [
    {
     "name": "stdout",
     "output_type": "stream",
     "text": [
      "tensor([0., 0., 0., 0., 0., 0., 0., 1., 0., 1.])\n",
      "tensor([0.0000, 0.0000, 0.0000, 0.0000, 0.0000, 0.0000, 0.0000, 0.4927, 0.4968,\n",
      "        0.4886])\n"
     ]
    }
   ],
   "source": [
    "bits_sampled = pt.zeros(qubit_num)\n",
    "probabilities_for_bits = pt.zeros(qubit_num)\n",
    "# sampling algorithm\n",
    "canonicalised_tensors = canonicalise_left_to_index(tensor_liste, 9, 2)\n",
    "part_func = pt.einsum('ijk,ijl->kl', canonicalised_tensors[9], canonicalised_tensors[9].conj())[0,0]\n",
    "result = pt.einsum('ijl,iml->jm', canonicalised_tensors[9], canonicalised_tensors[9].conj())\n",
    "probs = [result[0,0,]/part_func, result[1,1]/part_func]\n",
    "bits_sampled[9] = pt.multinomial(pt.tensor([probs[0].real.item(), probs[1].real.item()]), 1, replacement=True)[0].item()\n",
    "probabilities_for_bits[9] = probs[int(bits_sampled[9].item())]\n",
    "#now we got our first bit, we proceed with the second bit\n",
    "canonicalised_tensors = canonicalise_left_to_index(tensor_liste, 8, 2)\n",
    "result = pt.einsum('ik,mk->im', canonicalised_tensors[9][:,int(bits_sampled[9].item()),:], canonicalised_tensors[9][:,int(bits_sampled[9].item()),:].conj())\n",
    "result = pt.einsum('im,rsi->rsm', result, canonicalised_tensors[8])\n",
    "result = pt.einsum('rsm,rtm->st', result, canonicalised_tensors[8].conj())\n",
    "probs = [result[0,0]/part_func/probabilities_for_bits[9], result[1,1]/part_func/probabilities_for_bits[9]]\n",
    "bits_sampled[8] = pt.multinomial(pt.tensor([probs[0].real.item(), probs[1].real.item()]), 1, replacement=True)[0].item()\n",
    "probabilities_for_bits[8] = probs[int(bits_sampled[8].item())]\n",
    "# we got our second bit, we proceed with the third bit\n",
    "canonicalised_tensors = canonicalise_left_to_index(tensor_liste, 7, 2)\n",
    "result = pt.einsum('fh,jh->fj', canonicalised_tensors[9][:,int(bits_sampled[9].item()),:], canonicalised_tensors[9][:,int(bits_sampled[9].item()),:].conj())\n",
    "result = pt.einsum('fj,df->dj', result, canonicalised_tensors[8][:,int(bits_sampled[8].item()),:])\n",
    "result = pt.einsum('dj,lj->dl', result, canonicalised_tensors[8][:,int(bits_sampled[8].item()),:].conj())\n",
    "result = pt.einsum('dl,acd->acl', result, canonicalised_tensors[7])\n",
    "result = pt.einsum('acl,aml->cm', result, canonicalised_tensors[7].conj())\n",
    "probs = [result[0,0]/part_func/probabilities_for_bits[9]/probabilities_for_bits[8], result[1,1]/part_func/probabilities_for_bits[9]/probabilities_for_bits[8]]\n",
    "bits_sampled[7] = pt.multinomial(pt.tensor([probs[0].real.item(), probs[1].real.item()]), 1, replacement=True)[0].item()\n",
    "probabilities_for_bits[7] = probs[int(bits_sampled[7].item())]\n",
    "print(bits_sampled)\n",
    "print(probabilities_for_bits)"
   ],
   "metadata": {
    "collapsed": false,
    "pycharm": {
     "name": "#%%\n"
    }
   }
  },
  {
   "cell_type": "code",
   "execution_count": 130,
   "outputs": [
    {
     "data": {
      "text/plain": "(tensor([0., 1., 0., 0., 0., 1., 1., 1., 0., 1.]),\n tensor([0.4879, 0.5063, 0.5067, 0.5006, 0.4920, 0.5107, 0.5062, 0.4927, 0.4968,\n         0.4886]))"
     },
     "execution_count": 130,
     "metadata": {},
     "output_type": "execute_result"
    }
   ],
   "source": [
    "bits_sampled = pt.zeros(qubit_num)\n",
    "probabilities_for_bits = pt.ones(qubit_num)\n",
    "# sampling algorithm\n",
    "def sampling(tensor_list, qubit_num):\n",
    "    canonicalised_tensors = canonicalise_left_to_index(tensor_list, qubit_num-1, 2)\n",
    "    part_func = pt.einsum('ijk,ijl->kl', canonicalised_tensors[qubit_num-1], canonicalised_tensors[qubit_num-1].conj())[0,0]\n",
    "\n",
    "    for index in range(qubit_num):\n",
    "        idx = qubit_num - 1 -index\n",
    "        canonicalised_tensors = canonicalise_left_to_index(tensor_list, idx, 2)\n",
    "        result = contract_part_of_mps_index_fixed(canonicalised_tensors, bits_sampled, idx, qubit_num)\n",
    "        prob_for_previous_bits = pt.prod(probabilities_for_bits)\n",
    "        probs = [result[0,0]/part_func/prob_for_previous_bits, result[1,1]/part_func/prob_for_previous_bits]\n",
    "        bits_sampled[idx] = pt.multinomial(pt.tensor([probs[0].real.item(), probs[1].real.item()]), 1, replacement=True)[0].item()\n",
    "        probabilities_for_bits[idx] = probs[int(bits_sampled[idx].item())]\n",
    "    return bits_sampled, probabilities_for_bits\n",
    "\n",
    "sampling(tensor_liste, 10)"
   ],
   "metadata": {
    "collapsed": false,
    "pycharm": {
     "name": "#%%\n"
    }
   }
  },
  {
   "cell_type": "code",
   "execution_count": 121,
   "outputs": [],
   "source": [
    "def contract_part_of_mps_index_fixed(canonical_tensors, bits_sampled, idx, qubit_num):\n",
    "    if idx==qubit_num-1:\n",
    "        result = pt.einsum('ijl,iml->jm', canonical_tensors[idx], canonical_tensors[idx].conj())\n",
    "    else:\n",
    "        result = pt.einsum('fh,jh->fj', canonical_tensors[qubit_num-1][:,int(bits_sampled[qubit_num-1].item()),:], canonical_tensors[qubit_num-1][:,int(bits_sampled[qubit_num-1].item()),:].conj())\n",
    "        for counter in range(qubit_num - 1 - idx - 1):\n",
    "            index = qubit_num - 1 - counter - 1\n",
    "            result = pt.einsum('fj,df->dj', result, canonical_tensors[index][:,int(bits_sampled[index].item()),:])\n",
    "            result = pt.einsum('dj,lj->dl', result, canonical_tensors[index][:,int(bits_sampled[index].item()),:].conj())\n",
    "        result = pt.einsum('rs,acr->acs', result, canonical_tensors[idx])\n",
    "        result = pt.einsum('acs,ams->cm', result, canonical_tensors[idx].conj())\n",
    "    return result"
   ],
   "metadata": {
    "collapsed": false,
    "pycharm": {
     "name": "#%%\n"
    }
   }
  },
  {
   "cell_type": "code",
   "execution_count": null,
   "outputs": [],
   "source": [],
   "metadata": {
    "collapsed": false,
    "pycharm": {
     "name": "#%%\n"
    }
   }
  }
 ],
 "metadata": {
  "kernelspec": {
   "display_name": "Python 3",
   "language": "python",
   "name": "python3"
  },
  "language_info": {
   "codemirror_mode": {
    "name": "ipython",
    "version": 2
   },
   "file_extension": ".py",
   "mimetype": "text/x-python",
   "name": "python",
   "nbconvert_exporter": "python",
   "pygments_lexer": "ipython2",
   "version": "2.7.6"
  }
 },
 "nbformat": 4,
 "nbformat_minor": 0
}