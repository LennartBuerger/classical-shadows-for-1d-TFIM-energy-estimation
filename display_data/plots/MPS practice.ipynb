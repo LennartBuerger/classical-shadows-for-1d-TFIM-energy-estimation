{
 "cells": [
  {
   "cell_type": "code",
   "execution_count": 1,
   "metadata": {
    "collapsed": true
   },
   "outputs": [],
   "source": [
    "import numpy as np"
   ]
  },
  {
   "cell_type": "code",
   "execution_count": 4,
   "outputs": [],
   "source": [
    "d = 100\n",
    "a = np.random.rand(d,d,d,d)\n",
    "b = np.random.rand(d,d,d,d)\n",
    "# We want to contract A_1 and B_0 and A_3 and B_3\n",
    "At = a.transpose(0, 2, 1, 3)\n",
    "Bt = b.transpose(0, 3, 1, 2)\n",
    "Ar = At.reshape(d**2, d**2)\n",
    "Br = Bt.reshape(d**2, d**2)\n",
    "C = Ar @ Br\n",
    "Cr = C.reshape(d,d,d,d)\n",
    "Ct = Cr.transpose(0, 1, 2, 3) #the index ordering is already as desired"
   ],
   "metadata": {
    "collapsed": false,
    "pycharm": {
     "name": "#%%\n"
    }
   }
  },
  {
   "cell_type": "code",
   "execution_count": 15,
   "outputs": [],
   "source": [
    "from ncon import ncon"
   ],
   "metadata": {
    "collapsed": false,
    "pycharm": {
     "name": "#%%\n"
    }
   }
  },
  {
   "cell_type": "code",
   "execution_count": 17,
   "outputs": [],
   "source": [
    "A = np.random.rand(d,d,d)\n",
    "B = np.random.rand(d,d,d)\n",
    "C = np.random.rand(d,d,d)\n",
    "Tensor_Array = [A,B,C]\n",
    "Index_array = ([3,-1, 1],[-3,3,2],[2,1,-2])\n",
    "D = ncon(Tensor_Array, Index_array)"
   ],
   "metadata": {
    "collapsed": false,
    "pycharm": {
     "name": "#%%\n"
    }
   }
  },
  {
   "cell_type": "code",
   "execution_count": 21,
   "outputs": [],
   "source": [
    "from numpy import linalg as LA"
   ],
   "metadata": {
    "collapsed": false,
    "pycharm": {
     "name": "#%%\n"
    }
   }
  },
  {
   "cell_type": "code",
   "execution_count": 58,
   "outputs": [
    {
     "ename": "ValueError",
     "evalue": "In ncon.do_check_indices, len(v[1])=4 does not match the numbers of indices of L[1] = 2",
     "output_type": "error",
     "traceback": [
      "\u001B[1;31m---------------------------------------------------------------------------\u001B[0m",
      "\u001B[1;31mValueError\u001B[0m                                Traceback (most recent call last)",
      "\u001B[1;32m<ipython-input-58-eea147cf5d9f>\u001B[0m in \u001B[0;36m<module>\u001B[1;34m\u001B[0m\n\u001B[0;32m     14\u001B[0m \u001B[0mVh_reshape\u001B[0m \u001B[1;33m=\u001B[0m \u001B[0mVh\u001B[0m\u001B[1;33m.\u001B[0m\u001B[0mreshape\u001B[0m\u001B[1;33m(\u001B[0m\u001B[0md2\u001B[0m\u001B[1;33m,\u001B[0m \u001B[0md2\u001B[0m\u001B[1;33m,\u001B[0m \u001B[0md2\u001B[0m\u001B[1;33m,\u001B[0m \u001B[0md2\u001B[0m\u001B[1;33m)\u001B[0m\u001B[1;33m\u001B[0m\u001B[1;33m\u001B[0m\u001B[0m\n\u001B[0;32m     15\u001B[0m \u001B[0mSm\u001B[0m \u001B[1;33m=\u001B[0m \u001B[0mnp\u001B[0m\u001B[1;33m.\u001B[0m\u001B[0mdiag\u001B[0m\u001B[1;33m(\u001B[0m\u001B[0mS\u001B[0m\u001B[1;33m)\u001B[0m\u001B[1;33m\u001B[0m\u001B[1;33m\u001B[0m\u001B[0m\n\u001B[1;32m---> 16\u001B[1;33m \u001B[0mA_recon\u001B[0m \u001B[1;33m=\u001B[0m \u001B[0mncon\u001B[0m\u001B[1;33m(\u001B[0m\u001B[1;33m[\u001B[0m\u001B[0mU_reshape\u001B[0m\u001B[1;33m,\u001B[0m \u001B[0mSm\u001B[0m\u001B[1;33m,\u001B[0m \u001B[0mVh_reshape\u001B[0m\u001B[1;33m]\u001B[0m\u001B[1;33m,\u001B[0m \u001B[1;33m[\u001B[0m\u001B[1;33m[\u001B[0m\u001B[1;33m-\u001B[0m\u001B[1;36m1\u001B[0m\u001B[1;33m,\u001B[0m \u001B[1;33m-\u001B[0m\u001B[1;36m2\u001B[0m\u001B[1;33m,\u001B[0m \u001B[1;36m1\u001B[0m\u001B[1;33m,\u001B[0m \u001B[1;36m2\u001B[0m\u001B[1;33m]\u001B[0m\u001B[1;33m,\u001B[0m \u001B[1;33m[\u001B[0m\u001B[1;36m2\u001B[0m\u001B[1;33m,\u001B[0m \u001B[1;36m1\u001B[0m\u001B[1;33m,\u001B[0m \u001B[1;36m4\u001B[0m\u001B[1;33m,\u001B[0m \u001B[1;36m3\u001B[0m\u001B[1;33m]\u001B[0m\u001B[1;33m,\u001B[0m \u001B[1;33m[\u001B[0m\u001B[1;36m3\u001B[0m\u001B[1;33m,\u001B[0m \u001B[1;36m4\u001B[0m\u001B[1;33m,\u001B[0m \u001B[1;33m-\u001B[0m\u001B[1;36m3\u001B[0m\u001B[1;33m,\u001B[0m \u001B[1;33m-\u001B[0m\u001B[1;36m4\u001B[0m\u001B[1;33m]\u001B[0m\u001B[1;33m]\u001B[0m\u001B[1;33m)\u001B[0m\u001B[1;33m\u001B[0m\u001B[1;33m\u001B[0m\u001B[0m\n\u001B[0m\u001B[0;32m     17\u001B[0m \u001B[0mdA\u001B[0m \u001B[1;33m=\u001B[0m \u001B[0mLA\u001B[0m\u001B[1;33m.\u001B[0m\u001B[0mnorm\u001B[0m\u001B[1;33m(\u001B[0m\u001B[0mA_norm\u001B[0m \u001B[1;33m-\u001B[0m \u001B[0mA_recon\u001B[0m\u001B[1;33m)\u001B[0m\u001B[1;33m\u001B[0m\u001B[1;33m\u001B[0m\u001B[0m\n\u001B[0;32m     18\u001B[0m \u001B[0mprint\u001B[0m\u001B[1;33m(\u001B[0m\u001B[0mdA\u001B[0m\u001B[1;33m)\u001B[0m\u001B[1;33m\u001B[0m\u001B[1;33m\u001B[0m\u001B[0m\n",
      "\u001B[1;32m~\\Anaconda3\\lib\\site-packages\\ncon\\ncon.py\u001B[0m in \u001B[0;36mncon\u001B[1;34m(L, v, order, forder, check_indices)\u001B[0m\n\u001B[0;32m     47\u001B[0m     \u001B[1;32mif\u001B[0m \u001B[0mcheck_indices\u001B[0m\u001B[1;33m:\u001B[0m\u001B[1;33m\u001B[0m\u001B[1;33m\u001B[0m\u001B[0m\n\u001B[0;32m     48\u001B[0m         \u001B[1;31m# Raise a RuntimeError if the indices are wrong.\u001B[0m\u001B[1;33m\u001B[0m\u001B[1;33m\u001B[0m\u001B[1;33m\u001B[0m\u001B[0m\n\u001B[1;32m---> 49\u001B[1;33m         \u001B[0mdo_check_indices\u001B[0m\u001B[1;33m(\u001B[0m\u001B[0mL\u001B[0m\u001B[1;33m,\u001B[0m \u001B[0mv\u001B[0m\u001B[1;33m,\u001B[0m \u001B[0morder\u001B[0m\u001B[1;33m,\u001B[0m \u001B[0mforder\u001B[0m\u001B[1;33m)\u001B[0m\u001B[1;33m\u001B[0m\u001B[1;33m\u001B[0m\u001B[0m\n\u001B[0m\u001B[0;32m     50\u001B[0m \u001B[1;33m\u001B[0m\u001B[0m\n\u001B[0;32m     51\u001B[0m     \u001B[1;31m# If the graph is dinconnected, connect it with trivial indices that\u001B[0m\u001B[1;33m\u001B[0m\u001B[1;33m\u001B[0m\u001B[1;33m\u001B[0m\u001B[0m\n",
      "\u001B[1;32m~\\Anaconda3\\lib\\site-packages\\ncon\\ncon.py\u001B[0m in \u001B[0;36mdo_check_indices\u001B[1;34m(L, v, order, forder)\u001B[0m\n\u001B[0;32m    285\u001B[0m                     \u001B[1;34m\"the numbers of indices of L[%i] = %i\"\u001B[0m\u001B[1;33m\u001B[0m\u001B[1;33m\u001B[0m\u001B[0m\n\u001B[0;32m    286\u001B[0m                 )\n\u001B[1;32m--> 287\u001B[1;33m                 \u001B[1;33m%\u001B[0m \u001B[1;33m(\u001B[0m\u001B[0mi\u001B[0m\u001B[1;33m,\u001B[0m \u001B[0mlen\u001B[0m\u001B[1;33m(\u001B[0m\u001B[0minds\u001B[0m\u001B[1;33m)\u001B[0m\u001B[1;33m,\u001B[0m \u001B[0mi\u001B[0m\u001B[1;33m,\u001B[0m \u001B[0mlen\u001B[0m\u001B[1;33m(\u001B[0m\u001B[0mshapes\u001B[0m\u001B[1;33m[\u001B[0m\u001B[0mi\u001B[0m\u001B[1;33m]\u001B[0m\u001B[1;33m)\u001B[0m\u001B[1;33m)\u001B[0m\u001B[1;33m\u001B[0m\u001B[1;33m\u001B[0m\u001B[0m\n\u001B[0m\u001B[0;32m    288\u001B[0m             )\n\u001B[0;32m    289\u001B[0m \u001B[1;33m\u001B[0m\u001B[0m\n",
      "\u001B[1;31mValueError\u001B[0m: In ncon.do_check_indices, len(v[1])=4 does not match the numbers of indices of L[1] = 2"
     ]
    }
   ],
   "source": [
    "d1 = 10\n",
    "d2 = 8\n",
    "A = np.zeros((d1, d1, d2, d2))\n",
    "for i in range(d1):\n",
    "    for j in range(d1):\n",
    "        for k in range(d2):\n",
    "            for l in range(d2):\n",
    "                A[i,j,k,l] = np.sqrt(i + 2*j + 3*k + 4*l + 10)\n",
    "frob_norm = LA.norm(A)#np.sqrt(np.sum(A.flatten()**2))\n",
    "A_norm = A/frob_norm\n",
    "[U, S, Vh] = LA.svd(A_norm.reshape(d1**2, d2**2), full_matrices=False)\n",
    "norm = np.sqrt(np.sum(S**2))\n",
    "U_reshape = U.reshape(d1, d1, d2, d2)\n",
    "Vh_reshape = Vh.reshape(d2, d2, d2, d2)\n",
    "Sm = np.diag(S)\n",
    "A_recon = ncon([U_reshape, Sm, Vh_reshape], [[-1, -2, 1, 2], [2, 1, 4, 3], [3, 4, -3, -4]])\n",
    "dA = LA.norm(A_norm - A_recon)\n",
    "print(dA)"
   ],
   "metadata": {
    "collapsed": false,
    "pycharm": {
     "name": "#%%\n"
    }
   }
  },
  {
   "cell_type": "code",
   "execution_count": null,
   "outputs": [],
   "source": [],
   "metadata": {
    "collapsed": false,
    "pycharm": {
     "name": "#%%\n"
    }
   }
  }
 ],
 "metadata": {
  "kernelspec": {
   "display_name": "Python 3",
   "language": "python",
   "name": "python3"
  },
  "language_info": {
   "codemirror_mode": {
    "name": "ipython",
    "version": 2
   },
   "file_extension": ".py",
   "mimetype": "text/x-python",
   "name": "python",
   "nbconvert_exporter": "python",
   "pygments_lexer": "ipython2",
   "version": "2.7.6"
  }
 },
 "nbformat": 4,
 "nbformat_minor": 0
}