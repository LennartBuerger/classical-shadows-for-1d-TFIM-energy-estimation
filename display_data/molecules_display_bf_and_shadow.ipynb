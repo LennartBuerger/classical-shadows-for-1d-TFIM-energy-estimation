{
 "cells": [
  {
   "cell_type": "code",
   "metadata": {
    "collapsed": true,
    "pycharm": {
     "name": "#%%\n"
    }
   },
   "source": [
    "import numpy as np\n",
    "import torch as pt\n",
    "import matplotlib.pyplot as plt\n",
    "import sys\n",
    "from pathlib import Path\n",
    "sys.path.append(Path('../src'))\n",
    "from src.molecular_hamiltonian import Molecular_Hamiltonian\n",
    "from src.bf_quantum_state import BFQuantumState\n",
    "import src.constants"
   ],
   "execution_count": 1,
   "outputs": []
  },
  {
   "cell_type": "markdown",
   "source": [
    "First we compute the ground states and ground state energies and store them for later use."
   ],
   "metadata": {
    "collapsed": false,
    "pycharm": {
     "name": "#%% md\n"
    }
   }
  },
  {
   "cell_type": "code",
   "execution_count": 2,
   "outputs": [],
   "source": [
    "molecules = ['H2', 'LiH', 'H2O', 'NH3']\n",
    "for molecule in molecules:\n",
    "    save_direc_eigs = Path('data/Diagonal_hamiltonian/molecule_'+ molecule + '_eigenvalues_first.npy')\n",
    "    save_direc_groundstate = Path('data/Diagonal_hamiltonian/molecule_'+ molecule + '_groundstate_dict.npy')\n",
    "    energy_eig_vals, eigvecs = Molecular_Hamiltonian(molecule).diagonalize(1, True)\n",
    "    ground_state = pt.tensor(eigvecs[:, 0])\n",
    "    np.save(save_direc_eigs, energy_eig_vals)\n",
    "    np.save(save_direc_groundstate, ground_state)"
   ],
   "metadata": {
    "collapsed": false,
    "pycharm": {
     "name": "#%%\n"
    }
   }
  },
  {
   "cell_type": "markdown",
   "source": [
    "Now we do shadow measurements on our ground state and store them to later predict the energy."
   ],
   "metadata": {
    "collapsed": false,
    "pycharm": {
     "name": "#%% md\n"
    }
   }
  },
  {
   "cell_type": "code",
   "execution_count": 40,
   "outputs": [
    {
     "name": "stdout",
     "output_type": "stream",
     "text": [
      "starting molecule H2\n",
      "25\n",
      "starting molecule LiH\n",
      "786\n"
     ]
    }
   ],
   "source": [
    "molecules = ['H2', 'LiH']\n",
    "num_of_measurements = 300000\n",
    "measurement_methods = np.array(['derandomized', 'randomized'])\n",
    "for molecule in molecules:\n",
    "    print('starting molecule ' + molecule)\n",
    "    save_direc_groundstate = Path('data/Diagonal_hamiltonian/molecule_'+ molecule + '_groundstate_dict.npy')\n",
    "    ground_state = pt.tensor(np.load(save_direc_groundstate, allow_pickle=True), dtype=src.constants.DEFAULT_COMPLEX_TYPE)\n",
    "    for l in range(0, 2):\n",
    "        observables = Molecular_Hamiltonian(molecule).observables_for_energy_estimation()\n",
    "        measurement_procedure, measurement_index = BFQuantumState(Molecular_Hamiltonian(molecule).qubit_number_after_jordan_wigner(),\n",
    "                            ground_state).measurement_shadow(num_of_measurements, measurement_methods[l], observables)\n",
    "        save_direc_procedure = Path('data/shadow_measurements/procedure_molecule_' + molecule +'_method_'+measurement_methods[l]+'.npy')\n",
    "        save_direc_index = Path('data/shadow_measurements/index_molecule_' + molecule +'_method_'+measurement_methods[l]+'.npy')\n",
    "        np.save(save_direc_procedure, measurement_procedure)\n",
    "        np.save(save_direc_index, measurement_index)"
   ],
   "metadata": {
    "collapsed": false,
    "pycharm": {
     "name": "#%%\n"
    }
   }
  },
  {
   "cell_type": "code",
   "execution_count": 5,
   "outputs": [],
   "source": [
    "# this function converts the stored measurement outcomes to the correct shape needed for the shadow prediction\n",
    "def conversion_to_prediction_shadow_dict_shape(measurement_procedure, measurement_index, qubit_num):\n",
    "    to_str_func = np.vectorize(lambda x: np.binary_repr(x).zfill(qubit_num))\n",
    "    strs = to_str_func(measurement_index)\n",
    "    dirac_rep = np.zeros(list(measurement_index.shape) + [qubit_num], dtype=np.int8)\n",
    "    for bit_ix in range(0, qubit_num):\n",
    "        fetch_bit_func = np.vectorize(lambda x: x[bit_ix] == '1')\n",
    "        dirac_rep[...,bit_ix] = fetch_bit_func(strs).astype(\"int8\")\n",
    "    measurement_array = np.where(dirac_rep == 1, -1, dirac_rep)\n",
    "    measurement_array = np.where(dirac_rep == 0, 1, measurement_array)\n",
    "    measurement = np.dstack((measurement_procedure, np.array(measurement_array, dtype=int)))\n",
    "    return measurement"
   ],
   "metadata": {
    "collapsed": false,
    "pycharm": {
     "name": "#%%\n"
    }
   }
  },
  {
   "cell_type": "code",
   "execution_count": 23,
   "outputs": [
    {
     "name": "stdout",
     "output_type": "stream",
     "text": [
      "exact energie of molecule H2 = [-1.10115033]\n",
      "energie estimated with derandomized shadows of moleculeH2 = (-1.090212863619266+0j)\n",
      "exact energie of molecule H2 = [-1.10115033]\n",
      "energie estimated with randomized shadows of moleculeH2 = (-1.1815242672701383+0j)\n"
     ]
    }
   ],
   "source": [
    "measurement_methods = np.array(['derandomized', 'randomized'])\n",
    "num_of_measurements = 500\n",
    "molecules = ['H2', 'LiH', 'H2O', 'NH3']\n",
    "energies_shadow = []\n",
    "energies_brute = []\n",
    "for molecule in molecules:\n",
    "    for l in range(0,2):\n",
    "        save_direc_procedure = Path('data/shadow_measurements/procedure_molecule_' + molecule +'_method_'+measurement_methods[l]+'.npy')\n",
    "        save_direc_index = Path('data/shadow_measurements/index_molecule_' + molecule +'_method_'+measurement_methods[l]+'.npy')\n",
    "        measurement_procedure = np.lib.format.open_memmap(save_direc_procedure, dtype=np.str_, mode='r')\n",
    "        measurement_index = np.lib.format.open_memmap(save_direc_index, dtype=np.int32, mode='r')\n",
    "        measurements = conversion_to_prediction_shadow_dict_shape(measurement_procedure[0:num_of_measurements,:],\n",
    "                                                                  measurement_index[0:num_of_measurements], Molecular_Hamiltonian(molecule).qubit_number_after_jordan_wigner())\n",
    "        energy_shadow = Molecular_Hamiltonian(molecule).energy_shadow(measurements).real()\n",
    "        save_direc_eigs = Path('data/Diagonal_hamiltonian/molecule_'+ molecule + '_eigenvalues_first.npy')\n",
    "        energy_brute = np.load(save_direc_eigs, allow_pickle=True)\n",
    "        energies_shadow.append(energy_shadow)\n",
    "        energies_brute.append(energy_brute)\n",
    "        print('exact energie of molecule ' + molecule + ' = ' + str(energy_brute))\n",
    "        print('energie estimated with ' + measurement_methods[l] + ' shadows of molecule' + molecule + ' = ' + str(energy_shadow))"
   ],
   "metadata": {
    "collapsed": false,
    "pycharm": {
     "name": "#%%\n"
    }
   }
  },
  {
   "cell_type": "markdown",
   "source": [
    "Now we plot the relative error in the prediction of the energy $\\frac{|E_{exact} - E_{shadow}|}{E_{exact}}$ against the number of measurements."
   ],
   "metadata": {
    "collapsed": false,
    "pycharm": {
     "name": "#%% md\n"
    }
   }
  },
  {
   "cell_type": "code",
   "execution_count": 15,
   "outputs": [],
   "source": [
    "measurement_methods = np.array(['derandomized', 'randomized'])\n",
    "numbers_of_measurements = np.array([100, 200, 500, 1000, 2000, 5000, 10000, 20000])\n",
    "batches = 15\n",
    "molecules = ['H2', 'LiH']\n",
    "all_rel_errors = {}\n",
    "for molecule in molecules:\n",
    "    all_rel_errors[molecule] = {}\n",
    "    for l in range(0,2):\n",
    "        rel_errors_in_one_batch = np.zeros((np.size(numbers_of_measurements), batches))\n",
    "        for b in range(0, batches):\n",
    "            save_direc_eigs = Path('data/Diagonal_hamiltonian/molecule_'+ molecule + '_eigenvalues_first.npy')\n",
    "            energy_brute = float(np.load(save_direc_eigs, allow_pickle=True))\n",
    "            for n in range(0, np.size(numbers_of_measurements)):\n",
    "                save_direc_procedure = Path('data/shadow_measurements/procedure_molecule_' + molecule +'_method_'+measurement_methods[l]+'.npy')\n",
    "                save_direc_index = Path('data/shadow_measurements/index_molecule_' + molecule +'_method_'+measurement_methods[l]+'.npy')\n",
    "                measurement_procedure = np.lib.format.open_memmap(save_direc_procedure, dtype=np.str_, mode='r')\n",
    "                measurement_index = np.lib.format.open_memmap(save_direc_index, dtype=np.int32, mode='r')\n",
    "                measurements = conversion_to_prediction_shadow_dict_shape(measurement_procedure[b*numbers_of_measurements[n]:(b+1)*numbers_of_measurements[n],:],\n",
    "                                                                          measurement_index[b*numbers_of_measurements[n]:(b+1)*numbers_of_measurements[n]], Molecular_Hamiltonian(molecule).qubit_number_after_jordan_wigner())\n",
    "                energy_shadow = float(Molecular_Hamiltonian(molecule).energy_shadow(measurements).real)\n",
    "                rel_errors_in_one_batch[n,b] = np.abs(energy_shadow - energy_brute) / np.abs(energy_brute)\n",
    "        all_rel_errors[molecule][measurement_methods[l]] = rel_errors_in_one_batch\n",
    "save_direc_rel_errors = Path('data/energy_estimations/molecules_relative_erros_in_energy_prediction_dict.npy')\n",
    "np.save(save_direc_rel_errors, all_rel_errors)"
   ],
   "metadata": {
    "collapsed": false,
    "pycharm": {
     "name": "#%%\n"
    }
   }
  },
  {
   "cell_type": "code",
   "execution_count": 16,
   "outputs": [
    {
     "name": "stdout",
     "output_type": "stream",
     "text": [
      "[0.02450968 0.02977141 0.01155717 0.00377381 0.00446999 0.00359729\n",
      " 0.00235882 0.00145879] derandomized\n",
      "[0.04010157 0.02597011 0.01369543 0.00848384 0.00690705 0.00332537\n",
      " 0.00327402 0.0023251 ]\n",
      "[0.03217488 0.02160683 0.02260123 0.01305183 0.00993349 0.00563032\n",
      " 0.00405019 0.00306284] randomized\n",
      "[0.04359265 0.03188355 0.02934958 0.01848677 0.01366311 0.00665756\n",
      " 0.00606272 0.00449311]\n",
      "[0.01959641 0.02234476 0.0188041  0.00349979 0.00284809 0.00176031\n",
      " 0.00135553 0.00082556] derandomized\n",
      "[0.0314315  0.02950102 0.01337825 0.00460877 0.00487343 0.00494899\n",
      " 0.00514037 0.00503568]\n",
      "[0.0058733  0.00561211 0.00625472 0.00673139 0.00472889 0.00418171\n",
      " 0.00335644 0.00440686] randomized\n",
      "[0.00994176 0.00809253 0.00891293 0.00691587 0.00610575 0.00549039\n",
      " 0.00546486 0.00612434]\n"
     ]
    },
    {
     "data": {
      "text/plain": "<Figure size 864x360 with 2 Axes>",
      "image/png": "[encoded data removed]"
     },
     "metadata": {
      "needs_background": "light"
     },
     "output_type": "display_data"
    }
   ],
   "source": [
    "measurement_methods = np.array(['derandomized', 'randomized'])\n",
    "numbers_of_measurements = np.array([100, 200, 500, 1000, 2000, 5000, 10000, 20000])\n",
    "molecules = ['H2', 'LiH']\n",
    "fig, axs = plt.subplots(1, 2)\n",
    "fig.set_figheight(5)\n",
    "fig.set_figwidth(12)\n",
    "fig.suptitle('relative error $\\epsilon_{rel}$ in the prediction of the ground state energy for different numbers of measurements $N$ and different molecules')\n",
    "save_direc_rel_errors = Path('data/energy_estimations/molecules_relative_erros_in_energy_prediction_dict.npy')\n",
    "all_rel_errors_dict = np.load(save_direc_rel_errors, allow_pickle=True)\n",
    "all_rel_errors_dict = all_rel_errors_dict.item()\n",
    "for molecule in molecules:\n",
    "    for l in range(0,2):\n",
    "        rel_errors = all_rel_errors_dict[molecule][measurement_methods[l]]\n",
    "        rel_errors_mean = np.mean(rel_errors, axis = 1)\n",
    "        rel_errors_std = np.std(rel_errors, axis = 1)\n",
    "        print(rel_errors_std, measurement_methods[l])\n",
    "        print(rel_errors_mean)\n",
    "        if molecule == 'H2':\n",
    "            i = 0\n",
    "            j = 0\n",
    "        if molecule == 'LiH':\n",
    "            i = 0\n",
    "            j = 1\n",
    "        if molecule == 'H2O':\n",
    "            i = 1\n",
    "            j = 0\n",
    "        if molecule == 'NH3':\n",
    "            i = 1\n",
    "            j = 1\n",
    "        axs[j].errorbar(numbers_of_measurements, rel_errors_mean, label = measurement_methods[l] + ' shadows')\n",
    "        axs[j].fill_between(numbers_of_measurements, rel_errors_mean - rel_errors_std, rel_errors_mean + rel_errors_std, alpha = 0.3)\n",
    "        axs[j].set(xscale = 'log', xlabel = 'N', ylabel = '$\\epsilon_{rel}$', yscale = 'log')\n",
    "        axs[j].set_title(molecule)\n",
    "        axs[j].legend()"
   ],
   "metadata": {
    "collapsed": false,
    "pycharm": {
     "name": "#%%\n"
    }
   }
  },
  {
   "cell_type": "markdown",
   "source": [
    "Now we estimate the energy using direct measurements. Later on we will compare the two approaches."
   ],
   "metadata": {
    "collapsed": false,
    "pycharm": {
     "name": "#%% md\n"
    }
   }
  },
  {
   "cell_type": "code",
   "execution_count": 19,
   "outputs": [],
   "source": [
    "def conversion_to_measurement_outcome_shape(measurement_index, qubit_num):\n",
    "    to_str_func = np.vectorize(lambda x: np.binary_repr(x).zfill(qubit_num))\n",
    "    strs = to_str_func(measurement_index)\n",
    "    dirac_rep = np.zeros(list(measurement_index.shape) + [qubit_num], dtype=np.int8)\n",
    "    for bit_ix in range(0, qubit_num):\n",
    "        fetch_bit_func = np.vectorize(lambda x: x[bit_ix] == '1')\n",
    "        dirac_rep[...,bit_ix] = fetch_bit_func(strs).astype(\"int8\")\n",
    "    measurement_array = np.where(dirac_rep == 1, -1, dirac_rep)\n",
    "    measurement_array = np.where(dirac_rep == 0, 1, measurement_array)\n",
    "    return measurement_array"
   ],
   "metadata": {
    "collapsed": false,
    "pycharm": {
     "name": "#%%\n"
    }
   }
  },
  {
   "cell_type": "code",
   "execution_count": 40,
   "outputs": [
    {
     "name": "stderr",
     "output_type": "stream",
     "text": [
      "C:\\Users\\Lenna\\Anaconda3\\lib\\site-packages\\numpy\\core\\_asarray.py:102: VisibleDeprecationWarning: Creating an ndarray from ragged nested sequences (which is a list-or-tuple of lists-or-tuples-or ndarrays with different lengths or shapes) is deprecated. If you meant to do this, you must specify 'dtype=object' when creating the ndarray.\n",
      "  return array(a, dtype, copy=False, order=order)\n"
     ]
    }
   ],
   "source": [
    "molecules = ['H2']\n",
    "numbers_of_measurements_for_each_observable = np.array([10, 20, 50, 100, 150, 200, 500, 700, 1000])\n",
    "batches = 50\n",
    "for molecule in molecules:\n",
    "    observables_array_shape, coefficients = Molecular_Hamiltonian(molecule).observables_and_coefficients_for_energy_estimation()\n",
    "    save_direc_groundstate = Path('data/Diagonal_hamiltonian/molecule_'+ molecule + '_groundstate_dict.npy')\n",
    "    ground_state = pt.tensor(np.load(save_direc_groundstate, allow_pickle=True), dtype=src.constants.DEFAULT_COMPLEX_TYPE)\n",
    "    save_direc_eigs = Path('data/Diagonal_hamiltonian/molecule_'+ molecule + '_eigenvalues_first.npy')\n",
    "    energy_brute = float(np.load(save_direc_eigs, allow_pickle=True))\n",
    "    errors = np.zeros((batches, np.size(numbers_of_measurements_for_each_observable)))\n",
    "    for k in range(0, batches):\n",
    "        for j in range(0, np.size(numbers_of_measurements_for_each_observable)):\n",
    "            errors_all_observables= np.array([])\n",
    "            energy = 0\n",
    "            for o in range(0, np.size(observables_array_shape)):\n",
    "                observable_dict_shape = {}\n",
    "                if not observables_array_shape[o]:\n",
    "                    energy = energy + coefficients[o]\n",
    "                    continue\n",
    "                for pauli_observable in observables_array_shape[o]:\n",
    "                    observable_dict_shape[pauli_observable[1]] = str(pauli_observable[0])\n",
    "                measurement_index, prob = BFQuantumState(Molecular_Hamiltonian(molecule).qubit_number_after_jordan_wigner(), ground_state).measure_pauli(observable_dict_shape, numbers_of_measurements_for_each_observable[j])\n",
    "                measurement_arrays = conversion_to_measurement_outcome_shape(measurement_index, Molecular_Hamiltonian(molecule).qubit_number_after_jordan_wigner())\n",
    "                measurement_outcome = 0\n",
    "                for i in range(0, int(prob.size(dim=0))):\n",
    "                    measurement_outcome_one_meas = 1\n",
    "                    for pauli_observable in observables_array_shape[o]:\n",
    "                        measurement_outcome_one_meas = measurement_outcome_one_meas * measurement_arrays[i][pauli_observable[1]]\n",
    "                    measurement_outcome = measurement_outcome + prob[i] * measurement_outcome_one_meas\n",
    "# until here we just obtained the measurement outcome of an arbitrary pauli observable array, now we estimate the energy from this\n",
    "                energy = energy + coefficients[o] * measurement_outcome\n",
    "            errors[k,j] = np.abs(energy_brute - energy) / np.abs(energy_brute)"
   ],
   "metadata": {
    "collapsed": false,
    "pycharm": {
     "name": "#%%\n"
    }
   }
  },
  {
   "cell_type": "code",
   "execution_count": 43,
   "outputs": [
    {
     "data": {
      "text/plain": "<matplotlib.collections.PolyCollection at 0x10c43a109c8>"
     },
     "execution_count": 43,
     "metadata": {},
     "output_type": "execute_result"
    },
    {
     "data": {
      "text/plain": "<Figure size 432x288 with 1 Axes>",
      "image/png": "[encoded data removed]"
     },
     "metadata": {
      "needs_background": "light"
     },
     "output_type": "display_data"
    }
   ],
   "source": [
    "error_mean = np.mean(errors, axis=0)\n",
    "error_std = np.std(errors, axis = 0)\n",
    "plt.yscale('log')\n",
    "plt.xscale('log')\n",
    "plt.plot(numbers_of_measurements_for_each_observable, error_mean)cd \n",
    "plt.fill_between(numbers_of_measurements_for_each_observable, error_mean - error_std, error_mean + error_std, alpha = 0.3)"
   ],
   "metadata": {
    "collapsed": false,
    "pycharm": {
     "name": "#%%\n"
    }
   }
  },
  {
   "cell_type": "code",
   "execution_count": 42,
   "outputs": [
    {
     "name": "stdout",
     "output_type": "stream",
     "text": [
      "[0.02847431 0.02113048 0.01162136 0.00951166 0.00798146 0.00670424\n",
      " 0.00416789 0.00350168 0.00320658]\n"
     ]
    }
   ],
   "source": [
    "print(error_mean)"
   ],
   "metadata": {
    "collapsed": false,
    "pycharm": {
     "name": "#%%\n"
    }
   }
  },
  {
   "cell_type": "code",
   "execution_count": null,
   "outputs": [],
   "source": [],
   "metadata": {
    "collapsed": false,
    "pycharm": {
     "name": "#%%\n"
    }
   }
  }
 ],
 "metadata": {
  "kernelspec": {
   "display_name": "Python 3",
   "language": "python",
   "name": "python3"
  },
  "language_info": {
   "codemirror_mode": {
    "name": "ipython",
    "version": 2
   },
   "file_extension": ".py",
   "mimetype": "text/x-python",
   "name": "python",
   "nbconvert_exporter": "python",
   "pygments_lexer": "ipython2",
   "version": "2.7.6"
  }
 },
 "nbformat": 4,
 "nbformat_minor": 0
}