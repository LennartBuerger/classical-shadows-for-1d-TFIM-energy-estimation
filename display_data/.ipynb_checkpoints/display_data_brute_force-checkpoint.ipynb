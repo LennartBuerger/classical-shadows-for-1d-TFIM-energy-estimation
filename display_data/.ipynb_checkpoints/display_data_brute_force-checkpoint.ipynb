{
 "cells": [
  {
   "cell_type": "code",
   "execution_count": 1,
   "id": "c9d28ccc",
   "metadata": {},
   "outputs": [],
   "source": [
    "import numpy as np\n",
    "import torch as pt\n",
    "import matplotlib.pyplot as plt\n",
    "import sys"
   ]
  },
  {
   "cell_type": "code",
   "execution_count": null,
   "id": "06eda8ef",
   "metadata": {},
   "outputs": [],
   "source": [
    "\n",
    "sys.path.append('..\\src')\n",
    "from TFIM_Hamiltonian_OpenFermion import TfimHamiltonianOpenFermion"
   ]
  },
  {
   "cell_type": "code",
   "execution_count": null,
   "id": "b3455c46",
   "metadata": {},
   "outputs": [],
   "source": [
    "TfimHamiltonianOpenFermion(4, None, 1, 1).energygap()"
   ]
  },
  {
   "cell_type": "code",
   "execution_count": null,
   "id": "42a0372b",
   "metadata": {},
   "outputs": [],
   "source": []
  },
  {
   "cell_type": "code",
   "execution_count": null,
   "id": "b37bbdba",
   "metadata": {},
   "outputs": [],
   "source": []
  }
 ],
 "metadata": {
  "kernelspec": {
   "display_name": "Python 3",
   "language": "python",
   "name": "python3"
  },
  "language_info": {
   "codemirror_mode": {
    "name": "ipython",
    "version": 3
   },
   "file_extension": ".py",
   "mimetype": "text/x-python",
   "name": "python",
   "nbconvert_exporter": "python",
   "pygments_lexer": "ipython3",
   "version": "3.7.11"
  }
 },
 "nbformat": 4,
 "nbformat_minor": 5
}
