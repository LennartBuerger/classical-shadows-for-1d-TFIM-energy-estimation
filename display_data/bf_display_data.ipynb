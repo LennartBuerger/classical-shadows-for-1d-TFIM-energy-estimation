{
 "cells": [
  {
   "cell_type": "markdown",
   "metadata": {
    "collapsed": true,
    "pycharm": {
     "name": "#%% md\n"
    }
   },
   "source": [
    "### Brute Force Simulation of 1d transverse field Ising model.\n"
   ]
  },
  {
   "cell_type": "markdown",
   "source": [
    "The 1d transverse field Ising model features a chain of spins (qubits) with a\n",
    "magnetic field orthogonal to the chain. The qubits only interact with the nearest\n",
    "neighbours.\n",
    "The Hamiltonian is of the form:\n",
    "\n",
    "\\begin{equation}\n",
    "H = J \\sum_{i=1}^{N-1} \\sigma_i^z \\sigma_{i+1}^z + h \\sum_{i=1}^{N} \\sigma_i^x\n",
    "\\end{equation}\n",
    "\n",
    "for open boundary conditions (first and last lattice site only have one neighbour).\n",
    "The $\\sigma_i$ are Pauli matrices, N is the number of qubits and $J$ and $h$ are coupling\n",
    "constants describing the coupling strength of the\n",
    "nearest neighbour interaction and the strength of the magnetic field respectively.\n",
    "If we assume periodic boundary conditions the last qubit interacts with the first qubit.\n",
    "The Hamiltonian takes the form:\n",
    "\n",
    "\\begin{equation}\n",
    "H = J \\sum_{i=1}^{N} \\sigma_i^z \\sigma_{i+1}^z + h \\sum_{i=1}^{N} \\sigma_i^x\n",
    "\\end{equation}\n",
    "\n",
    "where we assume $\\sigma^z_{N+1} = \\sigma^z_1$.\n",
    "\n",
    "We simulate the 1d transverse field Ising model for different numbers of qubits (Spins) $N$\n",
    "and for different ratios $\\frac{h}{J}$ where we set $J=-1$ (ferromagnetic case). In the\n",
    "following we calculate the numerical values for the oberservables energy-gap,\n",
    "two-point-correlation, correlation length and entanglement entropy.\n",
    "To calculate all of these we need the ground state and the first few eigenvalues of our\n",
    "Hamiltonian. Thus, we calculate them first and store them because this is the most\n",
    "computationally expensive part."
   ],
   "metadata": {
    "collapsed": false
   }
  },
  {
   "cell_type": "code",
   "execution_count": 1,
   "outputs": [],
   "source": [
    "import numpy as np\n",
    "import torch as pt\n",
    "import matplotlib.pyplot as plt\n",
    "import sys\n",
    "sys.path.append('..\\src')\n",
    "from tfim_hamiltonian_open_fermion import TfimHamiltonianOpenFermion\n",
    "from bf_quantum_state import BFQuantumState"
   ],
   "metadata": {
    "collapsed": false,
    "pycharm": {
     "name": "#%%\n"
    }
   }
  },
  {
   "cell_type": "code",
   "execution_count": 8,
   "outputs": [],
   "source": [
    "def calc_ground_state_and_eigvals_open():\n",
    "    qubit_numbers = np.array([10, 12, 14])\n",
    "    ratios_h_j = np.array([0.01, 0.02, 0.05, 0.1,\n",
    "                           0.2, 0.5, 1, 2, 5, 10, 20, 50, 100], dtype=float)\n",
    "    energy_eig_vals_dict: dict = {}\n",
    "    ground_state_dict: dict = {}\n",
    "    for i in range(0, np.size(qubit_numbers)):\n",
    "        for j in range(0, np.size(ratios_h_j)):\n",
    "            energy_eig_vals, eigvecs = TfimHamiltonianOpenFermion(qubit_numbers[i], ratios_h_j[j], 1, 'open').diagonalize(3, True)\n",
    "            ground_state = pt.tensor(eigvecs[:, 0])\n",
    "            key = str(qubit_numbers[i]) + ' ' + str(ratios_h_j[j])\n",
    "            energy_eig_vals_dict[key] = energy_eig_vals\n",
    "            ground_state_dict[key] = ground_state\n",
    "    save_direc_eigs: str = 'data\\Diagonal_hamiltonian\\eigenvalues_open_first_three_dict.npy'\n",
    "    np.save(save_direc_eigs, energy_eig_vals_dict)\n",
    "    save_direc_groundstate: str = 'data\\Diagonal_hamiltonian\\groundstate_open_dict.npy'\n",
    "    np.save(save_direc_groundstate, ground_state_dict)\n",
    "calc_ground_state_and_eigvals_open()\n",
    "\n",
    "\n"
   ],
   "metadata": {
    "collapsed": false,
    "pycharm": {
     "name": "#%%\n"
    }
   }
  },
  {
   "cell_type": "code",
   "execution_count": null,
   "outputs": [],
   "source": [
    "def calc_ground_state_and_eigvals_periodic():\n",
    "    qubit_numbers = np.array([10, 12, 14])\n",
    "    ratios_h_j = np.array([0.01, 0.02, 0.05, 0.1,\n",
    "                           0.2, 0.5, 1, 2, 5, 10, 20, 50, 100], dtype=float)\n",
    "    energy_eig_vals_dict: dict = {}\n",
    "    ground_state_dict: dict = {}\n",
    "    for i in range(0, np.size(qubit_numbers)):\n",
    "        for j in range(0, np.size(ratios_h_j)):\n",
    "            energy_eig_vals, eigvecs = TfimHamiltonianOpenFermion(qubit_numbers[i], ratios_h_j[j], 1, 'periodic').diagonalize(3, True)\n",
    "            ground_state = pt.tensor(eigvecs[:, 0])\n",
    "            key = str(qubit_numbers[i]) + ' ' + str(ratios_h_j[j])\n",
    "            energy_eig_vals_dict[key] = energy_eig_vals\n",
    "            ground_state_dict[key] = ground_state\n",
    "    save_direc_eigs: str = 'data\\Diagonal_hamiltonian\\eigenvalues_periodic_first_three_dict.npy'\n",
    "    np.save(save_direc_eigs, energy_eig_vals_dict)\n",
    "    save_direc_groundstate: str = 'data\\Diagonal_hamiltonian\\groundstate_perioidc_dict.npy'\n",
    "    np.save(save_direc_groundstate, ground_state_dict)\n",
    "calc_ground_state_and_eigvals_open()"
   ],
   "metadata": {
    "collapsed": false,
    "pycharm": {
     "name": "#%%\n",
     "is_executing": true
    }
   }
  },
  {
   "cell_type": "markdown",
   "source": [
    "### ground state energy per qubit\n",
    "We would like to calculate the energy $E_0$ of the ground state divided by the number of\n",
    "qubits $N$. We then compare it with the value predicted by theory for periodic boundary\n",
    "conditions. The ground state energy is given by\n",
    "\n",
    "\\begin{equation}\n",
    "E_0 = - \\sum_{k>0} \\epsilon_k\n",
    "\\end{equation}\n",
    "\n",
    "where\n",
    "\n",
    "\\begin{equation}\n",
    "\\epsilon_k = 2J \\sqrt{(\\cos{k} - \\frac{h}{J})^2 + \\sin{k}^2}\n",
    "\\end{equation}.\n",
    "\n",
    "$k$ can take the values:\n",
    "\n",
    "\\begin{equation}\n",
    "k \\in (\\frac{(2n-1)\\pi}{N};   n=1, ..., N/2 )\n",
    "\\end{equation}\n",
    "\n",
    "$N$ is the number of qubits.\n",
    "\n",
    "We start with determining the ground state energy using our exact simulation."
   ],
   "metadata": {
    "collapsed": false,
    "pycharm": {
     "name": "#%% md\n"
    }
   }
  },
  {
   "cell_type": "code",
   "execution_count": null,
   "outputs": [],
   "source": [],
   "metadata": {
    "collapsed": false,
    "pycharm": {
     "name": "#%%\n"
    }
   }
  },
  {
   "cell_type": "code",
   "execution_count": null,
   "outputs": [],
   "source": [],
   "metadata": {
    "collapsed": false,
    "pycharm": {
     "name": "#%%\n"
    }
   }
  },
  {
   "cell_type": "markdown",
   "source": [
    "### Energy gap estimation\n",
    "We would like to calculate the energy gap $E_{gap}$ between the ground state energy\n",
    " $E_{ground}$ and the\n",
    "first excited state $E_{excited}$.\n",
    "\n",
    "For the case $J>h$ the coupling between the qubits is\n",
    "the dominant interaction and not the outer magnetic field. Thus, when measuring in the\n",
    "z-basis the spins are all aligned in one direction since this is the lowest energy state\n",
    "in the ferromagnetic case ($J<0$) that we consider here. The two configurations where all\n",
    "spins are pointing and where all spins are pointing down are equivalent. Thus, the ground\n",
    "state is two-fold-degenerate and the first two energy eigenvalues are the same. Therefore,\n",
    "the energy gap is given by $E_{gap} = E_2 - E_0$ where $E_0$ is the 0-th energy eigenvalue and\n",
    "$E_2$ is the second.\n",
    "\n",
    "$J = h$ is the point of the phase transition where the degenerate state starts to\n",
    "split up. The energy gap is still given by $E_{gap} = E_2 - E_0$.\n",
    "\n",
    "\n",
    "For the case $J < h $ the magnetic field is dominant and the ground state is not\n",
    "two-fold-degenerate anymore. Hence, the energy gap is given by $E_{gap} = E_1 - E_0$.\n",
    "\n",
    "In our simulation we obtain the energy gap by exactly diagonalizing the Hamiltonian\n",
    "from which we get the energy eigenvalues. First we assume open boundary conditions.\n",
    "\n"
   ],
   "metadata": {
    "collapsed": false
   }
  },
  {
   "cell_type": "code",
   "execution_count": 1,
   "outputs": [],
   "source": [],
   "metadata": {
    "collapsed": false,
    "pycharm": {
     "name": "#%%\n"
    }
   }
  },
  {
   "cell_type": "code",
   "execution_count": 2,
   "outputs": [],
   "source": [
    "def calculate_energy_gap_open_boundary():\n",
    "    ratios_h_j = np.array([0.01, 0.02, 0.05, 0.1, 0.2, 0.5, 1, 2, 5, 10, 20, 50, 100], dtype=float)\n",
    "    qubit_numbers = np.array([10, 12, 14])\n",
    "    energy_gaps_dict: dict = {}\n",
    "    for i in range(0, np.size(qubit_numbers)):\n",
    "        for j in range(0, np.size(ratios_h_j)):\n",
    "            energy_gap = TfimHamiltonianOpenFermion(qubit_numbers[i], ratios_h_j[j], 1, 'open').energygap()\n",
    "            key = str(qubit_numbers[i]) + ' ' + str(ratios_h_j[j])\n",
    "            energy_gaps_dict[key] = energy_gap\n",
    "    save_direc: str = 'data\\energygap\\energy_gap_open_dict.npy'\n",
    "    np.save(save_direc, energy_gaps_dict)\n"
   ],
   "metadata": {
    "collapsed": false,
    "pycharm": {
     "name": "#%%\n"
    }
   }
  },
  {
   "cell_type": "code",
   "execution_count": 3,
   "outputs": [
    {
     "data": {
      "text/plain": "<Figure size 432x288 with 1 Axes>",
      "image/png": "[encoded data removed]"
     },
     "metadata": {
      "needs_background": "light"
     },
     "output_type": "display_data"
    }
   ],
   "source": [
    "def plot_energy_gap_open_boundary():\n",
    "    ratios_h_j = np.array([0.01, 0.02, 0.05, 0.1, 0.2, 0.5, 1, 2, 5, 10, 20, 50, 100], dtype=float)\n",
    "    qubit_numbers = ([10, 12, 14])\n",
    "    save_direc: str = 'data\\energygap\\energy_gap_open_dict.npy'\n",
    "    energy_gaps_dict = np.load(save_direc, allow_pickle='TRUE')\n",
    "    energy_gaps_dict = energy_gaps_dict.item()\n",
    "    for i in range(0, np.size(qubit_numbers)):\n",
    "        energy_gaps = np.zeros(np.size(ratios_h_j))\n",
    "        for j in range(0, np.size(ratios_h_j)):\n",
    "            energy_gaps[j] = energy_gaps_dict[str(qubit_numbers[i]) + ' ' + str(ratios_h_j[j])]\n",
    "        plt.scatter(ratios_h_j, energy_gaps, label='qubit number ' + str(qubit_numbers[i]))\n",
    "    plt.xscale('log')\n",
    "    plt.yscale('log')\n",
    "    plt.title('energy gaps for different ratios h/J, open boundary')\n",
    "    plt.xlabel('ratios h/J (J=-1)')\n",
    "    plt.ylabel('energy gap in units of J')\n",
    "    plt.legend()\n",
    "    plot_save_direc = 'plots\\energy_gap_brute_force\\energy_gaps_open_boundary '\n",
    "    plt.savefig(plot_save_direc)\n",
    "plot_energy_gap_open_boundary()"
   ],
   "metadata": {
    "collapsed": false,
    "pycharm": {
     "name": "#%%\n"
    }
   }
  },
  {
   "cell_type": "markdown",
   "source": [
    "Now we assume periodic boundary conditions and do the same."
   ],
   "metadata": {
    "collapsed": false,
    "pycharm": {
     "name": "#%% md\n"
    }
   }
  },
  {
   "cell_type": "code",
   "execution_count": 4,
   "outputs": [],
   "source": [
    "def calculate_energy_gap_periodic_boundary():\n",
    "    ratios_h_j = np.array([0.01, 0.02, 0.05, 0.1, 0.2, 0.5, 1, 2, 5, 10, 20, 50, 100], dtype=float)\n",
    "    qubit_numbers = np.array([10, 12, 14])\n",
    "    energy_gaps_dict: dict = {}\n",
    "    for i in range(0, np.size(qubit_numbers)):\n",
    "        for j in range(0, np.size(ratios_h_j)):\n",
    "            energy_gap = TfimHamiltonianOpenFermion(qubit_numbers[i], ratios_h_j[j], 1, 'periodic').energygap()\n",
    "            key = str(qubit_numbers[i]) + ' ' + str(ratios_h_j[j])\n",
    "            energy_gaps_dict[key] = energy_gap\n",
    "    save_direc: str = 'data\\energygap\\energy_gap_periodic_dict.npy'\n",
    "    np.save(save_direc, energy_gaps_dict)"
   ],
   "metadata": {
    "collapsed": false,
    "pycharm": {
     "name": "#%%\n"
    }
   }
  },
  {
   "cell_type": "code",
   "execution_count": 6,
   "outputs": [
    {
     "data": {
      "text/plain": "<Figure size 432x288 with 1 Axes>",
      "image/png": "[encoded data removed]"
     },
     "metadata": {
      "needs_background": "light"
     },
     "output_type": "display_data"
    }
   ],
   "source": [
    "def plot_energy_gap_periodic_boundary():\n",
    "    ratios_h_j = np.array([0.01, 0.02, 0.05, 0.1, 0.2, 0.5, 1, 2, 5, 10, 20, 50, 100], dtype=float)\n",
    "    qubit_numbers = ([10, 12, 14])\n",
    "    save_direc: str = 'data\\energygap\\energy_gap_periodic_dict.npy'\n",
    "    energy_gaps_dict = np.load(save_direc, allow_pickle='TRUE')\n",
    "    energy_gaps_dict = energy_gaps_dict.item()\n",
    "    for i in range(0, np.size(qubit_numbers)):\n",
    "        energy_gaps = np.zeros(np.size(ratios_h_j))\n",
    "        for j in range(0, np.size(ratios_h_j)):\n",
    "            energy_gaps[j] = energy_gaps_dict[str(qubit_numbers[i]) + ' ' + str(ratios_h_j[j])]\n",
    "        plt.scatter(ratios_h_j, energy_gaps, label='qubit number ' + str(qubit_numbers[i]))\n",
    "    plt.xscale('log')\n",
    "    plt.yscale('log')\n",
    "    plt.title('energy gaps for different ratios h/J, periodic boundary')\n",
    "    plt.xlabel('ratios h/J (J=-1)')\n",
    "    plt.ylabel('energy gap in units of J')\n",
    "    plt.legend()\n",
    "    plot_save_direc = 'plots\\energy_gap_brute_force\\energy_gaps_periodic_boundary '\n",
    "    plt.savefig(plot_save_direc)\n",
    "plot_energy_gap_periodic_boundary()"
   ],
   "metadata": {
    "collapsed": false,
    "pycharm": {
     "name": "#%%\n"
    }
   }
  },
  {
   "cell_type": "markdown",
   "source": [
    "Now we would like to see how $E_{gap}$ depends on the choice of the boundary condition.\n",
    "To see this we plot the difference of the energy gaps for both cases $|E_{gap-periodic} -\n",
    "E_{gap-open}|$."
   ],
   "metadata": {
    "collapsed": false,
    "pycharm": {
     "name": "#%% md\n"
    }
   }
  },
  {
   "cell_type": "code",
   "execution_count": 8,
   "outputs": [
    {
     "data": {
      "text/plain": "<Figure size 432x288 with 1 Axes>",
      "image/png": "[encoded data removed]"
     },
     "metadata": {
      "needs_background": "light"
     },
     "output_type": "display_data"
    }
   ],
   "source": [
    "def plot_energy_gap_difference_open_periodic():\n",
    "    ratios_h_j = np.array([0.01, 0.02, 0.05, 0.1, 0.2, 0.5, 1, 2, 5, 10, 20, 50, 100], dtype=float)\n",
    "    qubit_numbers = ([10, 12, 14])\n",
    "    save_direc: str = 'data\\energygap\\energy_gap_periodic_dict.npy'\n",
    "    energy_gaps_dict_periodic = np.load(save_direc, allow_pickle='TRUE')\n",
    "    energy_gaps_dict_periodic = energy_gaps_dict_periodic.item()\n",
    "    save_direc: str = 'data\\energygap\\energy_gap_open_dict.npy'\n",
    "    energy_gaps_dict_open = np.load(save_direc, allow_pickle='TRUE')\n",
    "    energy_gaps_dict_open = energy_gaps_dict_open.item()\n",
    "    for i in range(0, np.size(qubit_numbers)):\n",
    "        energy_difference = np.zeros(np.size(ratios_h_j))\n",
    "        for j in range(0, np.size(ratios_h_j)):\n",
    "            energy_difference[j] = np.abs(energy_gaps_dict_periodic[str(qubit_numbers[i]) +\n",
    "                                                                    ' ' + str(ratios_h_j[j])] -\n",
    "                                          energy_gaps_dict_open[str(qubit_numbers[i]) +\n",
    "                                                                ' ' + str(ratios_h_j[j])])\n",
    "        plt.scatter(ratios_h_j, energy_difference, label='qubit number ' + str(qubit_numbers[i]))\n",
    "    plt.xscale('log')\n",
    "    plt.yscale('log')\n",
    "    plt.title('difference in the energy gap for open and periodic boundary')\n",
    "    plt.xlabel('ratios h/J (J=-1)')\n",
    "    plt.ylabel('energy difference in units of J')\n",
    "    plt.legend()\n",
    "    plot_save_direc = 'plots\\energy_gap_brute_force\\energy_difference_open_periodic '\n",
    "    plt.savefig(plot_save_direc)\n",
    "plot_energy_gap_difference_open_periodic()"
   ],
   "metadata": {
    "collapsed": false,
    "pycharm": {
     "name": "#%%\n"
    }
   }
  },
  {
   "cell_type": "markdown",
   "source": [
    "  From this we can see that the\n",
    " energy difference for $\\frac{h}{J}<1$ is strongly influenced by the choice of the\n",
    " boundary condition whereas it is only weakly influenced for $\\frac{h}{J} > 1$.\n",
    " This makes sense since only the first sum in the Hamiltonian\n",
    " $J \\sum_{i=1}^{N-1} \\sigma_i^z \\sigma_{i+1}^z$ is influenced by whether we\n",
    " take periodic or open boundary conditions."
   ],
   "metadata": {
    "collapsed": false,
    "pycharm": {
     "name": "#%% md\n"
    }
   }
  },
  {
   "cell_type": "markdown",
   "source": [
    "Now we would like to compare the energy gaps we calculated by exact diagonalization\n",
    "with those predicted by theory. In the occupation number representation the possible\n",
    "energies of the system are given by:\n",
    "\n",
    "\\begin{equation}\n",
    "E_{n_k} = E_0 + \\sum_k n_k \\epsilon_k\n",
    "\\end{equation}\n",
    "\n",
    "where $E_0$ is the ground state $n_k$ are the occupation numbers and $\\epsilon_k$ are\n",
    "the energy eigenvalues given by:\n",
    "\n",
    "\\begin{equation}\n",
    "\\epsilon_k = 2J \\sqrt{(\\cos{k} - \\frac{h}{J})^2 + \\sin{k}^2}\n",
    "\\end{equation}.\n",
    "\n",
    "$k$ can take the values:\n",
    "\n",
    "\\begin{equation}\n",
    "k \\in (\\frac{(2n-1)\\pi}{N};   n=1, ..., N/2 )\n",
    "\\end{equation}\n",
    "\n",
    "$N$ is the number of qubits.\n",
    "\n",
    "Comparison to be continued...\n"
   ],
   "metadata": {
    "collapsed": false,
    "pycharm": {
     "name": "#%% md\n"
    }
   }
  },
  {
   "cell_type": "markdown",
   "source": [
    "### Two point correlation of the ground state $\\Psi_0$\n",
    "The two point correlation between two qubits in the ground state $\\Psi_0$ is defined by\n",
    "$\\langle \\Psi_0 | \\sigma_0^z \\sigma_i^z |\\Psi_0 \\rangle$. We calculate the two point\n",
    "correlations for different distances $i$ and investigate how the correlation decays for\n",
    "different ratios $\\frac{h}{J}$. We choose open boundary conditions."
   ],
   "metadata": {
    "collapsed": false
   }
  },
  {
   "cell_type": "code",
   "execution_count": 5,
   "outputs": [],
   "source": [
    "def calc_two_point_correlation():\n",
    "    ratios_h_j = np.array([0.01, 0.02, 0.05, 0.1, 0.2, 0.5, 1, 2, 5, 10, 20, 50, 100], dtype=float)\n",
    "    qubit_num = np.array([10, 12, 14])\n",
    "    correlations: dict = {}\n",
    "    for i in range(0, np.size(qubit_num)):\n",
    "        distance = np.arange(0, qubit_num[i], 1)\n",
    "        for j in range(0, np.size(ratios_h_j)):\n",
    "            ground_state = TfimHamiltonianOpenFermion(qubit_num[i], ratios_h_j[j],\n",
    "                                                      1, 'open').ground_state_wavevector()\n",
    "            for m in range(0, qubit_num[i]):\n",
    "                correlation = BFQuantumState(qubit_num[i], ground_state).two_point_correlation(distance[m])\n",
    "                key = str(qubit_num[i]) + ' ' + str(ratios_h_j[j]) + ' ' + str(distance[m])\n",
    "                correlations[key] = correlation\n",
    "\n",
    "    save_direc = 'data\\Twopointcorrelation\\Two_point_correlation_dict.npy'\n",
    "    np.save(save_direc, correlations)\n",
    "calc_two_point_correlation()\n"
   ],
   "metadata": {
    "collapsed": false,
    "pycharm": {
     "name": "#%%\n"
    }
   }
  },
  {
   "cell_type": "markdown",
   "source": [
    "As an example we plot the two point correlation for 14 qubits and for different ratios of\n",
    "$\\frac{h}{J}$.\n"
   ],
   "metadata": {
    "collapsed": false,
    "pycharm": {
     "name": "#%% md\n"
    }
   }
  },
  {
   "cell_type": "code",
   "execution_count": 22,
   "outputs": [
    {
     "data": {
      "text/plain": "<Figure size 432x288 with 1 Axes>",
      "image/png": "[encoded data removed]"
     },
     "metadata": {
      "needs_background": "light"
     },
     "output_type": "display_data"
    }
   ],
   "source": [
    "def plot_two_point_correlation():\n",
    "    qubit_num = 14\n",
    "    ratios = np.array([0.2, 1, 5])\n",
    "    for i in range(0, np.size(ratios)):\n",
    "        save_direc = 'data\\Twopointcorrelation\\Two_point_correlation_dict.npy'\n",
    "        correlations_dict = np.load(save_direc, allow_pickle='TRUE')\n",
    "        correlations_dict = correlations_dict.item()\n",
    "        distance = np.arange(0, qubit_num, 1)\n",
    "        correlations = np.zeros(qubit_num)\n",
    "        for j in range(0, qubit_num):\n",
    "            correlations[j] = correlations_dict[str(qubit_num) + ' ' + str(ratios[i]) + ' ' + str(distance[j])]\n",
    "        plt.scatter(distance, np.abs(correlations), label='ratio h/J = ' + str(ratios[i]))\n",
    "    plt.yscale('log')\n",
    "    plt.title('two point correlation for different distances and ratios')\n",
    "    plt.xlabel('distance, j-th neighbour')\n",
    "    plt.ylabel('two_point_correlation')\n",
    "    plt.legend()\n",
    "    plot_save_direc = 'plots\\Two_point_correlation_brute_force\\correlation_for_ratio ' + str(ratios).replace('.',\n",
    "                                                                                                             ',') + ' and qubit number ' + str(\n",
    "        qubit_num)\n",
    "    plt.savefig(plot_save_direc)\n",
    "\n",
    "plot_two_point_correlation()"
   ],
   "metadata": {
    "collapsed": false,
    "pycharm": {
     "name": "#%%\n"
    }
   }
  },
  {
   "cell_type": "markdown",
   "source": [
    "From this we can see that for $\\frac{h}{J} > 1$ the correlation decays exponentially\n",
    "while it decays polynomially for $\\frac{h}{J} <= 1$. The reason for this is that for\n",
    "$\\frac{h}{J} > 1$ all spins are either pointing up or down as already discussed. Thus, the\n",
    "system is mostly in the state $\\Psi_0 = \\frac{1}{\\sqrt{2}} |00 ... 0 \\rangle \\pm |11 ... 1 \\rangle$.\n",
    "Therefore, we know the state of qubit $i$ with almost perfect certainty when we learn\n",
    "about the state of qubit $0$ in the z-basis.\n",
    "\n",
    "For $\\frac{h}{J} < 1$ the qubits start to align with the magnetic field and converge\n",
    "towards the state $\\Psi_0 = |++ ... + \\rangle$ where $|+ \\rangle = \\frac{1}{\\sqrt{2}}\n",
    "|0 \\rangle + |1 \\rangle$. Thus, when measuring the correlation in the z-basis the\n",
    "system converges towards a perfectly uncorrelated state for $h \\rightarrow \\infty $.\n",
    "\n",
    "For $\\frac{h}{J} = 1$ we are still mostly in the perfectly correlated state\n",
    "$\\Psi_0 = \\frac{1}{\\sqrt{2}} |00 ... 0 \\rangle \\pm |11 ... 1 \\rangle and hence\n",
    "the correlation decays slower than exponentially.\n"
   ],
   "metadata": {
    "collapsed": false,
    "pycharm": {
     "name": "#%% md\n"
    }
   }
  },
  {
   "cell_type": "markdown",
   "source": [
    "### Correlation length\n",
    "Now we would like to see after which distance the correlation\n",
    "$\\langle \\Psi_0 | \\sigma_0^z \\sigma_i^z |\\Psi_0 \\rangle$ has decayed by\n",
    "$\\frac{1}{e}$. We call this distance the correlation length."
   ],
   "metadata": {
    "collapsed": false
   }
  },
  {
   "cell_type": "code",
   "execution_count": 2,
   "outputs": [],
   "source": [
    "def calc_correlation_length():\n",
    "    qubit_num = np.array([10, 12, 14])\n",
    "    ratios_h_j = np.array([0.01, 0.02, 0.05, 0.1, 0.2, 0.5, 1, 2, 5, 10, 20, 50, 100], dtype=float)\n",
    "    correlation_length_dict: dict = {}\n",
    "    for i in range(0, np.size(qubit_num)):\n",
    "        for j in range(0, np.size(ratios_h_j)):\n",
    "            key = str(qubit_num[i]) + ' ' + str(ratios_h_j[j])\n",
    "            ground_state = TfimHamiltonianOpenFermion(qubit_num[i],ratios_h_j[j],\n",
    "                                                      1, 'open').ground_state_wavevector()\n",
    "            correlation_length = BFQuantumState(qubit_num[i], ground_state).correlation_length()\n",
    "            correlation_length_dict[key] = correlation_length\n",
    "    save_direc = 'data\\CorrelationLength\\Correlation_length_dict.npy'\n",
    "    np.save(save_direc, correlation_length_dict)\n",
    "calc_correlation_length()"
   ],
   "metadata": {
    "collapsed": false,
    "pycharm": {
     "name": "#%%\n"
    }
   }
  },
  {
   "cell_type": "code",
   "execution_count": 5,
   "outputs": [
    {
     "data": {
      "text/plain": "<Figure size 432x288 with 1 Axes>",
      "image/png": "[encoded data removed]"
     },
     "metadata": {
      "needs_background": "light"
     },
     "output_type": "display_data"
    }
   ],
   "source": [
    "def plot_correlation_length():\n",
    "    qubit_num = np.array([10, 12, 14])\n",
    "    ratios_h_j = np.array([0.01, 0.02, 0.05, 0.1, 0.2, 0.5, 1, 2, 5, 10, 20, 50, 100], dtype=float)\n",
    "    save_direc: str = 'data\\CorrelationLength\\Correlation_length_dict.npy'\n",
    "    correlation_length_dict = np.load(save_direc, allow_pickle='TRUE')\n",
    "    correlation_length_dict = correlation_length_dict.item()\n",
    "    for i in range(0, np.size(qubit_num)):\n",
    "        correlation_length = np.zeros(np.size(ratios_h_j))\n",
    "        for j in range(0, np.size(ratios_h_j)):\n",
    "                correlation_length[j] = correlation_length_dict[str(qubit_num[i]) + ' ' + str(ratios_h_j[j])]\n",
    "        plt.scatter(ratios_h_j, correlation_length, label='qubit number = ' + str(qubit_num[i]))\n",
    "    plt.xscale('log')\n",
    "    plt.title('correlation lengths for different qubit numbers and ratios h/J')\n",
    "    plt.xlabel('ratios h/J (J=-1)')\n",
    "    plt.ylabel('correlation length')\n",
    "    plt.legend()\n",
    "    plot_save_direc = 'plots\\Correlation_length\\correlation_lengths_for_qubit_numbers ' + str(qubit_num)\n",
    "    plt.savefig(plot_save_direc)\n",
    "plot_correlation_length()"
   ],
   "metadata": {
    "collapsed": false,
    "pycharm": {
     "name": "#%%\n"
    }
   }
  },
  {
   "cell_type": "markdown",
   "source": [
    "Values for which the correlation does not decay to $\\frac{1}{e}$ are not displayed at all.\n",
    "We can see that only for $\\frac{h}{J} >= 1$ the correlation decays fast enough to\n",
    "reach $\\frac{1}{e}$. It might be interesting to investigate the region around $\\frac{h}{J} = 1$\n",
    "closer or to increase the decay threshold $\\frac{1}{e}$ to see how more\n",
    "clearly how the correlation length decays.\n"
   ],
   "metadata": {
    "collapsed": false,
    "pycharm": {
     "name": "#%% md\n"
    }
   }
  },
  {
   "cell_type": "markdown",
   "source": [
    "### Entanglement entropy\n",
    "The entanglement entropy is defined as S = $- Tr (\\rho_A \\log \\rho_A)$ where $\\rho_A = Tr_B \\rho_{AB}$.\n",
    "Subsystem A contains the first $\\frac{N}{2}$ qubits and subsystem B the last $\\frac{N}{2}$ qubits.\n",
    " We calculate the entanglement entropy for different ratios of $\\frac{h}{j}$ and qubit\n",
    " numbers N in the ground state $\\Psi_0$. We choose open boundary conditions.\n",
    "\n"
   ],
   "metadata": {
    "collapsed": false,
    "pycharm": {
     "name": "#%% md\n"
    }
   }
  },
  {
   "cell_type": "code",
   "execution_count": 4,
   "outputs": [],
   "source": [
    "def calc_entanglement_entropy():\n",
    "    qubit_num = np.array([10, 12, 14, 16])\n",
    "    ratios = np.array([0.01, 0.02, 0.05, 0.1, 0.2, 0.5, 1, 2, 5, 10, 20, 50, 100])\n",
    "    entropies_dict: dict = {}\n",
    "    for i in range(0, np.size(qubit_num)):\n",
    "        for j in range(0, np.size(ratios)):\n",
    "            ground_state = TfimHamiltonianOpenFermion(qubit_num[i], ratios[j], 1, 'open').ground_state_wavevector()\n",
    "            entropy = BFQuantumState(qubit_num[i], ground_state).entanglement_entropy()\n",
    "            key = str(qubit_num[i]) + ' ' + str(ratios[j])\n",
    "            entropies_dict[key] = entropy\n",
    "    save_direc = 'data\\Entanglement_entropy_brute_force\\Ent_entropies_dict.npy'\n",
    "    np.save(save_direc, entropies_dict)\n",
    "calc_entanglement_entropy()"
   ],
   "metadata": {
    "collapsed": false,
    "pycharm": {
     "name": "#%%\n"
    }
   }
  },
  {
   "cell_type": "code",
   "execution_count": 10,
   "outputs": [
    {
     "data": {
      "text/plain": "<Figure size 432x288 with 1 Axes>",
      "image/png": "[encoded data removed]"
     },
     "metadata": {
      "needs_background": "light"
     },
     "output_type": "display_data"
    }
   ],
   "source": [
    "def plot_entanglement_entropy():\n",
    "    qubit_num = np.array([10, 12, 14, 16])\n",
    "    ratios = np.array([0.01, 0.02, 0.05, 0.1, 0.2, 0.5, 1, 2, 5, 10, 20, 50, 100])\n",
    "    save_direc = 'data\\Entanglement_entropy_brute_force\\Ent_entropies_dict.npy'\n",
    "    entropies_dict = np.load(save_direc, allow_pickle='TRUE')\n",
    "    entropies_dict = entropies_dict.item()\n",
    "    for i in range(0, np.size(qubit_num)):\n",
    "        entropies = np.zeros(np.size(ratios))\n",
    "        for j in range(0, np.size(ratios)):\n",
    "            entropies[j] = entropies_dict[str(qubit_num[i]) + ' ' + str(ratios[j])]\n",
    "        plt.scatter(ratios, entropies, label='qubit number = ' + str(qubit_num[i]))\n",
    "    plt.xscale('log')\n",
    "    plt.yscale('log')\n",
    "    plt.title('entanglement entropy for different ratios h/J')\n",
    "    plt.xlabel('ratio h/J')\n",
    "    plt.ylabel('entanglement entropy')\n",
    "    plt.legend()\n",
    "    plot_save_direc = 'plots\\Entanglement_entropy_brute_force\\entropies_for qubit numbers ' + str(qubit_num)\n",
    "    plt.savefig(plot_save_direc)\n",
    "plot_entanglement_entropy()"
   ],
   "metadata": {
    "collapsed": false,
    "pycharm": {
     "name": "#%%\n"
    }
   }
  },
  {
   "cell_type": "markdown",
   "source": [
    "For $\\frac{h}{J}<1$ the systems ground state is\n",
    " $\\Psi_0 = \\frac{1}{\\sqrt{2}} |00 ... 0 \\rangle \\pm |11 ... 1 \\rangle$. Thus, we\n",
    " are in a maximally entangled state.\n",
    " For $\\frac{h}{J}>1$ the ground state converges towards\n",
    " the state $\\Psi_0 = |++ ... + \\rangle$ where $|+ \\rangle = \\frac{1}{\\sqrt{2}}\n",
    "|0 \\rangle + |1 \\rangle$ which is not entangled. Hence, we can understand the overall\n",
    "shape of the curve.\n",
    "\n",
    "Open question: Why is there a local minimum at $\\frac{h}{J} \\approx 0.02$ ? Why is it\n",
    "getting more pronounced for more qubits?\n",
    "\n",
    "We investigate whether the minimum also shows up for periodic boundary conditions."
   ],
   "metadata": {
    "collapsed": false,
    "pycharm": {
     "name": "#%% md\n"
    }
   }
  },
  {
   "cell_type": "code",
   "execution_count": 12,
   "outputs": [],
   "source": [
    "def calc_entanglement_entropy_periodic():\n",
    "    qubit_num = np.array([10, 12, 14])\n",
    "    ratios = np.array([0.01, 0.02, 0.05, 0.1, 0.2, 0.5, 1, 2, 5, 10, 20, 50, 100])\n",
    "    entropies_dict: dict = {}\n",
    "    for i in range(0, np.size(qubit_num)):\n",
    "        for j in range(0, np.size(ratios)):\n",
    "            ground_state = TfimHamiltonianOpenFermion(qubit_num[i], ratios[j], 1, 'periodic').ground_state_wavevector()\n",
    "            entropy = BFQuantumState(qubit_num[i], ground_state).entanglement_entropy()\n",
    "            key = str(qubit_num[i]) + ' ' + str(ratios[j])\n",
    "            entropies_dict[key] = entropy\n",
    "    save_direc = 'data\\Entanglement_entropy_brute_force\\Ent_entropies_dict_periodic.npy'\n",
    "    np.save(save_direc, entropies_dict)"
   ],
   "metadata": {
    "collapsed": false,
    "pycharm": {
     "name": "#%%\n"
    }
   }
  },
  {
   "cell_type": "code",
   "execution_count": 14,
   "outputs": [
    {
     "data": {
      "text/plain": "<Figure size 432x288 with 1 Axes>",
      "image/png": "[encoded data removed]"
     },
     "metadata": {
      "needs_background": "light"
     },
     "output_type": "display_data"
    }
   ],
   "source": [
    "def plot_entanglement_entropy_periodic():\n",
    "    qubit_num = np.array([10, 12, 14])\n",
    "    ratios = np.array([0.01, 0.02, 0.05, 0.1, 0.2, 0.5, 1, 2, 5, 10, 20, 50, 100])\n",
    "    save_direc = 'data\\Entanglement_entropy_brute_force\\Ent_entropies_dict_periodic.npy'\n",
    "    entropies_dict = np.load(save_direc, allow_pickle='TRUE')\n",
    "    entropies_dict = entropies_dict.item()\n",
    "    for i in range(0, np.size(qubit_num)):\n",
    "        entropies = np.zeros(np.size(ratios))\n",
    "        for j in range(0, np.size(ratios)):\n",
    "            entropies[j] = entropies_dict[str(qubit_num[i]) + ' ' + str(ratios[j])]\n",
    "        plt.scatter(ratios, entropies, label='qubit number = ' + str(qubit_num[i]))\n",
    "    plt.xscale('log')\n",
    "    plt.yscale('log')\n",
    "    plt.title('entanglement entropy for different ratios h/J, periodic boundary')\n",
    "    plt.xlabel('ratio h/J')\n",
    "    plt.ylabel('entanglement entropy')\n",
    "    plt.legend()\n",
    "    plot_save_direc = 'plots\\Entanglement_entropy_brute_force\\entropies_periodic_boundary_for qubit numbers ' + str(qubit_num)\n",
    "    plt.savefig(plot_save_direc)\n",
    "plot_entanglement_entropy_periodic()"
   ],
   "metadata": {
    "collapsed": false,
    "pycharm": {
     "name": "#%%\n"
    }
   }
  },
  {
   "cell_type": "markdown",
   "source": [
    "We obtain a similar shape with the same local minimum."
   ],
   "metadata": {
    "collapsed": false,
    "pycharm": {
     "name": "#%% md\n"
    }
   }
  },
  {
   "cell_type": "code",
   "execution_count": null,
   "outputs": [],
   "source": [],
   "metadata": {
    "collapsed": false,
    "pycharm": {
     "name": "#%%\n"
    }
   }
  }
 ],
 "metadata": {
  "kernelspec": {
   "display_name": "Python 3",
   "language": "python",
   "name": "python3"
  },
  "language_info": {
   "codemirror_mode": {
    "name": "ipython",
    "version": 2
   },
   "file_extension": ".py",
   "mimetype": "text/x-python",
   "name": "python",
   "nbconvert_exporter": "python",
   "pygments_lexer": "ipython2",
   "version": "2.7.6"
  }
 },
 "nbformat": 4,
 "nbformat_minor": 0
}